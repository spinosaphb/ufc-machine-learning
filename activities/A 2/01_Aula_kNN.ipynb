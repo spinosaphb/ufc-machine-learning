{
  "nbformat": 4,
  "nbformat_minor": 0,
  "metadata": {
    "colab": {
      "name": "01-Aula kNN.ipynb",
      "provenance": [],
      "collapsed_sections": []
    },
    "kernelspec": {
      "name": "python3",
      "display_name": "Python 3"
    },
    "language_info": {
      "name": "python"
    }
  },
  "cells": [
    {
      "source": [
        "<a href=\"https://colab.research.google.com/github/spinosaphb/ufc-machine-learning/blob/main/activities/A1/A1B_DS0_0.ipynb\" target=\"_parent\"><img src=\"https://colab.research.google.com/assets/colab-badge.svg\" alt=\"Open In Colab\"/></a>"
      ],
      "cell_type": "markdown",
      "metadata": {}
    },
    {
      "cell_type": "markdown",
      "metadata": {
        "id": "8x697FqmFDeO"
      },
      "source": [
        "# kNN - k Nearest Neighbors - k Vizinhos mais próximos"
      ]
    },
    {
      "cell_type": "markdown",
      "metadata": {
        "id": "pD0c0dgSFQBO"
      },
      "source": [
        "## Importação de módulos python\n"
      ]
    },
    {
      "cell_type": "code",
      "metadata": {
        "id": "bfvFxUIHwNhp"
      },
      "source": [
        "import sklearn\n",
        "from sklearn import datasets\n",
        "from sklearn.model_selection import train_test_split\n",
        "import numpy as np\n",
        "from sklearn.neighbors import KNeighborsClassifier"
      ],
      "execution_count": null,
      "outputs": []
    },
    {
      "cell_type": "markdown",
      "metadata": {
        "id": "kl3uo2lbFd-z"
      },
      "source": [
        "## Carregamento dos dados como dicionário Python\n"
      ]
    },
    {
      "cell_type": "code",
      "metadata": {
        "id": "V2k_5ur_wnEa"
      },
      "source": [
        "dados = datasets.load_iris()"
      ],
      "execution_count": null,
      "outputs": []
    },
    {
      "cell_type": "code",
      "metadata": {
        "colab": {
          "base_uri": "https://localhost:8080/"
        },
        "id": "a_wLya1sxAh9",
        "outputId": "526673d4-f43a-4ea5-b195-84f21f79bee5"
      },
      "source": [
        "dados.keys()"
      ],
      "execution_count": null,
      "outputs": [
        {
          "output_type": "execute_result",
          "data": {
            "text/plain": [
              "dict_keys(['data', 'target', 'target_names', 'DESCR', 'feature_names', 'filename'])"
            ]
          },
          "metadata": {
            "tags": []
          },
          "execution_count": 3
        }
      ]
    },
    {
      "cell_type": "code",
      "metadata": {
        "colab": {
          "base_uri": "https://localhost:8080/"
        },
        "id": "g7pVzN-xxs2K",
        "outputId": "ffce4886-d966-4e91-9b9a-c1df313d98d3"
      },
      "source": [
        "print(dados['target_names'])"
      ],
      "execution_count": null,
      "outputs": [
        {
          "output_type": "stream",
          "text": [
            "['setosa' 'versicolor' 'virginica']\n"
          ],
          "name": "stdout"
        }
      ]
    },
    {
      "cell_type": "markdown",
      "metadata": {
        "id": "MsvDQkmmFwfu"
      },
      "source": [
        "## Carregamento dos dados como matriz X de features e vetor y de rótulos "
      ]
    },
    {
      "cell_type": "code",
      "metadata": {
        "id": "jrlWbJsPx1a6"
      },
      "source": [
        "X, y = datasets.load_iris(return_X_y=True)"
      ],
      "execution_count": null,
      "outputs": []
    },
    {
      "cell_type": "code",
      "metadata": {
        "colab": {
          "base_uri": "https://localhost:8080/"
        },
        "id": "nW8_pfl5ydB0",
        "outputId": "9e9411bc-c56f-4eb7-ad1d-23b62b0396e3"
      },
      "source": [
        "y"
      ],
      "execution_count": null,
      "outputs": [
        {
          "output_type": "execute_result",
          "data": {
            "text/plain": [
              "array([0, 0, 0, 0, 0, 0, 0, 0, 0, 0, 0, 0, 0, 0, 0, 0, 0, 0, 0, 0, 0, 0,\n",
              "       0, 0, 0, 0, 0, 0, 0, 0, 0, 0, 0, 0, 0, 0, 0, 0, 0, 0, 0, 0, 0, 0,\n",
              "       0, 0, 0, 0, 0, 0, 1, 1, 1, 1, 1, 1, 1, 1, 1, 1, 1, 1, 1, 1, 1, 1,\n",
              "       1, 1, 1, 1, 1, 1, 1, 1, 1, 1, 1, 1, 1, 1, 1, 1, 1, 1, 1, 1, 1, 1,\n",
              "       1, 1, 1, 1, 1, 1, 1, 1, 1, 1, 1, 1, 2, 2, 2, 2, 2, 2, 2, 2, 2, 2,\n",
              "       2, 2, 2, 2, 2, 2, 2, 2, 2, 2, 2, 2, 2, 2, 2, 2, 2, 2, 2, 2, 2, 2,\n",
              "       2, 2, 2, 2, 2, 2, 2, 2, 2, 2, 2, 2, 2, 2, 2, 2, 2, 2])"
            ]
          },
          "metadata": {
            "tags": []
          },
          "execution_count": 6
        }
      ]
    },
    {
      "cell_type": "code",
      "metadata": {
        "colab": {
          "base_uri": "https://localhost:8080/"
        },
        "id": "d-dS7uMZyd4P",
        "outputId": "342534d7-deb2-47aa-d504-22027c7289f8"
      },
      "source": [
        "X.shape"
      ],
      "execution_count": null,
      "outputs": [
        {
          "output_type": "execute_result",
          "data": {
            "text/plain": [
              "(150, 4)"
            ]
          },
          "metadata": {
            "tags": []
          },
          "execution_count": 7
        }
      ]
    },
    {
      "cell_type": "code",
      "metadata": {
        "colab": {
          "base_uri": "https://localhost:8080/"
        },
        "id": "v66YWoJiyuBW",
        "outputId": "53fb922b-ab43-42d1-ea81-2be34263019d"
      },
      "source": [
        "y.shape"
      ],
      "execution_count": null,
      "outputs": [
        {
          "output_type": "execute_result",
          "data": {
            "text/plain": [
              "(150,)"
            ]
          },
          "metadata": {
            "tags": []
          },
          "execution_count": 8
        }
      ]
    },
    {
      "cell_type": "code",
      "metadata": {
        "colab": {
          "base_uri": "https://localhost:8080/"
        },
        "id": "230gddROy6Kr",
        "outputId": "19c9aa20-e3ff-4a03-ceeb-246cecb33bca"
      },
      "source": [
        "X[0]"
      ],
      "execution_count": null,
      "outputs": [
        {
          "output_type": "execute_result",
          "data": {
            "text/plain": [
              "array([5.1, 3.5, 1.4, 0.2])"
            ]
          },
          "metadata": {
            "tags": []
          },
          "execution_count": 9
        }
      ]
    },
    {
      "cell_type": "code",
      "metadata": {
        "colab": {
          "base_uri": "https://localhost:8080/"
        },
        "id": "uaK8qARUzEF3",
        "outputId": "f802f94a-621a-4699-9d01-b857007f9d34"
      },
      "source": [
        "y[0]"
      ],
      "execution_count": null,
      "outputs": [
        {
          "output_type": "execute_result",
          "data": {
            "text/plain": [
              "0"
            ]
          },
          "metadata": {
            "tags": []
          },
          "execution_count": 10
        }
      ]
    },
    {
      "cell_type": "markdown",
      "metadata": {
        "id": "0FJyw7mAF9Q5"
      },
      "source": [
        "## Separação entre conjunto de treino e conjunto de teste"
      ]
    },
    {
      "cell_type": "code",
      "metadata": {
        "id": "vU35VGz9zXJr"
      },
      "source": [
        "X_treino, X_teste, y_treino, y_teste = train_test_split(X, y, test_size=0.9, random_state=42, stratify=y)"
      ],
      "execution_count": null,
      "outputs": []
    },
    {
      "cell_type": "code",
      "metadata": {
        "colab": {
          "base_uri": "https://localhost:8080/"
        },
        "id": "eKA8uz3m1j10",
        "outputId": "b1ca5cfb-6bb1-4608-da69-251cbb89509e"
      },
      "source": [
        "y_treino"
      ],
      "execution_count": null,
      "outputs": [
        {
          "output_type": "execute_result",
          "data": {
            "text/plain": [
              "array([1, 1, 0, 1, 0, 2, 0, 2, 1, 0, 1, 0, 2, 2, 2])"
            ]
          },
          "metadata": {
            "tags": []
          },
          "execution_count": 12
        }
      ]
    },
    {
      "cell_type": "code",
      "metadata": {
        "colab": {
          "base_uri": "https://localhost:8080/"
        },
        "id": "7YAvH3vE1nNy",
        "outputId": "13226a5d-f5b0-4d59-bfab-794801113605"
      },
      "source": [
        "y_teste"
      ],
      "execution_count": null,
      "outputs": [
        {
          "output_type": "execute_result",
          "data": {
            "text/plain": [
              "array([0, 0, 0, 0, 1, 0, 1, 2, 0, 2, 1, 0, 0, 1, 0, 0, 0, 1, 0, 0, 2, 1,\n",
              "       1, 2, 1, 2, 1, 2, 0, 2, 1, 0, 2, 1, 1, 2, 1, 1, 0, 2, 0, 0, 0, 2,\n",
              "       1, 1, 1, 0, 2, 0, 0, 0, 2, 0, 2, 1, 1, 1, 0, 1, 0, 1, 1, 0, 2, 1,\n",
              "       0, 0, 2, 0, 0, 2, 1, 1, 2, 2, 2, 2, 1, 2, 0, 2, 1, 1, 1, 2, 1, 1,\n",
              "       2, 0, 0, 0, 2, 1, 2, 1, 1, 2, 0, 1, 1, 0, 2, 1, 2, 0, 2, 0, 2, 1,\n",
              "       1, 2, 0, 2, 1, 2, 2, 0, 0, 2, 2, 2, 1, 2, 2, 2, 1, 1, 0, 1, 0, 2,\n",
              "       2, 0, 2])"
            ]
          },
          "metadata": {
            "tags": []
          },
          "execution_count": 13
        }
      ]
    },
    {
      "cell_type": "code",
      "metadata": {
        "colab": {
          "base_uri": "https://localhost:8080/"
        },
        "id": "BWB5eejJ1p6u",
        "outputId": "98ef9ae1-e34d-40d9-8ece-0af728d1f415"
      },
      "source": [
        "y_treino.shape"
      ],
      "execution_count": null,
      "outputs": [
        {
          "output_type": "execute_result",
          "data": {
            "text/plain": [
              "(15,)"
            ]
          },
          "metadata": {
            "tags": []
          },
          "execution_count": 14
        }
      ]
    },
    {
      "cell_type": "code",
      "metadata": {
        "colab": {
          "base_uri": "https://localhost:8080/"
        },
        "id": "xWHLTbjW19Jw",
        "outputId": "927dd316-bc88-4c7b-dbf0-f744da9867fc"
      },
      "source": [
        "y_teste.shape"
      ],
      "execution_count": null,
      "outputs": [
        {
          "output_type": "execute_result",
          "data": {
            "text/plain": [
              "(135,)"
            ]
          },
          "metadata": {
            "tags": []
          },
          "execution_count": 15
        }
      ]
    },
    {
      "cell_type": "code",
      "metadata": {
        "colab": {
          "base_uri": "https://localhost:8080/"
        },
        "id": "8rqlYxKw2DQZ",
        "outputId": "11eeb9bd-84a6-42b2-a76e-95024c0b9483"
      },
      "source": [
        "np.sum(y_treino == 0), np.sum(y_treino == 1), np.sum(y_treino == 2)"
      ],
      "execution_count": null,
      "outputs": [
        {
          "output_type": "execute_result",
          "data": {
            "text/plain": [
              "(5, 5, 5)"
            ]
          },
          "metadata": {
            "tags": []
          },
          "execution_count": 16
        }
      ]
    },
    {
      "cell_type": "code",
      "metadata": {
        "colab": {
          "base_uri": "https://localhost:8080/"
        },
        "id": "-0zjjhVr2SPd",
        "outputId": "4d2d9bff-431e-44f1-c2af-1002fb859a6a"
      },
      "source": [
        "np.sum(y_teste == 0), np.sum(y_teste == 1), np.sum(y_teste == 2)"
      ],
      "execution_count": null,
      "outputs": [
        {
          "output_type": "execute_result",
          "data": {
            "text/plain": [
              "(45, 45, 45)"
            ]
          },
          "metadata": {
            "tags": []
          },
          "execution_count": 17
        }
      ]
    },
    {
      "cell_type": "code",
      "metadata": {
        "colab": {
          "base_uri": "https://localhost:8080/"
        },
        "id": "idPRZZOf2WsJ",
        "outputId": "5111e68d-d3af-4548-b65f-7ad95a4a693a"
      },
      "source": [
        "X[0], y[0]"
      ],
      "execution_count": null,
      "outputs": [
        {
          "output_type": "execute_result",
          "data": {
            "text/plain": [
              "(array([5.1, 3.5, 1.4, 0.2]), 0)"
            ]
          },
          "metadata": {
            "tags": []
          },
          "execution_count": 18
        }
      ]
    },
    {
      "cell_type": "markdown",
      "metadata": {
        "id": "J4FvJ1TdGGrk"
      },
      "source": [
        "## Instanciação do modelo kNN"
      ]
    },
    {
      "cell_type": "code",
      "metadata": {
        "id": "SCJeIHuc4rF2"
      },
      "source": [
        "modelo = KNeighborsClassifier(n_neighbors=5)"
      ],
      "execution_count": null,
      "outputs": []
    },
    {
      "cell_type": "markdown",
      "metadata": {
        "id": "9yq1NdK2GNws"
      },
      "source": [
        "## Treinamento do modelo usando os dados de treino"
      ]
    },
    {
      "cell_type": "code",
      "metadata": {
        "colab": {
          "base_uri": "https://localhost:8080/"
        },
        "id": "ypDB8IKW5a1n",
        "outputId": "3aaa35a3-e1d8-4e98-ffed-2e26cad8706d"
      },
      "source": [
        "modelo.fit(X_treino, y_treino)"
      ],
      "execution_count": null,
      "outputs": [
        {
          "output_type": "execute_result",
          "data": {
            "text/plain": [
              "KNeighborsClassifier(algorithm='auto', leaf_size=30, metric='minkowski',\n",
              "                     metric_params=None, n_jobs=None, n_neighbors=5, p=2,\n",
              "                     weights='uniform')"
            ]
          },
          "metadata": {
            "tags": []
          },
          "execution_count": 20
        }
      ]
    },
    {
      "cell_type": "markdown",
      "metadata": {
        "id": "64FtS5IdGUbU"
      },
      "source": [
        "## Usando o modelo treinado para predizer os rótulos a partir dos dados de teste (X_test)"
      ]
    },
    {
      "cell_type": "code",
      "metadata": {
        "id": "BHwF47695sqe"
      },
      "source": [
        "y_pred = modelo.predict(X_teste)"
      ],
      "execution_count": null,
      "outputs": []
    },
    {
      "cell_type": "code",
      "metadata": {
        "colab": {
          "base_uri": "https://localhost:8080/"
        },
        "id": "TbdhLB1B7l37",
        "outputId": "c3837309-5bba-4339-cf6f-774c9f55521f"
      },
      "source": [
        "y_pred"
      ],
      "execution_count": null,
      "outputs": [
        {
          "output_type": "execute_result",
          "data": {
            "text/plain": [
              "array([0, 0, 0, 0, 1, 0, 1, 2, 0, 2, 1, 0, 0, 1, 0, 0, 0, 1, 0, 0, 2, 1,\n",
              "       1, 1, 1, 2, 1, 2, 0, 2, 1, 0, 2, 1, 1, 2, 1, 1, 0, 2, 0, 0, 0, 2,\n",
              "       1, 1, 1, 0, 2, 0, 0, 0, 2, 0, 2, 1, 2, 1, 0, 1, 0, 1, 1, 0, 2, 2,\n",
              "       0, 0, 2, 0, 0, 2, 1, 1, 2, 2, 1, 1, 1, 2, 0, 1, 1, 1, 1, 2, 1, 1,\n",
              "       1, 0, 0, 0, 2, 1, 2, 1, 1, 1, 0, 1, 1, 0, 2, 1, 2, 0, 2, 0, 1, 1,\n",
              "       1, 1, 0, 2, 1, 2, 1, 0, 0, 2, 1, 2, 1, 2, 2, 2, 1, 1, 0, 1, 0, 2,\n",
              "       2, 0, 2])"
            ]
          },
          "metadata": {
            "tags": []
          },
          "execution_count": 22
        }
      ]
    },
    {
      "cell_type": "code",
      "metadata": {
        "colab": {
          "base_uri": "https://localhost:8080/"
        },
        "id": "AEDscuUZ56ZN",
        "outputId": "e0ab6d71-2791-4efa-f1b7-3fde9686d41b"
      },
      "source": [
        "y_teste"
      ],
      "execution_count": null,
      "outputs": [
        {
          "output_type": "execute_result",
          "data": {
            "text/plain": [
              "array([0, 0, 0, 0, 1, 0, 1, 2, 0, 2, 1, 0, 0, 1, 0, 0, 0, 1, 0, 0, 2, 1,\n",
              "       1, 2, 1, 2, 1, 2, 0, 2, 1, 0, 2, 1, 1, 2, 1, 1, 0, 2, 0, 0, 0, 2,\n",
              "       1, 1, 1, 0, 2, 0, 0, 0, 2, 0, 2, 1, 1, 1, 0, 1, 0, 1, 1, 0, 2, 1,\n",
              "       0, 0, 2, 0, 0, 2, 1, 1, 2, 2, 2, 2, 1, 2, 0, 2, 1, 1, 1, 2, 1, 1,\n",
              "       2, 0, 0, 0, 2, 1, 2, 1, 1, 2, 0, 1, 1, 0, 2, 1, 2, 0, 2, 0, 2, 1,\n",
              "       1, 2, 0, 2, 1, 2, 2, 0, 0, 2, 2, 2, 1, 2, 2, 2, 1, 1, 0, 1, 0, 2,\n",
              "       2, 0, 2])"
            ]
          },
          "metadata": {
            "tags": []
          },
          "execution_count": 23
        }
      ]
    },
    {
      "cell_type": "markdown",
      "metadata": {
        "id": "qyZ1c3SZG8o3"
      },
      "source": [
        "## Calculando e mostrando o percentual de acertos (acurácia)"
      ]
    },
    {
      "cell_type": "code",
      "metadata": {
        "colab": {
          "base_uri": "https://localhost:8080/"
        },
        "id": "F05WtyvV6FnK",
        "outputId": "1d0e0785-fe36-465f-cc4f-1a59edf1c986"
      },
      "source": [
        "qdt_acertos = np.sum(y_pred == y_teste)\n",
        "qdt_total_de_elementos = y_teste.shape[0]\n",
        "print('acurácia de {}%'.format(qdt_acertos / qdt_total_de_elementos * 100))"
      ],
      "execution_count": null,
      "outputs": [
        {
          "output_type": "stream",
          "text": [
            "acurácia de 91.11111111111111%\n"
          ],
          "name": "stdout"
        }
      ]
    }
  ]
}