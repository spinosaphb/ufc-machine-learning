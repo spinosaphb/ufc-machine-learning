{
  "nbformat": 4,
  "nbformat_minor": 0,
  "metadata": {
    "colab": {
      "name": "A1-DS0-0.ipynb",
      "provenance": [],
      "collapsed_sections": [],
      "mount_file_id": "1UO9GyiQs1kEPYROrjf9Bdl3btSRiSsSb",
      "authorship_tag": "ABX9TyMzBFO0y0piFARe/FOii1EZ",
      "include_colab_link": true
    },
    "kernelspec": {
      "name": "python391jvsc74a57bd009b1961d4b9024043caf4a3909c51fffe82294c433933f457f21ff90042a2eb4",
      "display_name": "Python 3.9.1 64-bit ('base': conda)"
    },
    "language_info": {
      "name": "python",
      "version": "3.9.1"
    }
  },
  "cells": [
    {
      "cell_type": "markdown",
      "metadata": {
        "id": "view-in-github",
        "colab_type": "text"
      },
      "source": [
        "<a href=\"https://colab.research.google.com/github/spinosaphb/ufc-machine-learning/blob/main/activities/A1/A1_DS0_0.ipynb\" target=\"_parent\"><img src=\"https://colab.research.google.com/assets/colab-badge.svg\" alt=\"Open In Colab\"/></a>"
      ]
    },
    {
      "cell_type": "markdown",
      "metadata": {
        "id": "Yyu6i5TH3b99"
      },
      "source": [
        "# Activitie 1 - Data Set : Ethereum Historical Data \n"
      ]
    },
    {
      "source": [
        "## Loading dataset from github repository:"
      ],
      "cell_type": "markdown",
      "metadata": {}
    },
    {
      "cell_type": "code",
      "metadata": {
        "colab": {
          "base_uri": "https://localhost:8080/",
          "height": 893
        },
        "id": "bgCK5fMPB_13",
        "outputId": "a308b073-e13f-4361-9c3f-6ec4caef15e7"
      },
      "source": [
        "import pandas as pd\n",
        "ds = pd.read_csv(\"https://raw.githubusercontent.com/spinosaphb/ufc-machine-learning/main/datasets/DS0/Ethereum%20Historical%20Data.csv\", thousands=',') # specifies the thousands identifier of the number "
      ],
      "execution_count": 1,
      "outputs": []
    },
    {
      "source": [
        "## Showing the first 20 rows of dataset:"
      ],
      "cell_type": "markdown",
      "metadata": {}
    },
    {
      "cell_type": "code",
      "execution_count": 2,
      "metadata": {},
      "outputs": [
        {
          "output_type": "execute_result",
          "data": {
            "text/plain": [
              "            Date  Price   Open   High    Low     Vol. Change %\n",
              "0   Mar 10, 2016  11.75  11.20  11.85  11.07    0.00K    4.91%\n",
              "1   Mar 11, 2016  11.95  11.75  11.95  11.75    0.18K    1.70%\n",
              "2   Mar 12, 2016  12.92  11.95  13.45  11.95    0.83K    8.12%\n",
              "3   Mar 13, 2016  15.07  12.92  15.07  12.92    1.30K   16.64%\n",
              "4   Mar 14, 2016  12.50  15.07  15.07  11.40   92.18K  -17.05%\n",
              "5   Mar 15, 2016  13.06  12.63  13.42  11.98   39.73K    4.48%\n",
              "6   Mar 16, 2016  12.88  13.06  13.89  12.62   19.24K   -1.38%\n",
              "7   Mar 17, 2016  10.74  12.58  12.61  10.44   89.45K  -16.61%\n",
              "8   Mar 18, 2016  10.74  11.09  11.20   8.34  157.37K    0.00%\n",
              "9   Mar 19, 2016  10.31  10.97  11.10   9.78   67.55K   -4.00%\n",
              "10  Mar 20, 2016  10.18  10.55  10.88   9.56   33.18K   -1.26%\n",
              "11  Mar 21, 2016  11.95  10.18  12.05  10.14   38.86K   17.39%\n",
              "12  Mar 22, 2016  11.37  11.53  11.97  11.08   26.29K   -4.85%\n",
              "13  Mar 23, 2016  12.43  11.37  12.43  11.20   27.02K    9.32%\n",
              "14  Mar 24, 2016  11.20  12.43  12.47  10.67   50.80K   -9.90%\n",
              "15  Mar 25, 2016  10.67  11.32  11.35  10.52   87.42K   -4.73%\n",
              "16  Mar 26, 2016  11.00  10.67  11.20  10.58   16.12K    3.09%\n",
              "17  Mar 27, 2016  10.40  10.93  10.98  10.17   55.81K   -5.45%\n",
              "18  Mar 28, 2016  11.62  10.40  11.94  10.40   77.31K   11.73%\n",
              "19  Mar 29, 2016  11.79  11.78  11.88  11.37   47.57K    1.46%"
            ],
            "text/html": "<div>\n<style scoped>\n    .dataframe tbody tr th:only-of-type {\n        vertical-align: middle;\n    }\n\n    .dataframe tbody tr th {\n        vertical-align: top;\n    }\n\n    .dataframe thead th {\n        text-align: right;\n    }\n</style>\n<table border=\"1\" class=\"dataframe\">\n  <thead>\n    <tr style=\"text-align: right;\">\n      <th></th>\n      <th>Date</th>\n      <th>Price</th>\n      <th>Open</th>\n      <th>High</th>\n      <th>Low</th>\n      <th>Vol.</th>\n      <th>Change %</th>\n    </tr>\n  </thead>\n  <tbody>\n    <tr>\n      <th>0</th>\n      <td>Mar 10, 2016</td>\n      <td>11.75</td>\n      <td>11.20</td>\n      <td>11.85</td>\n      <td>11.07</td>\n      <td>0.00K</td>\n      <td>4.91%</td>\n    </tr>\n    <tr>\n      <th>1</th>\n      <td>Mar 11, 2016</td>\n      <td>11.95</td>\n      <td>11.75</td>\n      <td>11.95</td>\n      <td>11.75</td>\n      <td>0.18K</td>\n      <td>1.70%</td>\n    </tr>\n    <tr>\n      <th>2</th>\n      <td>Mar 12, 2016</td>\n      <td>12.92</td>\n      <td>11.95</td>\n      <td>13.45</td>\n      <td>11.95</td>\n      <td>0.83K</td>\n      <td>8.12%</td>\n    </tr>\n    <tr>\n      <th>3</th>\n      <td>Mar 13, 2016</td>\n      <td>15.07</td>\n      <td>12.92</td>\n      <td>15.07</td>\n      <td>12.92</td>\n      <td>1.30K</td>\n      <td>16.64%</td>\n    </tr>\n    <tr>\n      <th>4</th>\n      <td>Mar 14, 2016</td>\n      <td>12.50</td>\n      <td>15.07</td>\n      <td>15.07</td>\n      <td>11.40</td>\n      <td>92.18K</td>\n      <td>-17.05%</td>\n    </tr>\n    <tr>\n      <th>5</th>\n      <td>Mar 15, 2016</td>\n      <td>13.06</td>\n      <td>12.63</td>\n      <td>13.42</td>\n      <td>11.98</td>\n      <td>39.73K</td>\n      <td>4.48%</td>\n    </tr>\n    <tr>\n      <th>6</th>\n      <td>Mar 16, 2016</td>\n      <td>12.88</td>\n      <td>13.06</td>\n      <td>13.89</td>\n      <td>12.62</td>\n      <td>19.24K</td>\n      <td>-1.38%</td>\n    </tr>\n    <tr>\n      <th>7</th>\n      <td>Mar 17, 2016</td>\n      <td>10.74</td>\n      <td>12.58</td>\n      <td>12.61</td>\n      <td>10.44</td>\n      <td>89.45K</td>\n      <td>-16.61%</td>\n    </tr>\n    <tr>\n      <th>8</th>\n      <td>Mar 18, 2016</td>\n      <td>10.74</td>\n      <td>11.09</td>\n      <td>11.20</td>\n      <td>8.34</td>\n      <td>157.37K</td>\n      <td>0.00%</td>\n    </tr>\n    <tr>\n      <th>9</th>\n      <td>Mar 19, 2016</td>\n      <td>10.31</td>\n      <td>10.97</td>\n      <td>11.10</td>\n      <td>9.78</td>\n      <td>67.55K</td>\n      <td>-4.00%</td>\n    </tr>\n    <tr>\n      <th>10</th>\n      <td>Mar 20, 2016</td>\n      <td>10.18</td>\n      <td>10.55</td>\n      <td>10.88</td>\n      <td>9.56</td>\n      <td>33.18K</td>\n      <td>-1.26%</td>\n    </tr>\n    <tr>\n      <th>11</th>\n      <td>Mar 21, 2016</td>\n      <td>11.95</td>\n      <td>10.18</td>\n      <td>12.05</td>\n      <td>10.14</td>\n      <td>38.86K</td>\n      <td>17.39%</td>\n    </tr>\n    <tr>\n      <th>12</th>\n      <td>Mar 22, 2016</td>\n      <td>11.37</td>\n      <td>11.53</td>\n      <td>11.97</td>\n      <td>11.08</td>\n      <td>26.29K</td>\n      <td>-4.85%</td>\n    </tr>\n    <tr>\n      <th>13</th>\n      <td>Mar 23, 2016</td>\n      <td>12.43</td>\n      <td>11.37</td>\n      <td>12.43</td>\n      <td>11.20</td>\n      <td>27.02K</td>\n      <td>9.32%</td>\n    </tr>\n    <tr>\n      <th>14</th>\n      <td>Mar 24, 2016</td>\n      <td>11.20</td>\n      <td>12.43</td>\n      <td>12.47</td>\n      <td>10.67</td>\n      <td>50.80K</td>\n      <td>-9.90%</td>\n    </tr>\n    <tr>\n      <th>15</th>\n      <td>Mar 25, 2016</td>\n      <td>10.67</td>\n      <td>11.32</td>\n      <td>11.35</td>\n      <td>10.52</td>\n      <td>87.42K</td>\n      <td>-4.73%</td>\n    </tr>\n    <tr>\n      <th>16</th>\n      <td>Mar 26, 2016</td>\n      <td>11.00</td>\n      <td>10.67</td>\n      <td>11.20</td>\n      <td>10.58</td>\n      <td>16.12K</td>\n      <td>3.09%</td>\n    </tr>\n    <tr>\n      <th>17</th>\n      <td>Mar 27, 2016</td>\n      <td>10.40</td>\n      <td>10.93</td>\n      <td>10.98</td>\n      <td>10.17</td>\n      <td>55.81K</td>\n      <td>-5.45%</td>\n    </tr>\n    <tr>\n      <th>18</th>\n      <td>Mar 28, 2016</td>\n      <td>11.62</td>\n      <td>10.40</td>\n      <td>11.94</td>\n      <td>10.40</td>\n      <td>77.31K</td>\n      <td>11.73%</td>\n    </tr>\n    <tr>\n      <th>19</th>\n      <td>Mar 29, 2016</td>\n      <td>11.79</td>\n      <td>11.78</td>\n      <td>11.88</td>\n      <td>11.37</td>\n      <td>47.57K</td>\n      <td>1.46%</td>\n    </tr>\n  </tbody>\n</table>\n</div>"
          },
          "metadata": {},
          "execution_count": 2
        }
      ],
      "source": [
        "ds.head(20)"
      ]
    },
    {
      "source": [
        "## Number of rows from dataset:"
      ],
      "cell_type": "markdown",
      "metadata": {}
    },
    {
      "cell_type": "code",
      "metadata": {
        "id": "sF-e9GwkDE0G"
      },
      "source": [
        "ds.shape[0] # Number of rows\n",
        "# Others possibilities: len(ds.index), len(ds) , ds.columns[0].count"
      ],
      "execution_count": 3,
      "outputs": [
        {
          "output_type": "execute_result",
          "data": {
            "text/plain": [
              "1890"
            ]
          },
          "metadata": {},
          "execution_count": 3
        }
      ]
    },
    {
      "source": [
        "## Mean, standard deviation and minimum and maximum values from 'Price' column:"
      ],
      "cell_type": "markdown",
      "metadata": {}
    },
    {
      "cell_type": "code",
      "execution_count": 4,
      "metadata": {},
      "outputs": [
        {
          "output_type": "execute_result",
          "data": {
            "text/plain": [
              "(364.33, 508.68, 6.7, 4241.19)"
            ]
          },
          "metadata": {},
          "execution_count": 4
        }
      ],
      "source": [
        "# taking the Price column \n",
        "price_col = ds['Price'].astype(float) # this is only necessary if your data set is a string\n",
        "# round() specifies the number of decimal places after the comma\n",
        "mean = round(price_col.mean(), 2)  \n",
        "std  = round(price_col.std(), 2)\n",
        "minv = price_col.min()\n",
        "maxv = price_col.max()\n",
        "mean, std, minv, maxv\n",
        "\n"
      ]
    },
    {
      "source": [
        "## Showing the first 5 rows of the dataset in descending order based on the 'Price' column:"
      ],
      "cell_type": "markdown",
      "metadata": {}
    },
    {
      "cell_type": "code",
      "execution_count": 5,
      "metadata": {},
      "outputs": [
        {
          "output_type": "execute_result",
          "data": {
            "text/plain": [
              "           Date  Price   Open   High    Low    Vol. Change %\n",
              "3  Mar 13, 2016  15.07  12.92  15.07  12.92   1.30K   16.64%\n",
              "2  Mar 12, 2016  12.92  11.95  13.45  11.95   0.83K    8.12%\n",
              "4  Mar 14, 2016  12.50  15.07  15.07  11.40  92.18K  -17.05%\n",
              "1  Mar 11, 2016  11.95  11.75  11.95  11.75   0.18K    1.70%\n",
              "0  Mar 10, 2016  11.75  11.20  11.85  11.07   0.00K    4.91%"
            ],
            "text/html": "<div>\n<style scoped>\n    .dataframe tbody tr th:only-of-type {\n        vertical-align: middle;\n    }\n\n    .dataframe tbody tr th {\n        vertical-align: top;\n    }\n\n    .dataframe thead th {\n        text-align: right;\n    }\n</style>\n<table border=\"1\" class=\"dataframe\">\n  <thead>\n    <tr style=\"text-align: right;\">\n      <th></th>\n      <th>Date</th>\n      <th>Price</th>\n      <th>Open</th>\n      <th>High</th>\n      <th>Low</th>\n      <th>Vol.</th>\n      <th>Change %</th>\n    </tr>\n  </thead>\n  <tbody>\n    <tr>\n      <th>3</th>\n      <td>Mar 13, 2016</td>\n      <td>15.07</td>\n      <td>12.92</td>\n      <td>15.07</td>\n      <td>12.92</td>\n      <td>1.30K</td>\n      <td>16.64%</td>\n    </tr>\n    <tr>\n      <th>2</th>\n      <td>Mar 12, 2016</td>\n      <td>12.92</td>\n      <td>11.95</td>\n      <td>13.45</td>\n      <td>11.95</td>\n      <td>0.83K</td>\n      <td>8.12%</td>\n    </tr>\n    <tr>\n      <th>4</th>\n      <td>Mar 14, 2016</td>\n      <td>12.50</td>\n      <td>15.07</td>\n      <td>15.07</td>\n      <td>11.40</td>\n      <td>92.18K</td>\n      <td>-17.05%</td>\n    </tr>\n    <tr>\n      <th>1</th>\n      <td>Mar 11, 2016</td>\n      <td>11.95</td>\n      <td>11.75</td>\n      <td>11.95</td>\n      <td>11.75</td>\n      <td>0.18K</td>\n      <td>1.70%</td>\n    </tr>\n    <tr>\n      <th>0</th>\n      <td>Mar 10, 2016</td>\n      <td>11.75</td>\n      <td>11.20</td>\n      <td>11.85</td>\n      <td>11.07</td>\n      <td>0.00K</td>\n      <td>4.91%</td>\n    </tr>\n  </tbody>\n</table>\n</div>"
          },
          "metadata": {},
          "execution_count": 5
        }
      ],
      "source": [
        "ds.head(5).sort_values('Price', ascending=0)"
      ]
    },
    {
      "source": [
        "## Showing the first 5 rows in descending order of the dataset based on the 'Price' column:"
      ],
      "cell_type": "markdown",
      "metadata": {}
    },
    {
      "cell_type": "code",
      "execution_count": 6,
      "metadata": {},
      "outputs": [
        {
          "output_type": "execute_result",
          "data": {
            "text/plain": [
              "              Date    Price     Open     High      Low   Vol. Change %\n",
              "1889  May 12, 2021  4241.19  4173.61  4366.10  4151.39  2.20M    1.76%\n",
              "1888  May 11, 2021  4167.78  3948.66  4177.53  3781.86  1.27M    5.57%\n",
              "1887  May 10, 2021  3947.90  3923.48  4203.98  3669.84  2.70M    0.65%\n",
              "1886  May 09, 2021  3922.23  3905.69  3979.77  3734.44  1.94M    0.43%\n",
              "1885  May 08, 2021  3905.55  3479.81  3952.88  3453.37  1.34M   12.19%"
            ],
            "text/html": "<div>\n<style scoped>\n    .dataframe tbody tr th:only-of-type {\n        vertical-align: middle;\n    }\n\n    .dataframe tbody tr th {\n        vertical-align: top;\n    }\n\n    .dataframe thead th {\n        text-align: right;\n    }\n</style>\n<table border=\"1\" class=\"dataframe\">\n  <thead>\n    <tr style=\"text-align: right;\">\n      <th></th>\n      <th>Date</th>\n      <th>Price</th>\n      <th>Open</th>\n      <th>High</th>\n      <th>Low</th>\n      <th>Vol.</th>\n      <th>Change %</th>\n    </tr>\n  </thead>\n  <tbody>\n    <tr>\n      <th>1889</th>\n      <td>May 12, 2021</td>\n      <td>4241.19</td>\n      <td>4173.61</td>\n      <td>4366.10</td>\n      <td>4151.39</td>\n      <td>2.20M</td>\n      <td>1.76%</td>\n    </tr>\n    <tr>\n      <th>1888</th>\n      <td>May 11, 2021</td>\n      <td>4167.78</td>\n      <td>3948.66</td>\n      <td>4177.53</td>\n      <td>3781.86</td>\n      <td>1.27M</td>\n      <td>5.57%</td>\n    </tr>\n    <tr>\n      <th>1887</th>\n      <td>May 10, 2021</td>\n      <td>3947.90</td>\n      <td>3923.48</td>\n      <td>4203.98</td>\n      <td>3669.84</td>\n      <td>2.70M</td>\n      <td>0.65%</td>\n    </tr>\n    <tr>\n      <th>1886</th>\n      <td>May 09, 2021</td>\n      <td>3922.23</td>\n      <td>3905.69</td>\n      <td>3979.77</td>\n      <td>3734.44</td>\n      <td>1.94M</td>\n      <td>0.43%</td>\n    </tr>\n    <tr>\n      <th>1885</th>\n      <td>May 08, 2021</td>\n      <td>3905.55</td>\n      <td>3479.81</td>\n      <td>3952.88</td>\n      <td>3453.37</td>\n      <td>1.34M</td>\n      <td>12.19%</td>\n    </tr>\n  </tbody>\n</table>\n</div>"
          },
          "metadata": {},
          "execution_count": 6
        }
      ],
      "source": [
        "ds.sort_values('Price', ascending=0).head(5)"
      ]
    },
    {
      "source": [
        "# end </>"
      ],
      "cell_type": "markdown",
      "metadata": {}
    }
  ]
}