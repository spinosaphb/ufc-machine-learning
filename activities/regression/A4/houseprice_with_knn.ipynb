{
  "nbformat": 4,
  "nbformat_minor": 0,
  "metadata": {
    "language_info": {
      "codemirror_mode": {
        "name": "ipython",
        "version": 3
      },
      "file_extension": ".py",
      "mimetype": "text/x-python",
      "name": "python",
      "nbconvert_exporter": "python",
      "pygments_lexer": "ipython3",
      "version": "3.9.5"
    },
    "orig_nbformat": 2,
    "kernelspec": {
      "name": "python395jvsc74a57bd0767d51c1340bd893661ea55ea3124f6de3c7a262a8b4abca0554b478b1e2ff90",
      "display_name": "Python 3.9.5 64-bit"
    },
    "metadata": {
      "interpreter": {
        "hash": "767d51c1340bd893661ea55ea3124f6de3c7a262a8b4abca0554b478b1e2ff90"
      }
    },
    "colab": {
      "name": "knn_with_wine.ipynb",
      "provenance": []
    }
  },
  "cells": [
    {
      "cell_type": "markdown",
      "metadata": {
        "id": "pPQEDnvt_qMU"
      },
      "source": [
        "<a href=\"https://colab.research.google.com/github/spinosaphb/ufc-machine-learning/blob/main/activities/regression/A4/houseprice_with_knn.ipynb\" target=\"_parent\"><img src=\"https://colab.research.google.com/assets/colab-badge.svg\" alt=\"Open In Colab\"/></a>"
      ]
    },
    {
      "cell_type": "code",
      "metadata": {
        "id": "S9Y8Szqm_qMX"
      },
      "source": [
        "import numpy as np\n",
        "import knn\n",
        "from pandas import DataFrame"
      ],
      "execution_count": 10,
      "outputs": []
    },
    {
      "source": [
        "## Making DataSet"
      ],
      "cell_type": "markdown",
      "metadata": {}
    },
    {
      "cell_type": "code",
      "metadata": {
        "id": "_sSP8EMo_qMX",
        "outputId": "41a64f74-a9e1-4760-c20d-0b4947711ebd"
      },
      "source": [
        "age  = [25, 35, 45, 20, 35, 52, 23, 40, 60, 48, 33]\n",
        "loan = [40000, 60000, 80000, 20000, 120000, 18000, 95000, 62000, 100000, 220000, 150000]\n",
        "hpi  = [135, 256, 231, 267, 139, 150, 127, 216, 139, 250, 264]\n",
        "train_data = np.column_stack([age, loan, hpi])\n",
        "train_data"
      ],
      "execution_count": 11,
      "outputs": [
        {
          "output_type": "execute_result",
          "data": {
            "text/plain": [
              "array([[    25,  40000,    135],\n",
              "       [    35,  60000,    256],\n",
              "       [    45,  80000,    231],\n",
              "       [    20,  20000,    267],\n",
              "       [    35, 120000,    139],\n",
              "       [    52,  18000,    150],\n",
              "       [    23,  95000,    127],\n",
              "       [    40,  62000,    216],\n",
              "       [    60, 100000,    139],\n",
              "       [    48, 220000,    250],\n",
              "       [    33, 150000,    264]])"
            ]
          },
          "metadata": {},
          "execution_count": 11
        }
      ]
    },
    {
      "source": [
        "## Separating the X and y "
      ],
      "cell_type": "markdown",
      "metadata": {}
    },
    {
      "cell_type": "code",
      "execution_count": 12,
      "metadata": {},
      "outputs": [],
      "source": [
        "X, y = train_data[:,:2], train_data[:,2]"
      ]
    },
    {
      "source": [
        "## Normalizing X"
      ],
      "cell_type": "markdown",
      "metadata": {}
    },
    {
      "cell_type": "code",
      "execution_count": 13,
      "metadata": {},
      "outputs": [],
      "source": [
        "minValueCols = X[:, 0].min(), X[:, 1].min()\n",
        "maxValueCols = X[:, 0].max(), X[:, 1].max()\n",
        "X = (X - minValueCols) / (np.array(maxValueCols) - minValueCols)"
      ]
    },
    {
      "cell_type": "code",
      "execution_count": 70,
      "metadata": {},
      "outputs": [],
      "source": [
        "age = [42, 30]\n",
        "loan = [142000, 50000]\n",
        "test_data = np.column_stack([age, loan])"
      ]
    },
    {
      "cell_type": "code",
      "execution_count": 73,
      "metadata": {},
      "outputs": [],
      "source": [
        "test_data = knn.normalize(test_data, minValueCols, maxValueCols)"
      ]
    },
    {
      "source": [
        "## Getting the regression of each `test` for each `k`"
      ],
      "cell_type": "markdown",
      "metadata": {}
    },
    {
      "cell_type": "code",
      "execution_count": 100,
      "metadata": {},
      "outputs": [],
      "source": [
        "# Dictionary that will contain the prediction\n",
        "result_regression = {}\n",
        "result_regression[\"age\"], result_regression[\"loan\"], result_regression[\"hpi\"] = {},{},{}\n",
        "for row in range(test_data.shape[0]):\n",
        "    result_regression[\"age\"][row], result_regression[\"loan\"][row] = test_data[row]\n",
        "    result_regression[\"hpi\"][row] = round(knn.predict_regression(X, y, test_data[row], 3))"
      ]
    },
    {
      "source": [
        "## Showing regression of each `test` for each `k`"
      ],
      "cell_type": "markdown",
      "metadata": {}
    },
    {
      "cell_type": "code",
      "execution_count": 105,
      "metadata": {},
      "outputs": [],
      "source": [
        "df = DataFrame(result_regression)\n",
        "df.index = ['test1','test2']"
      ]
    },
    {
      "cell_type": "code",
      "execution_count": 108,
      "metadata": {},
      "outputs": [
        {
          "output_type": "execute_result",
          "data": {
            "text/plain": [
              "         age      loan  hpi\n",
              "0      0.125  0.108911  135\n",
              "1      0.375  0.207921  256\n",
              "2      0.625  0.306931  231\n",
              "3      0.000  0.009901  267\n",
              "4      0.375  0.504950  139\n",
              "5      0.800  0.000000  150\n",
              "6      0.075  0.381188  127\n",
              "7      0.500  0.217822  216\n",
              "8      1.000  0.405941  139\n",
              "9      0.700  1.000000  250\n",
              "10     0.325  0.653465  264\n",
              "test1  0.550  0.613861  211\n",
              "test2  0.250  0.158416  202"
            ],
            "text/html": "<div>\n<style scoped>\n    .dataframe tbody tr th:only-of-type {\n        vertical-align: middle;\n    }\n\n    .dataframe tbody tr th {\n        vertical-align: top;\n    }\n\n    .dataframe thead th {\n        text-align: right;\n    }\n</style>\n<table border=\"1\" class=\"dataframe\">\n  <thead>\n    <tr style=\"text-align: right;\">\n      <th></th>\n      <th>age</th>\n      <th>loan</th>\n      <th>hpi</th>\n    </tr>\n  </thead>\n  <tbody>\n    <tr>\n      <th>0</th>\n      <td>0.125</td>\n      <td>0.108911</td>\n      <td>135</td>\n    </tr>\n    <tr>\n      <th>1</th>\n      <td>0.375</td>\n      <td>0.207921</td>\n      <td>256</td>\n    </tr>\n    <tr>\n      <th>2</th>\n      <td>0.625</td>\n      <td>0.306931</td>\n      <td>231</td>\n    </tr>\n    <tr>\n      <th>3</th>\n      <td>0.000</td>\n      <td>0.009901</td>\n      <td>267</td>\n    </tr>\n    <tr>\n      <th>4</th>\n      <td>0.375</td>\n      <td>0.504950</td>\n      <td>139</td>\n    </tr>\n    <tr>\n      <th>5</th>\n      <td>0.800</td>\n      <td>0.000000</td>\n      <td>150</td>\n    </tr>\n    <tr>\n      <th>6</th>\n      <td>0.075</td>\n      <td>0.381188</td>\n      <td>127</td>\n    </tr>\n    <tr>\n      <th>7</th>\n      <td>0.500</td>\n      <td>0.217822</td>\n      <td>216</td>\n    </tr>\n    <tr>\n      <th>8</th>\n      <td>1.000</td>\n      <td>0.405941</td>\n      <td>139</td>\n    </tr>\n    <tr>\n      <th>9</th>\n      <td>0.700</td>\n      <td>1.000000</td>\n      <td>250</td>\n    </tr>\n    <tr>\n      <th>10</th>\n      <td>0.325</td>\n      <td>0.653465</td>\n      <td>264</td>\n    </tr>\n    <tr>\n      <th>test1</th>\n      <td>0.550</td>\n      <td>0.613861</td>\n      <td>211</td>\n    </tr>\n    <tr>\n      <th>test2</th>\n      <td>0.250</td>\n      <td>0.158416</td>\n      <td>202</td>\n    </tr>\n  </tbody>\n</table>\n</div>"
          },
          "metadata": {},
          "execution_count": 108
        }
      ],
      "source": [
        "DataFrame({\n",
        "    \"age\"  : X[:, 0],\n",
        "    \"loan\" : X[:, 1],\n",
        "    \"hpi\"  : y}, columns=[\"age\", \"loan\", \"hpi\"]).append(df)"
      ]
    },
    {
      "cell_type": "code",
      "execution_count": null,
      "metadata": {},
      "outputs": [],
      "source": []
    }
  ]
}