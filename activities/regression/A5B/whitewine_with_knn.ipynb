{
 "cells": [
  {
   "cell_type": "code",
   "execution_count": 2,
   "metadata": {},
   "outputs": [],
   "source": [
    "import sys\n",
    "sys.path.append('../../../')\n",
    "sys.path.append('../')"
   ]
  },
  {
   "cell_type": "code",
   "execution_count": 3,
   "metadata": {
    "id": "S9Y8Szqm_qMX"
   },
   "outputs": [],
   "source": [
    "import pandas as pd\n",
    "import numpy as np\n",
    "from libs.kNearestNeighbor import knn\n",
    "from libs import metrics"
   ]
  },
  {
   "cell_type": "code",
   "execution_count": 4,
   "metadata": {
    "id": "_sSP8EMo_qMX",
    "outputId": "41a64f74-a9e1-4760-c20d-0b4947711ebd"
   },
   "outputs": [
    {
     "output_type": "execute_result",
     "data": {
      "text/plain": [
       "   fixed acidity  volatile acidity  citric acid  residual sugar  chlorides  \\\n",
       "0            7.0              0.27         0.36            20.7      0.045   \n",
       "1            6.3              0.30         0.34             1.6      0.049   \n",
       "2            8.1              0.28         0.40             6.9      0.050   \n",
       "3            7.2              0.23         0.32             8.5      0.058   \n",
       "4            7.2              0.23         0.32             8.5      0.058   \n",
       "\n",
       "   free sulfur dioxide  total sulfur dioxide  density    pH  sulphates  \\\n",
       "0                 45.0                 170.0   1.0010  3.00       0.45   \n",
       "1                 14.0                 132.0   0.9940  3.30       0.49   \n",
       "2                 30.0                  97.0   0.9951  3.26       0.44   \n",
       "3                 47.0                 186.0   0.9956  3.19       0.40   \n",
       "4                 47.0                 186.0   0.9956  3.19       0.40   \n",
       "\n",
       "   alcohol  quality  \n",
       "0      8.8        6  \n",
       "1      9.5        6  \n",
       "2     10.1        6  \n",
       "3      9.9        6  \n",
       "4      9.9        6  "
      ],
      "text/html": "<div>\n<style scoped>\n    .dataframe tbody tr th:only-of-type {\n        vertical-align: middle;\n    }\n\n    .dataframe tbody tr th {\n        vertical-align: top;\n    }\n\n    .dataframe thead th {\n        text-align: right;\n    }\n</style>\n<table border=\"1\" class=\"dataframe\">\n  <thead>\n    <tr style=\"text-align: right;\">\n      <th></th>\n      <th>fixed acidity</th>\n      <th>volatile acidity</th>\n      <th>citric acid</th>\n      <th>residual sugar</th>\n      <th>chlorides</th>\n      <th>free sulfur dioxide</th>\n      <th>total sulfur dioxide</th>\n      <th>density</th>\n      <th>pH</th>\n      <th>sulphates</th>\n      <th>alcohol</th>\n      <th>quality</th>\n    </tr>\n  </thead>\n  <tbody>\n    <tr>\n      <th>0</th>\n      <td>7.0</td>\n      <td>0.27</td>\n      <td>0.36</td>\n      <td>20.7</td>\n      <td>0.045</td>\n      <td>45.0</td>\n      <td>170.0</td>\n      <td>1.0010</td>\n      <td>3.00</td>\n      <td>0.45</td>\n      <td>8.8</td>\n      <td>6</td>\n    </tr>\n    <tr>\n      <th>1</th>\n      <td>6.3</td>\n      <td>0.30</td>\n      <td>0.34</td>\n      <td>1.6</td>\n      <td>0.049</td>\n      <td>14.0</td>\n      <td>132.0</td>\n      <td>0.9940</td>\n      <td>3.30</td>\n      <td>0.49</td>\n      <td>9.5</td>\n      <td>6</td>\n    </tr>\n    <tr>\n      <th>2</th>\n      <td>8.1</td>\n      <td>0.28</td>\n      <td>0.40</td>\n      <td>6.9</td>\n      <td>0.050</td>\n      <td>30.0</td>\n      <td>97.0</td>\n      <td>0.9951</td>\n      <td>3.26</td>\n      <td>0.44</td>\n      <td>10.1</td>\n      <td>6</td>\n    </tr>\n    <tr>\n      <th>3</th>\n      <td>7.2</td>\n      <td>0.23</td>\n      <td>0.32</td>\n      <td>8.5</td>\n      <td>0.058</td>\n      <td>47.0</td>\n      <td>186.0</td>\n      <td>0.9956</td>\n      <td>3.19</td>\n      <td>0.40</td>\n      <td>9.9</td>\n      <td>6</td>\n    </tr>\n    <tr>\n      <th>4</th>\n      <td>7.2</td>\n      <td>0.23</td>\n      <td>0.32</td>\n      <td>8.5</td>\n      <td>0.058</td>\n      <td>47.0</td>\n      <td>186.0</td>\n      <td>0.9956</td>\n      <td>3.19</td>\n      <td>0.40</td>\n      <td>9.9</td>\n      <td>6</td>\n    </tr>\n  </tbody>\n</table>\n</div>"
     },
     "metadata": {},
     "execution_count": 4
    }
   ],
   "source": [
    "path = 'https://raw.githubusercontent.com/spinosaphb/ufc-machine-learning/main/datasets/winequality-white.csv'\n",
    "df = pd.read_csv(path, delimiter=';')\n",
    "df.head()"
   ]
  },
  {
   "cell_type": "code",
   "execution_count": 5,
   "metadata": {
    "id": "qdF6dEXt_qMZ",
    "outputId": "76a42e9e-fe86-4bf5-e601-ea02881f46f0"
   },
   "outputs": [
    {
     "output_type": "execute_result",
     "data": {
      "text/plain": [
       "6    2198\n",
       "5    1457\n",
       "7     880\n",
       "8     175\n",
       "4     163\n",
       "3      20\n",
       "9       5\n",
       "Name: quality, dtype: int64"
      ]
     },
     "metadata": {},
     "execution_count": 5
    }
   ],
   "source": [
    "df['quality'].value_counts()"
   ]
  },
  {
   "cell_type": "code",
   "execution_count": 6,
   "metadata": {
    "id": "iMwf22Zn_qMZ",
    "outputId": "2df1e14b-865d-44bb-e70d-f60d8e8e38d4"
   },
   "outputs": [
    {
     "output_type": "execute_result",
     "data": {
      "text/plain": [
       "      fixed acidity  volatile acidity  citric acid  residual sugar  chlorides  \\\n",
       "4656       0.211538          0.205882     0.246988        0.156442   0.115727   \n",
       "3659       0.153846          0.441176     0.096386        0.032209   0.080119   \n",
       "907        0.317308          0.166667     0.234940        0.023006   0.080119   \n",
       "4352       0.336538          0.196078     0.210843        0.015337   0.133531   \n",
       "3271       0.259615          0.235294     0.204819        0.078221   0.103858   \n",
       "...             ...               ...          ...             ...        ...   \n",
       "4426       0.230769          0.127451     0.313253        0.090491   0.112760   \n",
       "466        0.307692          0.058824     0.192771        0.128834   0.089021   \n",
       "3092       0.365385          0.186275     0.313253        0.039877   0.100890   \n",
       "3772       0.240385          0.156863     0.174699        0.200920   0.077151   \n",
       "860        0.413462          0.186275     0.210843        0.016871   0.062315   \n",
       "\n",
       "      free sulfur dioxide  total sulfur dioxide   density        pH  \\\n",
       "4656             0.184669              0.324826  0.127048  0.336364   \n",
       "3659             0.111498              0.276102  0.027955  0.436364   \n",
       "907              0.097561              0.266821  0.071139  0.509091   \n",
       "4352             0.101045              0.322506  0.090033  0.418182   \n",
       "3271             0.087108              0.190255  0.091190  0.509091   \n",
       "...                   ...                   ...       ...       ...   \n",
       "4426             0.090592              0.264501  0.136302  0.454545   \n",
       "466              0.181185              0.306265  0.163678  0.454545   \n",
       "3092             0.090592              0.331787  0.080586  0.272727   \n",
       "3772             0.177700              0.290023  0.165028  0.409091   \n",
       "860              0.125436              0.218097  0.104878  0.454545   \n",
       "\n",
       "      sulphates   alcohol  \n",
       "4656   0.430233  0.478495  \n",
       "3659   0.360465  0.838710  \n",
       "907    0.244186  0.677419  \n",
       "4352   0.290698  0.435484  \n",
       "3271   0.441860  0.645161  \n",
       "...         ...       ...  \n",
       "4426   0.313953  0.306452  \n",
       "466    0.244186  0.225806  \n",
       "3092   0.360465  0.548387  \n",
       "3772   0.186047  0.419355  \n",
       "860    0.476744  0.387097  \n",
       "\n",
       "[4898 rows x 11 columns]"
      ],
      "text/html": "<div>\n<style scoped>\n    .dataframe tbody tr th:only-of-type {\n        vertical-align: middle;\n    }\n\n    .dataframe tbody tr th {\n        vertical-align: top;\n    }\n\n    .dataframe thead th {\n        text-align: right;\n    }\n</style>\n<table border=\"1\" class=\"dataframe\">\n  <thead>\n    <tr style=\"text-align: right;\">\n      <th></th>\n      <th>fixed acidity</th>\n      <th>volatile acidity</th>\n      <th>citric acid</th>\n      <th>residual sugar</th>\n      <th>chlorides</th>\n      <th>free sulfur dioxide</th>\n      <th>total sulfur dioxide</th>\n      <th>density</th>\n      <th>pH</th>\n      <th>sulphates</th>\n      <th>alcohol</th>\n    </tr>\n  </thead>\n  <tbody>\n    <tr>\n      <th>4656</th>\n      <td>0.211538</td>\n      <td>0.205882</td>\n      <td>0.246988</td>\n      <td>0.156442</td>\n      <td>0.115727</td>\n      <td>0.184669</td>\n      <td>0.324826</td>\n      <td>0.127048</td>\n      <td>0.336364</td>\n      <td>0.430233</td>\n      <td>0.478495</td>\n    </tr>\n    <tr>\n      <th>3659</th>\n      <td>0.153846</td>\n      <td>0.441176</td>\n      <td>0.096386</td>\n      <td>0.032209</td>\n      <td>0.080119</td>\n      <td>0.111498</td>\n      <td>0.276102</td>\n      <td>0.027955</td>\n      <td>0.436364</td>\n      <td>0.360465</td>\n      <td>0.838710</td>\n    </tr>\n    <tr>\n      <th>907</th>\n      <td>0.317308</td>\n      <td>0.166667</td>\n      <td>0.234940</td>\n      <td>0.023006</td>\n      <td>0.080119</td>\n      <td>0.097561</td>\n      <td>0.266821</td>\n      <td>0.071139</td>\n      <td>0.509091</td>\n      <td>0.244186</td>\n      <td>0.677419</td>\n    </tr>\n    <tr>\n      <th>4352</th>\n      <td>0.336538</td>\n      <td>0.196078</td>\n      <td>0.210843</td>\n      <td>0.015337</td>\n      <td>0.133531</td>\n      <td>0.101045</td>\n      <td>0.322506</td>\n      <td>0.090033</td>\n      <td>0.418182</td>\n      <td>0.290698</td>\n      <td>0.435484</td>\n    </tr>\n    <tr>\n      <th>3271</th>\n      <td>0.259615</td>\n      <td>0.235294</td>\n      <td>0.204819</td>\n      <td>0.078221</td>\n      <td>0.103858</td>\n      <td>0.087108</td>\n      <td>0.190255</td>\n      <td>0.091190</td>\n      <td>0.509091</td>\n      <td>0.441860</td>\n      <td>0.645161</td>\n    </tr>\n    <tr>\n      <th>...</th>\n      <td>...</td>\n      <td>...</td>\n      <td>...</td>\n      <td>...</td>\n      <td>...</td>\n      <td>...</td>\n      <td>...</td>\n      <td>...</td>\n      <td>...</td>\n      <td>...</td>\n      <td>...</td>\n    </tr>\n    <tr>\n      <th>4426</th>\n      <td>0.230769</td>\n      <td>0.127451</td>\n      <td>0.313253</td>\n      <td>0.090491</td>\n      <td>0.112760</td>\n      <td>0.090592</td>\n      <td>0.264501</td>\n      <td>0.136302</td>\n      <td>0.454545</td>\n      <td>0.313953</td>\n      <td>0.306452</td>\n    </tr>\n    <tr>\n      <th>466</th>\n      <td>0.307692</td>\n      <td>0.058824</td>\n      <td>0.192771</td>\n      <td>0.128834</td>\n      <td>0.089021</td>\n      <td>0.181185</td>\n      <td>0.306265</td>\n      <td>0.163678</td>\n      <td>0.454545</td>\n      <td>0.244186</td>\n      <td>0.225806</td>\n    </tr>\n    <tr>\n      <th>3092</th>\n      <td>0.365385</td>\n      <td>0.186275</td>\n      <td>0.313253</td>\n      <td>0.039877</td>\n      <td>0.100890</td>\n      <td>0.090592</td>\n      <td>0.331787</td>\n      <td>0.080586</td>\n      <td>0.272727</td>\n      <td>0.360465</td>\n      <td>0.548387</td>\n    </tr>\n    <tr>\n      <th>3772</th>\n      <td>0.240385</td>\n      <td>0.156863</td>\n      <td>0.174699</td>\n      <td>0.200920</td>\n      <td>0.077151</td>\n      <td>0.177700</td>\n      <td>0.290023</td>\n      <td>0.165028</td>\n      <td>0.409091</td>\n      <td>0.186047</td>\n      <td>0.419355</td>\n    </tr>\n    <tr>\n      <th>860</th>\n      <td>0.413462</td>\n      <td>0.186275</td>\n      <td>0.210843</td>\n      <td>0.016871</td>\n      <td>0.062315</td>\n      <td>0.125436</td>\n      <td>0.218097</td>\n      <td>0.104878</td>\n      <td>0.454545</td>\n      <td>0.476744</td>\n      <td>0.387097</td>\n    </tr>\n  </tbody>\n</table>\n<p>4898 rows × 11 columns</p>\n</div>"
     },
     "metadata": {},
     "execution_count": 6
    }
   ],
   "source": [
    "# Getting X and y\n",
    "dfs = df.sample(frac=1, random_state=42)\n",
    "X = dfs.drop('quality', axis=1)\n",
    "y = dfs['quality']\n",
    "# normalizing X values\n",
    "minValueCol = np.array(X.min())\n",
    "maxValueCol = np.array(X.max())\n",
    "X_normal = (X - minValueCol) / (maxValueCol - minValueCol)\n",
    "X_normal"
   ]
  },
  {
   "cell_type": "markdown",
   "metadata": {},
   "source": [
    "## Dividing X and y by the `quality` label"
   ]
  },
  {
   "cell_type": "code",
   "execution_count": 7,
   "metadata": {},
   "outputs": [],
   "source": [
    "values_quality = y.unique()\n",
    "dfByQuality = {\n",
    "    'X': {},\n",
    "    'y': {}\n",
    "}\n",
    "for quality in values_quality:\n",
    "    byQuality = y == quality\n",
    "    dfByQuality['X'][quality] = X_normal[byQuality]\n",
    "    dfByQuality['y'][quality] = y[byQuality]"
   ]
  },
  {
   "cell_type": "markdown",
   "metadata": {},
   "source": [
    "## Splitting `X` and `y` into training and testing in a stratified way"
   ]
  },
  {
   "cell_type": "code",
   "execution_count": 8,
   "metadata": {},
   "outputs": [],
   "source": [
    "# Stratifying and Getting X_train, X_test, y_train and y_test\n",
    "X_train, X_test, y_train, y_test = np.empty((0,11)), np.empty((0, 11)), np.array([]), np.array([])"
   ]
  },
  {
   "cell_type": "code",
   "execution_count": 9,
   "metadata": {
    "id": "QVZb8RjS_qMb"
   },
   "outputs": [],
   "source": [
    "for quality in values_quality:\n",
    "    # Getting percentage for stratification \n",
    "    percent = int(dfByQuality['X'][quality].shape[0] * 0.7)\n",
    "    # Stratifying and Getting X_train and X_test\n",
    "    X_train = np.concatenate([X_train, dfByQuality['X'][quality][:percent]])\n",
    "    X_test = np.concatenate([X_test, dfByQuality['X'][quality][percent:]])\n",
    "    # Stratifying and Getting y_train and y_test\n",
    "    y_train  = np.concatenate([y_train, dfByQuality['y'][quality][:percent]])\n",
    "    y_test = np.concatenate([y_test, dfByQuality['y'][quality][percent:]])"
   ]
  },
  {
   "cell_type": "markdown",
   "metadata": {},
   "source": [
    "## Calculating the prediction with the regression method"
   ]
  },
  {
   "cell_type": "code",
   "execution_count": 10,
   "metadata": {
    "id": "eHjvmcVZ_qMb",
    "tags": []
   },
   "outputs": [],
   "source": [
    "y_pred = []\n",
    "for test in X_test:\n",
    "    predict = knn.predict_regression(X_train, y_train, test, 5)\n",
    "    y_pred.append(predict)"
   ]
  },
  {
   "cell_type": "code",
   "execution_count": 11,
   "metadata": {},
   "outputs": [],
   "source": [
    "difference = abs(y_pred - y_test)\n",
    "data = np.column_stack([y_pred, y_test, difference])\n",
    "df_relation = pd.DataFrame(data, columns=[\"y_pred\", \"y_test\", \"diff\"])"
   ]
  },
  {
   "source": [
    "## Regression metrics"
   ],
   "cell_type": "markdown",
   "metadata": {
    "id": "LEOQZEqP_qMc"
   }
  },
  {
   "source": [
    "### `Mean absolute error`"
   ],
   "cell_type": "markdown",
   "metadata": {}
  },
  {
   "cell_type": "code",
   "execution_count": 12,
   "metadata": {},
   "outputs": [
    {
     "output_type": "stream",
     "name": "stdout",
     "text": [
      "Mean absolute error: 0.5466032608695652\n"
     ]
    }
   ],
   "source": [
    "mae = metrics.mean_absolute_error(y_test, y_pred)\n",
    "print(f'Mean absolute error: {mae}')"
   ]
  },
  {
   "source": [
    "### `Mean squared error`"
   ],
   "cell_type": "markdown",
   "metadata": {}
  },
  {
   "cell_type": "code",
   "execution_count": 15,
   "metadata": {},
   "outputs": [
    {
     "output_type": "stream",
     "name": "stdout",
     "text": [
      "Mean squared error: 0.5455706521739131\n"
     ]
    }
   ],
   "source": [
    "mse = metrics.mean_squared_error(y_test, y_pred, squared=True)\n",
    "print(f'Mean squared error: {mse}')"
   ]
  },
  {
   "source": [
    "### `Root Mean squared error`"
   ],
   "cell_type": "markdown",
   "metadata": {}
  },
  {
   "cell_type": "code",
   "execution_count": 16,
   "metadata": {},
   "outputs": [
    {
     "output_type": "stream",
     "name": "stdout",
     "text": [
      "Mean squared error: 0.7386275463140494\n"
     ]
    }
   ],
   "source": [
    "mse = metrics.mean_squared_error(y_test, y_pred, squared=False)\n",
    "print(f'Mean squared error: {mse}')"
   ]
  }
 ],
 "metadata": {
  "colab": {
   "name": "knn_with_wine.ipynb",
   "provenance": []
  },
  "kernelspec": {
   "name": "python3",
   "display_name": "Python 3.9.1 64-bit ('base': conda)"
  },
  "language_info": {
   "codemirror_mode": {
    "name": "ipython",
    "version": 3
   },
   "file_extension": ".py",
   "mimetype": "text/x-python",
   "name": "python",
   "nbconvert_exporter": "python",
   "pygments_lexer": "ipython3",
   "version": "3.9.1"
  },
  "metadata": {
   "interpreter": {
    "hash": "767d51c1340bd893661ea55ea3124f6de3c7a262a8b4abca0554b478b1e2ff90"
   }
  },
  "interpreter": {
   "hash": "09b1961d4b9024043caf4a3909c51fffe82294c433933f457f21ff90042a2eb4"
  }
 },
 "nbformat": 4,
 "nbformat_minor": 1
}