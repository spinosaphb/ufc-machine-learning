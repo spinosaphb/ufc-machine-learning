{
  "nbformat": 4,
  "nbformat_minor": 0,
  "metadata": {
    "colab": {
      "name": "A1-DS0-0.ipynb",
      "provenance": [],
      "collapsed_sections": [],
      "mount_file_id": "1UO9GyiQs1kEPYROrjf9Bdl3btSRiSsSb",
      "authorship_tag": "ABX9TyMzBFO0y0piFARe/FOii1EZ",
      "include_colab_link": true
    },
    "kernelspec": {
      "name": "python391jvsc74a57bd009b1961d4b9024043caf4a3909c51fffe82294c433933f457f21ff90042a2eb4",
      "display_name": "Python 3.9.1 64-bit ('base': conda)"
    },
    "language_info": {
      "name": "python",
      "version": "3.9.1"
    }
  },
  "cells": [
    {
      "cell_type": "markdown",
      "metadata": {
        "id": "view-in-github",
        "colab_type": "text"
      },
      "source": [
        "<a href=\"https://colab.research.google.com/github/spinosaphb/ufc-machine-learning/blob/main/activities/A1_DS0_0.ipynb\" target=\"_parent\"><img src=\"https://colab.research.google.com/assets/colab-badge.svg\" alt=\"Open In Colab\"/></a>"
      ]
    },
    {
      "cell_type": "markdown",
      "metadata": {
        "id": "Yyu6i5TH3b99"
      },
      "source": [
        "# Activitie 1 - Data Set : LOL_champions_stats \n"
      ]
    },
    {
      "source": [
        "## Loading dataset from github repository:"
      ],
      "cell_type": "markdown",
      "metadata": {}
    },
    {
      "cell_type": "code",
      "metadata": {
        "colab": {
          "base_uri": "https://localhost:8080/",
          "height": 893
        },
        "id": "bgCK5fMPB_13",
        "outputId": "a308b073-e13f-4361-9c3f-6ec4caef15e7"
      },
      "source": [
        "import pandas as pd\n",
        "ds = pd.read_csv(\"https://raw.githubusercontent.com/spinosaphb/ufc-machine-learning/main/datasets/DS0%20-%20LOL/LOL_champions_stats.csv\", delimiter=';') "
      ],
      "execution_count": 1,
      "outputs": []
    },
    {
      "source": [
        "## Showing the first 20 rows of dataset:"
      ],
      "cell_type": "markdown",
      "metadata": {}
    },
    {
      "cell_type": "code",
      "execution_count": 2,
      "metadata": {},
      "outputs": [
        {
          "output_type": "execute_result",
          "data": {
            "text/plain": [
              "   champion_name              champion_title         class   playstyle  \\\n",
              "0         Aatrox            the Darkin Blade       Fighter  Juggernaut   \n",
              "1           Ahri         the Nine-Tailed Fox          Mage       Burst   \n",
              "2          Akali          the Rogue Assassin        Slayer    Assassin   \n",
              "3        Alistar                the Minotaur          Tank    Vanguard   \n",
              "4          Amumu               the Sad Mummy          Tank    Vanguard   \n",
              "5         Anivia             the Cryophoenix          Mage  Battlemage   \n",
              "6          Annie              the Dark Child          Mage       Burst   \n",
              "7       Aphelios  the Weapon of the Faithful      Marksman    Marksman   \n",
              "8           Ashe            the Frost Archer      Marksman    Marksman   \n",
              "9   Aurelion Sol             The Star Forger          Mage  Battlemage   \n",
              "10          Azir    the Emperor of the Sands    Specialist  Specialist   \n",
              "11          Bard     the Wandering Caretaker  Controllerer     Catcher   \n",
              "12    Blitzcrank       the Great Steam Golem  Controllerer     Catcher   \n",
              "13         Brand       the Burning Vengeance          Mage       Burst   \n",
              "14         Braum   the Heart of the Freljord          Tank      Warden   \n",
              "15       Caitlyn     the Sheriff of Piltover      Marksman    Marksman   \n",
              "16       Camille            the Steel Shadow       Fighter       Diver   \n",
              "17    Cassiopeia       the Serpent's Embrace          Mage  Battlemage   \n",
              "18       Chogath      the Terror of the Void    Specialist  Specialist   \n",
              "19         Corki       the Daring Bombardier      Marksman    Marksman   \n",
              "\n",
              "   date_release last_change  blue_essence_price  rp_price   ressource     HP  \\\n",
              "0    13/06/2013       V11.2                4800       880  Blood Well  580.0   \n",
              "1    14/12/2011       V11.1                3150       790        Mana  526.0   \n",
              "2    11/05/2010      V11.10                3150       790      Energy  500.0   \n",
              "3    21/02/2009       V11.8                1350       585        Mana  600.0   \n",
              "4    26/06/2009       V11.7                 450       260        Mana  615.0   \n",
              "5    10/07/2009       V11.8                3150       790        Mana  480.0   \n",
              "6    21/02/2009       V11.8                 450       260        Mana  524.0   \n",
              "7    11/12/2019       V11.8                6300       975        Mana  530.0   \n",
              "8    21/02/2009       V11.7                 450       260        Mana  570.0   \n",
              "9    24/03/2016      V11.10                6300       975        Mana  575.0   \n",
              "10   16/09/2014       V11.5                4800       880        Mana  552.0   \n",
              "11   12/03/2015      V11.10                6300       975        Mana  560.0   \n",
              "12   02/09/2009       V11.1                3150       790        Mana  583.0   \n",
              "13   12/04/2011       V11.7                4800       880        Mana  520.0   \n",
              "14   12/05/2014       V11.7                4800       880        Mana  540.0   \n",
              "15   04/01/2011       V11.8                4800       880        Mana  510.0   \n",
              "16   07/12/2016       V11.5                6300       975        Mana  576.0   \n",
              "17   14/12/2010       V11.8                4800       880        Mana  560.0   \n",
              "18   26/06/2009       V11.3                1350       585        Mana  574.0   \n",
              "19   19/09/2009       V11.8                3150       790        Mana  518.0   \n",
              "\n",
              "    ...    AR   AR+  AR_lvl18    MR   MR+  MR_lvl18   MS  MS_lvl18  range  \\\n",
              "0   ...  38.0  3.25     93.25  32.0  1.25     53.25  345       345    175   \n",
              "1   ...  21.0  3.50     80.50  30.0  0.50     38.50  330       330    550   \n",
              "2   ...  23.0  3.50     82.50  37.0  1.25     58.25  345       345    125   \n",
              "3   ...  44.0  3.50    103.50  32.0  1.25     53.25  330       330    125   \n",
              "4   ...  30.0  3.80     94.60  32.0  1.25     53.25  335       335    125   \n",
              "5   ...  21.0  4.00     89.00  30.0  0.50     38.50  325       325    600   \n",
              "6   ...  19.0  4.00     87.00  30.0  0.50     38.50  335       335    625   \n",
              "7   ...  28.0  3.00     79.00  26.0  0.50     34.50  325       325    550   \n",
              "8   ...  26.0  3.40     83.80  30.0  0.50     38.50  325       325    600   \n",
              "9   ...  19.0  3.60     80.20  30.0  0.50     38.50  325       325    550   \n",
              "10  ...  19.0  3.00     70.00  30.0  0.50     38.50  335       335    525   \n",
              "11  ...  34.0  4.00    102.00  30.0  0.50     38.50  330       330    500   \n",
              "12  ...  37.0  3.50     96.50  32.0  1.25     53.25  325       325    125   \n",
              "13  ...  22.0  3.50     81.50  30.0  0.50     38.50  340       340    550   \n",
              "14  ...  47.0  4.00    115.00  32.0  1.25     53.25  335       335    125   \n",
              "15  ...  28.0  3.50     87.50  30.0  0.50     38.50  325       325    650   \n",
              "16  ...  35.0  3.80     99.60  32.1  1.25     53.35  340       340    125   \n",
              "17  ...  18.0  3.50     77.50  32.0  0.50     40.50  328       328    550   \n",
              "18  ...  38.0  3.50     97.50  32.0  1.25     53.25  345       345    125   \n",
              "19  ...  28.0  3.50     87.50  30.0  0.50     38.50  325       325    550   \n",
              "\n",
              "    range_lvl18  \n",
              "0           175  \n",
              "1           550  \n",
              "2           125  \n",
              "3           125  \n",
              "4           125  \n",
              "5           600  \n",
              "6           625  \n",
              "7           550  \n",
              "8           600  \n",
              "9           550  \n",
              "10          525  \n",
              "11          500  \n",
              "12          125  \n",
              "13          550  \n",
              "14          125  \n",
              "15          650  \n",
              "16          125  \n",
              "17          550  \n",
              "18          125  \n",
              "19          550  \n",
              "\n",
              "[20 rows x 37 columns]"
            ],
            "text/html": "<div>\n<style scoped>\n    .dataframe tbody tr th:only-of-type {\n        vertical-align: middle;\n    }\n\n    .dataframe tbody tr th {\n        vertical-align: top;\n    }\n\n    .dataframe thead th {\n        text-align: right;\n    }\n</style>\n<table border=\"1\" class=\"dataframe\">\n  <thead>\n    <tr style=\"text-align: right;\">\n      <th></th>\n      <th>champion_name</th>\n      <th>champion_title</th>\n      <th>class</th>\n      <th>playstyle</th>\n      <th>date_release</th>\n      <th>last_change</th>\n      <th>blue_essence_price</th>\n      <th>rp_price</th>\n      <th>ressource</th>\n      <th>HP</th>\n      <th>...</th>\n      <th>AR</th>\n      <th>AR+</th>\n      <th>AR_lvl18</th>\n      <th>MR</th>\n      <th>MR+</th>\n      <th>MR_lvl18</th>\n      <th>MS</th>\n      <th>MS_lvl18</th>\n      <th>range</th>\n      <th>range_lvl18</th>\n    </tr>\n  </thead>\n  <tbody>\n    <tr>\n      <th>0</th>\n      <td>Aatrox</td>\n      <td>the Darkin Blade</td>\n      <td>Fighter</td>\n      <td>Juggernaut</td>\n      <td>13/06/2013</td>\n      <td>V11.2</td>\n      <td>4800</td>\n      <td>880</td>\n      <td>Blood Well</td>\n      <td>580.0</td>\n      <td>...</td>\n      <td>38.0</td>\n      <td>3.25</td>\n      <td>93.25</td>\n      <td>32.0</td>\n      <td>1.25</td>\n      <td>53.25</td>\n      <td>345</td>\n      <td>345</td>\n      <td>175</td>\n      <td>175</td>\n    </tr>\n    <tr>\n      <th>1</th>\n      <td>Ahri</td>\n      <td>the Nine-Tailed Fox</td>\n      <td>Mage</td>\n      <td>Burst</td>\n      <td>14/12/2011</td>\n      <td>V11.1</td>\n      <td>3150</td>\n      <td>790</td>\n      <td>Mana</td>\n      <td>526.0</td>\n      <td>...</td>\n      <td>21.0</td>\n      <td>3.50</td>\n      <td>80.50</td>\n      <td>30.0</td>\n      <td>0.50</td>\n      <td>38.50</td>\n      <td>330</td>\n      <td>330</td>\n      <td>550</td>\n      <td>550</td>\n    </tr>\n    <tr>\n      <th>2</th>\n      <td>Akali</td>\n      <td>the Rogue Assassin</td>\n      <td>Slayer</td>\n      <td>Assassin</td>\n      <td>11/05/2010</td>\n      <td>V11.10</td>\n      <td>3150</td>\n      <td>790</td>\n      <td>Energy</td>\n      <td>500.0</td>\n      <td>...</td>\n      <td>23.0</td>\n      <td>3.50</td>\n      <td>82.50</td>\n      <td>37.0</td>\n      <td>1.25</td>\n      <td>58.25</td>\n      <td>345</td>\n      <td>345</td>\n      <td>125</td>\n      <td>125</td>\n    </tr>\n    <tr>\n      <th>3</th>\n      <td>Alistar</td>\n      <td>the Minotaur</td>\n      <td>Tank</td>\n      <td>Vanguard</td>\n      <td>21/02/2009</td>\n      <td>V11.8</td>\n      <td>1350</td>\n      <td>585</td>\n      <td>Mana</td>\n      <td>600.0</td>\n      <td>...</td>\n      <td>44.0</td>\n      <td>3.50</td>\n      <td>103.50</td>\n      <td>32.0</td>\n      <td>1.25</td>\n      <td>53.25</td>\n      <td>330</td>\n      <td>330</td>\n      <td>125</td>\n      <td>125</td>\n    </tr>\n    <tr>\n      <th>4</th>\n      <td>Amumu</td>\n      <td>the Sad Mummy</td>\n      <td>Tank</td>\n      <td>Vanguard</td>\n      <td>26/06/2009</td>\n      <td>V11.7</td>\n      <td>450</td>\n      <td>260</td>\n      <td>Mana</td>\n      <td>615.0</td>\n      <td>...</td>\n      <td>30.0</td>\n      <td>3.80</td>\n      <td>94.60</td>\n      <td>32.0</td>\n      <td>1.25</td>\n      <td>53.25</td>\n      <td>335</td>\n      <td>335</td>\n      <td>125</td>\n      <td>125</td>\n    </tr>\n    <tr>\n      <th>5</th>\n      <td>Anivia</td>\n      <td>the Cryophoenix</td>\n      <td>Mage</td>\n      <td>Battlemage</td>\n      <td>10/07/2009</td>\n      <td>V11.8</td>\n      <td>3150</td>\n      <td>790</td>\n      <td>Mana</td>\n      <td>480.0</td>\n      <td>...</td>\n      <td>21.0</td>\n      <td>4.00</td>\n      <td>89.00</td>\n      <td>30.0</td>\n      <td>0.50</td>\n      <td>38.50</td>\n      <td>325</td>\n      <td>325</td>\n      <td>600</td>\n      <td>600</td>\n    </tr>\n    <tr>\n      <th>6</th>\n      <td>Annie</td>\n      <td>the Dark Child</td>\n      <td>Mage</td>\n      <td>Burst</td>\n      <td>21/02/2009</td>\n      <td>V11.8</td>\n      <td>450</td>\n      <td>260</td>\n      <td>Mana</td>\n      <td>524.0</td>\n      <td>...</td>\n      <td>19.0</td>\n      <td>4.00</td>\n      <td>87.00</td>\n      <td>30.0</td>\n      <td>0.50</td>\n      <td>38.50</td>\n      <td>335</td>\n      <td>335</td>\n      <td>625</td>\n      <td>625</td>\n    </tr>\n    <tr>\n      <th>7</th>\n      <td>Aphelios</td>\n      <td>the Weapon of the Faithful</td>\n      <td>Marksman</td>\n      <td>Marksman</td>\n      <td>11/12/2019</td>\n      <td>V11.8</td>\n      <td>6300</td>\n      <td>975</td>\n      <td>Mana</td>\n      <td>530.0</td>\n      <td>...</td>\n      <td>28.0</td>\n      <td>3.00</td>\n      <td>79.00</td>\n      <td>26.0</td>\n      <td>0.50</td>\n      <td>34.50</td>\n      <td>325</td>\n      <td>325</td>\n      <td>550</td>\n      <td>550</td>\n    </tr>\n    <tr>\n      <th>8</th>\n      <td>Ashe</td>\n      <td>the Frost Archer</td>\n      <td>Marksman</td>\n      <td>Marksman</td>\n      <td>21/02/2009</td>\n      <td>V11.7</td>\n      <td>450</td>\n      <td>260</td>\n      <td>Mana</td>\n      <td>570.0</td>\n      <td>...</td>\n      <td>26.0</td>\n      <td>3.40</td>\n      <td>83.80</td>\n      <td>30.0</td>\n      <td>0.50</td>\n      <td>38.50</td>\n      <td>325</td>\n      <td>325</td>\n      <td>600</td>\n      <td>600</td>\n    </tr>\n    <tr>\n      <th>9</th>\n      <td>Aurelion Sol</td>\n      <td>The Star Forger</td>\n      <td>Mage</td>\n      <td>Battlemage</td>\n      <td>24/03/2016</td>\n      <td>V11.10</td>\n      <td>6300</td>\n      <td>975</td>\n      <td>Mana</td>\n      <td>575.0</td>\n      <td>...</td>\n      <td>19.0</td>\n      <td>3.60</td>\n      <td>80.20</td>\n      <td>30.0</td>\n      <td>0.50</td>\n      <td>38.50</td>\n      <td>325</td>\n      <td>325</td>\n      <td>550</td>\n      <td>550</td>\n    </tr>\n    <tr>\n      <th>10</th>\n      <td>Azir</td>\n      <td>the Emperor of the Sands</td>\n      <td>Specialist</td>\n      <td>Specialist</td>\n      <td>16/09/2014</td>\n      <td>V11.5</td>\n      <td>4800</td>\n      <td>880</td>\n      <td>Mana</td>\n      <td>552.0</td>\n      <td>...</td>\n      <td>19.0</td>\n      <td>3.00</td>\n      <td>70.00</td>\n      <td>30.0</td>\n      <td>0.50</td>\n      <td>38.50</td>\n      <td>335</td>\n      <td>335</td>\n      <td>525</td>\n      <td>525</td>\n    </tr>\n    <tr>\n      <th>11</th>\n      <td>Bard</td>\n      <td>the Wandering Caretaker</td>\n      <td>Controllerer</td>\n      <td>Catcher</td>\n      <td>12/03/2015</td>\n      <td>V11.10</td>\n      <td>6300</td>\n      <td>975</td>\n      <td>Mana</td>\n      <td>560.0</td>\n      <td>...</td>\n      <td>34.0</td>\n      <td>4.00</td>\n      <td>102.00</td>\n      <td>30.0</td>\n      <td>0.50</td>\n      <td>38.50</td>\n      <td>330</td>\n      <td>330</td>\n      <td>500</td>\n      <td>500</td>\n    </tr>\n    <tr>\n      <th>12</th>\n      <td>Blitzcrank</td>\n      <td>the Great Steam Golem</td>\n      <td>Controllerer</td>\n      <td>Catcher</td>\n      <td>02/09/2009</td>\n      <td>V11.1</td>\n      <td>3150</td>\n      <td>790</td>\n      <td>Mana</td>\n      <td>583.0</td>\n      <td>...</td>\n      <td>37.0</td>\n      <td>3.50</td>\n      <td>96.50</td>\n      <td>32.0</td>\n      <td>1.25</td>\n      <td>53.25</td>\n      <td>325</td>\n      <td>325</td>\n      <td>125</td>\n      <td>125</td>\n    </tr>\n    <tr>\n      <th>13</th>\n      <td>Brand</td>\n      <td>the Burning Vengeance</td>\n      <td>Mage</td>\n      <td>Burst</td>\n      <td>12/04/2011</td>\n      <td>V11.7</td>\n      <td>4800</td>\n      <td>880</td>\n      <td>Mana</td>\n      <td>520.0</td>\n      <td>...</td>\n      <td>22.0</td>\n      <td>3.50</td>\n      <td>81.50</td>\n      <td>30.0</td>\n      <td>0.50</td>\n      <td>38.50</td>\n      <td>340</td>\n      <td>340</td>\n      <td>550</td>\n      <td>550</td>\n    </tr>\n    <tr>\n      <th>14</th>\n      <td>Braum</td>\n      <td>the Heart of the Freljord</td>\n      <td>Tank</td>\n      <td>Warden</td>\n      <td>12/05/2014</td>\n      <td>V11.7</td>\n      <td>4800</td>\n      <td>880</td>\n      <td>Mana</td>\n      <td>540.0</td>\n      <td>...</td>\n      <td>47.0</td>\n      <td>4.00</td>\n      <td>115.00</td>\n      <td>32.0</td>\n      <td>1.25</td>\n      <td>53.25</td>\n      <td>335</td>\n      <td>335</td>\n      <td>125</td>\n      <td>125</td>\n    </tr>\n    <tr>\n      <th>15</th>\n      <td>Caitlyn</td>\n      <td>the Sheriff of Piltover</td>\n      <td>Marksman</td>\n      <td>Marksman</td>\n      <td>04/01/2011</td>\n      <td>V11.8</td>\n      <td>4800</td>\n      <td>880</td>\n      <td>Mana</td>\n      <td>510.0</td>\n      <td>...</td>\n      <td>28.0</td>\n      <td>3.50</td>\n      <td>87.50</td>\n      <td>30.0</td>\n      <td>0.50</td>\n      <td>38.50</td>\n      <td>325</td>\n      <td>325</td>\n      <td>650</td>\n      <td>650</td>\n    </tr>\n    <tr>\n      <th>16</th>\n      <td>Camille</td>\n      <td>the Steel Shadow</td>\n      <td>Fighter</td>\n      <td>Diver</td>\n      <td>07/12/2016</td>\n      <td>V11.5</td>\n      <td>6300</td>\n      <td>975</td>\n      <td>Mana</td>\n      <td>576.0</td>\n      <td>...</td>\n      <td>35.0</td>\n      <td>3.80</td>\n      <td>99.60</td>\n      <td>32.1</td>\n      <td>1.25</td>\n      <td>53.35</td>\n      <td>340</td>\n      <td>340</td>\n      <td>125</td>\n      <td>125</td>\n    </tr>\n    <tr>\n      <th>17</th>\n      <td>Cassiopeia</td>\n      <td>the Serpent's Embrace</td>\n      <td>Mage</td>\n      <td>Battlemage</td>\n      <td>14/12/2010</td>\n      <td>V11.8</td>\n      <td>4800</td>\n      <td>880</td>\n      <td>Mana</td>\n      <td>560.0</td>\n      <td>...</td>\n      <td>18.0</td>\n      <td>3.50</td>\n      <td>77.50</td>\n      <td>32.0</td>\n      <td>0.50</td>\n      <td>40.50</td>\n      <td>328</td>\n      <td>328</td>\n      <td>550</td>\n      <td>550</td>\n    </tr>\n    <tr>\n      <th>18</th>\n      <td>Chogath</td>\n      <td>the Terror of the Void</td>\n      <td>Specialist</td>\n      <td>Specialist</td>\n      <td>26/06/2009</td>\n      <td>V11.3</td>\n      <td>1350</td>\n      <td>585</td>\n      <td>Mana</td>\n      <td>574.0</td>\n      <td>...</td>\n      <td>38.0</td>\n      <td>3.50</td>\n      <td>97.50</td>\n      <td>32.0</td>\n      <td>1.25</td>\n      <td>53.25</td>\n      <td>345</td>\n      <td>345</td>\n      <td>125</td>\n      <td>125</td>\n    </tr>\n    <tr>\n      <th>19</th>\n      <td>Corki</td>\n      <td>the Daring Bombardier</td>\n      <td>Marksman</td>\n      <td>Marksman</td>\n      <td>19/09/2009</td>\n      <td>V11.8</td>\n      <td>3150</td>\n      <td>790</td>\n      <td>Mana</td>\n      <td>518.0</td>\n      <td>...</td>\n      <td>28.0</td>\n      <td>3.50</td>\n      <td>87.50</td>\n      <td>30.0</td>\n      <td>0.50</td>\n      <td>38.50</td>\n      <td>325</td>\n      <td>325</td>\n      <td>550</td>\n      <td>550</td>\n    </tr>\n  </tbody>\n</table>\n<p>20 rows × 37 columns</p>\n</div>"
          },
          "metadata": {},
          "execution_count": 2
        }
      ],
      "source": [
        "ds.head(20)"
      ]
    },
    {
      "source": [
        "## Number of rows from dataset:"
      ],
      "cell_type": "markdown",
      "metadata": {}
    },
    {
      "cell_type": "code",
      "metadata": {
        "id": "sF-e9GwkDE0G"
      },
      "source": [
        "ds.shape[0] # Number of rows\n",
        "# Others possibilities: len(ds.index), len(ds) , ds.columns[0].count"
      ],
      "execution_count": 3,
      "outputs": [
        {
          "output_type": "execute_result",
          "data": {
            "text/plain": [
              "157"
            ]
          },
          "metadata": {},
          "execution_count": 3
        }
      ]
    },
    {
      "source": [
        "## Mean, standard deviation and minimum and maximum values from 'HP' column:"
      ],
      "cell_type": "markdown",
      "metadata": {}
    },
    {
      "cell_type": "code",
      "execution_count": 4,
      "metadata": {},
      "outputs": [
        {
          "output_type": "execute_result",
          "data": {
            "text/plain": [
              "(557.7, 40.03, 340.0, 740.0)"
            ]
          },
          "metadata": {},
          "execution_count": 4
        }
      ],
      "source": [
        "# taking the HP column \n",
        "hpcol = ds['HP']\n",
        "# round() specifies the number of decimal places after the comma\n",
        "mean = round(hpcol.mean(), 2)  \n",
        "std  = round(hpcol.std(), 2)\n",
        "minv = hpcol.min()\n",
        "maxv = hpcol.max()\n",
        "mean, std, minv, maxv\n",
        "\n"
      ]
    },
    {
      "source": [
        "## Showing the first 5 rows of the dataset in descending order based on the 'HP' column:"
      ],
      "cell_type": "markdown",
      "metadata": {}
    },
    {
      "cell_type": "code",
      "execution_count": 5,
      "metadata": {},
      "outputs": [
        {
          "output_type": "execute_result",
          "data": {
            "text/plain": [
              "  champion_name       champion_title    class   playstyle date_release  \\\n",
              "4         Amumu        the Sad Mummy     Tank    Vanguard   26/06/2009   \n",
              "3       Alistar         the Minotaur     Tank    Vanguard   21/02/2009   \n",
              "0        Aatrox     the Darkin Blade  Fighter  Juggernaut   13/06/2013   \n",
              "1          Ahri  the Nine-Tailed Fox     Mage       Burst   14/12/2011   \n",
              "2         Akali   the Rogue Assassin   Slayer    Assassin   11/05/2010   \n",
              "\n",
              "  last_change  blue_essence_price  rp_price   ressource     HP  ...    AR  \\\n",
              "4       V11.7                 450       260        Mana  615.0  ...  30.0   \n",
              "3       V11.8                1350       585        Mana  600.0  ...  44.0   \n",
              "0       V11.2                4800       880  Blood Well  580.0  ...  38.0   \n",
              "1       V11.1                3150       790        Mana  526.0  ...  21.0   \n",
              "2      V11.10                3150       790      Energy  500.0  ...  23.0   \n",
              "\n",
              "    AR+  AR_lvl18    MR   MR+  MR_lvl18   MS  MS_lvl18  range  range_lvl18  \n",
              "4  3.80     94.60  32.0  1.25     53.25  335       335    125          125  \n",
              "3  3.50    103.50  32.0  1.25     53.25  330       330    125          125  \n",
              "0  3.25     93.25  32.0  1.25     53.25  345       345    175          175  \n",
              "1  3.50     80.50  30.0  0.50     38.50  330       330    550          550  \n",
              "2  3.50     82.50  37.0  1.25     58.25  345       345    125          125  \n",
              "\n",
              "[5 rows x 37 columns]"
            ],
            "text/html": "<div>\n<style scoped>\n    .dataframe tbody tr th:only-of-type {\n        vertical-align: middle;\n    }\n\n    .dataframe tbody tr th {\n        vertical-align: top;\n    }\n\n    .dataframe thead th {\n        text-align: right;\n    }\n</style>\n<table border=\"1\" class=\"dataframe\">\n  <thead>\n    <tr style=\"text-align: right;\">\n      <th></th>\n      <th>champion_name</th>\n      <th>champion_title</th>\n      <th>class</th>\n      <th>playstyle</th>\n      <th>date_release</th>\n      <th>last_change</th>\n      <th>blue_essence_price</th>\n      <th>rp_price</th>\n      <th>ressource</th>\n      <th>HP</th>\n      <th>...</th>\n      <th>AR</th>\n      <th>AR+</th>\n      <th>AR_lvl18</th>\n      <th>MR</th>\n      <th>MR+</th>\n      <th>MR_lvl18</th>\n      <th>MS</th>\n      <th>MS_lvl18</th>\n      <th>range</th>\n      <th>range_lvl18</th>\n    </tr>\n  </thead>\n  <tbody>\n    <tr>\n      <th>4</th>\n      <td>Amumu</td>\n      <td>the Sad Mummy</td>\n      <td>Tank</td>\n      <td>Vanguard</td>\n      <td>26/06/2009</td>\n      <td>V11.7</td>\n      <td>450</td>\n      <td>260</td>\n      <td>Mana</td>\n      <td>615.0</td>\n      <td>...</td>\n      <td>30.0</td>\n      <td>3.80</td>\n      <td>94.60</td>\n      <td>32.0</td>\n      <td>1.25</td>\n      <td>53.25</td>\n      <td>335</td>\n      <td>335</td>\n      <td>125</td>\n      <td>125</td>\n    </tr>\n    <tr>\n      <th>3</th>\n      <td>Alistar</td>\n      <td>the Minotaur</td>\n      <td>Tank</td>\n      <td>Vanguard</td>\n      <td>21/02/2009</td>\n      <td>V11.8</td>\n      <td>1350</td>\n      <td>585</td>\n      <td>Mana</td>\n      <td>600.0</td>\n      <td>...</td>\n      <td>44.0</td>\n      <td>3.50</td>\n      <td>103.50</td>\n      <td>32.0</td>\n      <td>1.25</td>\n      <td>53.25</td>\n      <td>330</td>\n      <td>330</td>\n      <td>125</td>\n      <td>125</td>\n    </tr>\n    <tr>\n      <th>0</th>\n      <td>Aatrox</td>\n      <td>the Darkin Blade</td>\n      <td>Fighter</td>\n      <td>Juggernaut</td>\n      <td>13/06/2013</td>\n      <td>V11.2</td>\n      <td>4800</td>\n      <td>880</td>\n      <td>Blood Well</td>\n      <td>580.0</td>\n      <td>...</td>\n      <td>38.0</td>\n      <td>3.25</td>\n      <td>93.25</td>\n      <td>32.0</td>\n      <td>1.25</td>\n      <td>53.25</td>\n      <td>345</td>\n      <td>345</td>\n      <td>175</td>\n      <td>175</td>\n    </tr>\n    <tr>\n      <th>1</th>\n      <td>Ahri</td>\n      <td>the Nine-Tailed Fox</td>\n      <td>Mage</td>\n      <td>Burst</td>\n      <td>14/12/2011</td>\n      <td>V11.1</td>\n      <td>3150</td>\n      <td>790</td>\n      <td>Mana</td>\n      <td>526.0</td>\n      <td>...</td>\n      <td>21.0</td>\n      <td>3.50</td>\n      <td>80.50</td>\n      <td>30.0</td>\n      <td>0.50</td>\n      <td>38.50</td>\n      <td>330</td>\n      <td>330</td>\n      <td>550</td>\n      <td>550</td>\n    </tr>\n    <tr>\n      <th>2</th>\n      <td>Akali</td>\n      <td>the Rogue Assassin</td>\n      <td>Slayer</td>\n      <td>Assassin</td>\n      <td>11/05/2010</td>\n      <td>V11.10</td>\n      <td>3150</td>\n      <td>790</td>\n      <td>Energy</td>\n      <td>500.0</td>\n      <td>...</td>\n      <td>23.0</td>\n      <td>3.50</td>\n      <td>82.50</td>\n      <td>37.0</td>\n      <td>1.25</td>\n      <td>58.25</td>\n      <td>345</td>\n      <td>345</td>\n      <td>125</td>\n      <td>125</td>\n    </tr>\n  </tbody>\n</table>\n<p>5 rows × 37 columns</p>\n</div>"
          },
          "metadata": {},
          "execution_count": 5
        }
      ],
      "source": [
        "ds.head(5).sort_values('HP', ascending=0)"
      ]
    },
    {
      "source": [
        "## end </> :)"
      ],
      "cell_type": "markdown",
      "metadata": {}
    }
  ]
}