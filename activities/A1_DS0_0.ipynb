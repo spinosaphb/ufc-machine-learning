{
  "nbformat": 4,
  "nbformat_minor": 0,
  "metadata": {
    "colab": {
      "name": "A1-DS0-0.ipynb",
      "provenance": [],
      "collapsed_sections": [],
      "mount_file_id": "1UO9GyiQs1kEPYROrjf9Bdl3btSRiSsSb",
      "authorship_tag": "ABX9TyMzBFO0y0piFARe/FOii1EZ",
      "include_colab_link": true
    },
    "kernelspec": {
      "name": "python391jvsc74a57bd009b1961d4b9024043caf4a3909c51fffe82294c433933f457f21ff90042a2eb4",
      "display_name": "Python 3.9.1 64-bit ('base': conda)"
    },
    "language_info": {
      "name": "python",
      "version": "3.9.1"
    }
  },
  "cells": [
    {
      "cell_type": "markdown",
      "metadata": {
        "id": "view-in-github",
        "colab_type": "text"
      },
      "source": [
        "<a href=\"https://colab.research.google.com/github/spinosaphb/ufc-machine-learning/blob/main/activities/A1_DS0_0.ipynb\" target=\"_parent\"><img src=\"https://colab.research.google.com/assets/colab-badge.svg\" alt=\"Open In Colab\"/></a>"
      ]
    },
    {
      "cell_type": "markdown",
      "metadata": {
        "id": "Yyu6i5TH3b99"
      },
      "source": [
        "# Activitie 1 - Data Set : LOL_champions_stats \n"
      ]
    },
    {
      "source": [
        "## Loading data set from github repository:"
      ],
      "cell_type": "markdown",
      "metadata": {}
    },
    {
      "cell_type": "code",
      "metadata": {
        "colab": {
          "base_uri": "https://localhost:8080/",
          "height": 893
        },
        "id": "bgCK5fMPB_13",
        "outputId": "a308b073-e13f-4361-9c3f-6ec4caef15e7"
      },
      "source": [
        "import pandas as pd\n",
        "ds = pd.read_csv(\"https://raw.githubusercontent.com/spinosaphb/ufc-machine-learning/main/datasets/DS0%20-%20LOL/LOL_champions_stats.csv\", delimiter=';') "
      ],
      "execution_count": 9,
      "outputs": []
    },
    {
      "source": [
        "## Showing the first 20 rows of dataset:"
      ],
      "cell_type": "markdown",
      "metadata": {}
    },
    {
      "cell_type": "code",
      "execution_count": 10,
      "metadata": {},
      "outputs": [
        {
          "output_type": "execute_result",
          "data": {
            "text/plain": [
              "   champion_name,champion_title,class,playstyle,date_release,last_change,blue_essence_price,rp_price,ressource,HP,HP+,HP_lvl18,HP5,HP5+,HP5_lvl18,MP,MP+,MP_lvl18,MP5,MP5+,MP5_lvl18,AD,AD+,AD_lvl18,AS,AS+,AS_lvl18,AR,AR+,AR_lvl18,MR,MR+,MR_lvl18,MS,MS_lvl18,range,range_lvl18\n",
              "0   Aatrox,the Darkin Blade,Fighter,Juggernaut,13/...                                                                                                                                                                                                                             \n",
              "1   Ahri,the Nine-Tailed Fox,Mage,Burst,14/12/2011...                                                                                                                                                                                                                             \n",
              "2   Akali,the Rogue Assassin,Slayer,Assassin,11/05...                                                                                                                                                                                                                             \n",
              "3   Alistar,the Minotaur,Tank,Vanguard,21/02/2009,...                                                                                                                                                                                                                             \n",
              "4   Amumu,the Sad Mummy,Tank,Vanguard,26/06/2009,V...                                                                                                                                                                                                                             \n",
              "5   Anivia,the Cryophoenix,Mage,Battlemage,10/07/2...                                                                                                                                                                                                                             \n",
              "6   Annie,the Dark Child,Mage,Burst,21/02/2009,V11...                                                                                                                                                                                                                             \n",
              "7   Aphelios,the Weapon of the Faithful,Marksman,M...                                                                                                                                                                                                                             \n",
              "8   Ashe,the Frost Archer,Marksman,Marksman,21/02/...                                                                                                                                                                                                                             \n",
              "9   Aurelion Sol,The Star Forger,Mage,Battlemage,2...                                                                                                                                                                                                                             \n",
              "10  Azir,the Emperor of the Sands,Specialist,Speci...                                                                                                                                                                                                                             \n",
              "11  Bard,the Wandering Caretaker,Controllerer,Catc...                                                                                                                                                                                                                             \n",
              "12  Blitzcrank,the Great Steam Golem,Controllerer,...                                                                                                                                                                                                                             \n",
              "13  Brand,the Burning Vengeance,Mage,Burst,12/04/2...                                                                                                                                                                                                                             \n",
              "14  Braum,the Heart of the Freljord,Tank,Warden,12...                                                                                                                                                                                                                             \n",
              "15  Caitlyn,the Sheriff of Piltover,Marksman,Marks...                                                                                                                                                                                                                             \n",
              "16  Camille,the Steel Shadow,Fighter,Diver,07/12/2...                                                                                                                                                                                                                             \n",
              "17  Cassiopeia,the Serpent's Embrace,Mage,Battlema...                                                                                                                                                                                                                             \n",
              "18  Chogath,the Terror of the Void,Specialist,Spec...                                                                                                                                                                                                                             \n",
              "19  Corki,the Daring Bombardier,Marksman,Marksman,...                                                                                                                                                                                                                             "
            ],
            "text/html": "<div>\n<style scoped>\n    .dataframe tbody tr th:only-of-type {\n        vertical-align: middle;\n    }\n\n    .dataframe tbody tr th {\n        vertical-align: top;\n    }\n\n    .dataframe thead th {\n        text-align: right;\n    }\n</style>\n<table border=\"1\" class=\"dataframe\">\n  <thead>\n    <tr style=\"text-align: right;\">\n      <th></th>\n      <th>champion_name,champion_title,class,playstyle,date_release,last_change,blue_essence_price,rp_price,ressource,HP,HP+,HP_lvl18,HP5,HP5+,HP5_lvl18,MP,MP+,MP_lvl18,MP5,MP5+,MP5_lvl18,AD,AD+,AD_lvl18,AS,AS+,AS_lvl18,AR,AR+,AR_lvl18,MR,MR+,MR_lvl18,MS,MS_lvl18,range,range_lvl18</th>\n    </tr>\n  </thead>\n  <tbody>\n    <tr>\n      <th>0</th>\n      <td>Aatrox,the Darkin Blade,Fighter,Juggernaut,13/...</td>\n    </tr>\n    <tr>\n      <th>1</th>\n      <td>Ahri,the Nine-Tailed Fox,Mage,Burst,14/12/2011...</td>\n    </tr>\n    <tr>\n      <th>2</th>\n      <td>Akali,the Rogue Assassin,Slayer,Assassin,11/05...</td>\n    </tr>\n    <tr>\n      <th>3</th>\n      <td>Alistar,the Minotaur,Tank,Vanguard,21/02/2009,...</td>\n    </tr>\n    <tr>\n      <th>4</th>\n      <td>Amumu,the Sad Mummy,Tank,Vanguard,26/06/2009,V...</td>\n    </tr>\n    <tr>\n      <th>5</th>\n      <td>Anivia,the Cryophoenix,Mage,Battlemage,10/07/2...</td>\n    </tr>\n    <tr>\n      <th>6</th>\n      <td>Annie,the Dark Child,Mage,Burst,21/02/2009,V11...</td>\n    </tr>\n    <tr>\n      <th>7</th>\n      <td>Aphelios,the Weapon of the Faithful,Marksman,M...</td>\n    </tr>\n    <tr>\n      <th>8</th>\n      <td>Ashe,the Frost Archer,Marksman,Marksman,21/02/...</td>\n    </tr>\n    <tr>\n      <th>9</th>\n      <td>Aurelion Sol,The Star Forger,Mage,Battlemage,2...</td>\n    </tr>\n    <tr>\n      <th>10</th>\n      <td>Azir,the Emperor of the Sands,Specialist,Speci...</td>\n    </tr>\n    <tr>\n      <th>11</th>\n      <td>Bard,the Wandering Caretaker,Controllerer,Catc...</td>\n    </tr>\n    <tr>\n      <th>12</th>\n      <td>Blitzcrank,the Great Steam Golem,Controllerer,...</td>\n    </tr>\n    <tr>\n      <th>13</th>\n      <td>Brand,the Burning Vengeance,Mage,Burst,12/04/2...</td>\n    </tr>\n    <tr>\n      <th>14</th>\n      <td>Braum,the Heart of the Freljord,Tank,Warden,12...</td>\n    </tr>\n    <tr>\n      <th>15</th>\n      <td>Caitlyn,the Sheriff of Piltover,Marksman,Marks...</td>\n    </tr>\n    <tr>\n      <th>16</th>\n      <td>Camille,the Steel Shadow,Fighter,Diver,07/12/2...</td>\n    </tr>\n    <tr>\n      <th>17</th>\n      <td>Cassiopeia,the Serpent's Embrace,Mage,Battlema...</td>\n    </tr>\n    <tr>\n      <th>18</th>\n      <td>Chogath,the Terror of the Void,Specialist,Spec...</td>\n    </tr>\n    <tr>\n      <th>19</th>\n      <td>Corki,the Daring Bombardier,Marksman,Marksman,...</td>\n    </tr>\n  </tbody>\n</table>\n</div>"
          },
          "metadata": {},
          "execution_count": 10
        }
      ],
      "source": [
        "ds.head(20)"
      ]
    },
    {
      "source": [
        "## Number of rows from dataset:"
      ],
      "cell_type": "markdown",
      "metadata": {}
    },
    {
      "cell_type": "code",
      "metadata": {
        "id": "sF-e9GwkDE0G"
      },
      "source": [
        "ds.shape[0] # Number of rows\n",
        "# Others possibilities: len(ds.index), len(ds) , ds.columns[0].count"
      ],
      "execution_count": 37,
      "outputs": [
        {
          "output_type": "execute_result",
          "data": {
            "text/plain": [
              "157"
            ]
          },
          "metadata": {},
          "execution_count": 37
        }
      ]
    },
    {
      "source": [
        "## Mean, standard deviation and minimum and maximum values from 'HP' column:"
      ],
      "cell_type": "markdown",
      "metadata": {}
    },
    {
      "cell_type": "code",
      "execution_count": 100,
      "metadata": {},
      "outputs": [
        {
          "output_type": "execute_result",
          "data": {
            "text/plain": [
              "(557.7, 40.03, 340.0, 740.0)"
            ]
          },
          "metadata": {},
          "execution_count": 100
        }
      ],
      "source": [
        "# taking the HP column \n",
        "hpcol = ds['HP']\n",
        "# round() specifies the number of decimal places after the comma\n",
        "mean = round(hpcol.mean(), 2)  \n",
        "std  = round(hpcol.std(), 2)\n",
        "minv = hpcol.min()\n",
        "maxv = hpcol.max()\n",
        "mean, std, minv, maxv\n",
        "\n"
      ]
    },
    {
      "source": [
        "## Showing the first 5 rows of the dataset in descending order based on the 'HP' column:"
      ],
      "cell_type": "markdown",
      "metadata": {}
    },
    {
      "cell_type": "code",
      "execution_count": 93,
      "metadata": {},
      "outputs": [
        {
          "output_type": "execute_result",
          "data": {
            "text/plain": [
              "  champion_name       champion_title    class   playstyle date_release  \\\n",
              "4         Amumu        the Sad Mummy     Tank    Vanguard   26/06/2009   \n",
              "3       Alistar         the Minotaur     Tank    Vanguard   21/02/2009   \n",
              "0        Aatrox     the Darkin Blade  Fighter  Juggernaut   13/06/2013   \n",
              "1          Ahri  the Nine-Tailed Fox     Mage       Burst   14/12/2011   \n",
              "2         Akali   the Rogue Assassin   Slayer    Assassin   11/05/2010   \n",
              "\n",
              "  last_change  blue_essence_price  rp_price   ressource     HP  ...    AR  \\\n",
              "4       V11.7                 450       260        Mana  615.0  ...  30.0   \n",
              "3       V11.8                1350       585        Mana  600.0  ...  44.0   \n",
              "0       V11.2                4800       880  Blood Well  580.0  ...  38.0   \n",
              "1       V11.1                3150       790        Mana  526.0  ...  21.0   \n",
              "2      V11.10                3150       790      Energy  500.0  ...  23.0   \n",
              "\n",
              "    AR+  AR_lvl18    MR   MR+  MR_lvl18   MS  MS_lvl18  range  range_lvl18  \n",
              "4  3.80     94.60  32.0  1.25     53.25  335       335    125          125  \n",
              "3  3.50    103.50  32.0  1.25     53.25  330       330    125          125  \n",
              "0  3.25     93.25  32.0  1.25     53.25  345       345    175          175  \n",
              "1  3.50     80.50  30.0  0.50     38.50  330       330    550          550  \n",
              "2  3.50     82.50  37.0  1.25     58.25  345       345    125          125  \n",
              "\n",
              "[5 rows x 37 columns]"
            ],
            "text/html": "<div>\n<style scoped>\n    .dataframe tbody tr th:only-of-type {\n        vertical-align: middle;\n    }\n\n    .dataframe tbody tr th {\n        vertical-align: top;\n    }\n\n    .dataframe thead th {\n        text-align: right;\n    }\n</style>\n<table border=\"1\" class=\"dataframe\">\n  <thead>\n    <tr style=\"text-align: right;\">\n      <th></th>\n      <th>champion_name</th>\n      <th>champion_title</th>\n      <th>class</th>\n      <th>playstyle</th>\n      <th>date_release</th>\n      <th>last_change</th>\n      <th>blue_essence_price</th>\n      <th>rp_price</th>\n      <th>ressource</th>\n      <th>HP</th>\n      <th>...</th>\n      <th>AR</th>\n      <th>AR+</th>\n      <th>AR_lvl18</th>\n      <th>MR</th>\n      <th>MR+</th>\n      <th>MR_lvl18</th>\n      <th>MS</th>\n      <th>MS_lvl18</th>\n      <th>range</th>\n      <th>range_lvl18</th>\n    </tr>\n  </thead>\n  <tbody>\n    <tr>\n      <th>4</th>\n      <td>Amumu</td>\n      <td>the Sad Mummy</td>\n      <td>Tank</td>\n      <td>Vanguard</td>\n      <td>26/06/2009</td>\n      <td>V11.7</td>\n      <td>450</td>\n      <td>260</td>\n      <td>Mana</td>\n      <td>615.0</td>\n      <td>...</td>\n      <td>30.0</td>\n      <td>3.80</td>\n      <td>94.60</td>\n      <td>32.0</td>\n      <td>1.25</td>\n      <td>53.25</td>\n      <td>335</td>\n      <td>335</td>\n      <td>125</td>\n      <td>125</td>\n    </tr>\n    <tr>\n      <th>3</th>\n      <td>Alistar</td>\n      <td>the Minotaur</td>\n      <td>Tank</td>\n      <td>Vanguard</td>\n      <td>21/02/2009</td>\n      <td>V11.8</td>\n      <td>1350</td>\n      <td>585</td>\n      <td>Mana</td>\n      <td>600.0</td>\n      <td>...</td>\n      <td>44.0</td>\n      <td>3.50</td>\n      <td>103.50</td>\n      <td>32.0</td>\n      <td>1.25</td>\n      <td>53.25</td>\n      <td>330</td>\n      <td>330</td>\n      <td>125</td>\n      <td>125</td>\n    </tr>\n    <tr>\n      <th>0</th>\n      <td>Aatrox</td>\n      <td>the Darkin Blade</td>\n      <td>Fighter</td>\n      <td>Juggernaut</td>\n      <td>13/06/2013</td>\n      <td>V11.2</td>\n      <td>4800</td>\n      <td>880</td>\n      <td>Blood Well</td>\n      <td>580.0</td>\n      <td>...</td>\n      <td>38.0</td>\n      <td>3.25</td>\n      <td>93.25</td>\n      <td>32.0</td>\n      <td>1.25</td>\n      <td>53.25</td>\n      <td>345</td>\n      <td>345</td>\n      <td>175</td>\n      <td>175</td>\n    </tr>\n    <tr>\n      <th>1</th>\n      <td>Ahri</td>\n      <td>the Nine-Tailed Fox</td>\n      <td>Mage</td>\n      <td>Burst</td>\n      <td>14/12/2011</td>\n      <td>V11.1</td>\n      <td>3150</td>\n      <td>790</td>\n      <td>Mana</td>\n      <td>526.0</td>\n      <td>...</td>\n      <td>21.0</td>\n      <td>3.50</td>\n      <td>80.50</td>\n      <td>30.0</td>\n      <td>0.50</td>\n      <td>38.50</td>\n      <td>330</td>\n      <td>330</td>\n      <td>550</td>\n      <td>550</td>\n    </tr>\n    <tr>\n      <th>2</th>\n      <td>Akali</td>\n      <td>the Rogue Assassin</td>\n      <td>Slayer</td>\n      <td>Assassin</td>\n      <td>11/05/2010</td>\n      <td>V11.10</td>\n      <td>3150</td>\n      <td>790</td>\n      <td>Energy</td>\n      <td>500.0</td>\n      <td>...</td>\n      <td>23.0</td>\n      <td>3.50</td>\n      <td>82.50</td>\n      <td>37.0</td>\n      <td>1.25</td>\n      <td>58.25</td>\n      <td>345</td>\n      <td>345</td>\n      <td>125</td>\n      <td>125</td>\n    </tr>\n  </tbody>\n</table>\n<p>5 rows × 37 columns</p>\n</div>"
          },
          "metadata": {},
          "execution_count": 93
        }
      ],
      "source": [
        "ds.head(5).sort_values('HP', ascending=0)"
      ]
    },
    {
      "source": [
        "## end </> :)"
      ],
      "cell_type": "markdown",
      "metadata": {}
    }
  ]
}