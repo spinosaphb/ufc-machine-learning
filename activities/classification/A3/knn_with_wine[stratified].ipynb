{
 "metadata": {
  "language_info": {
   "codemirror_mode": {
    "name": "ipython",
    "version": 3
   },
   "file_extension": ".py",
   "mimetype": "text/x-python",
   "name": "python",
   "nbconvert_exporter": "python",
   "pygments_lexer": "ipython3",
   "version": "3.9.5"
  },
  "orig_nbformat": 2,
  "kernelspec": {
   "name": "python395jvsc74a57bd0767d51c1340bd893661ea55ea3124f6de3c7a262a8b4abca0554b478b1e2ff90",
   "display_name": "Python 3.9.5 64-bit"
  },
  "metadata": {
   "interpreter": {
    "hash": "767d51c1340bd893661ea55ea3124f6de3c7a262a8b4abca0554b478b1e2ff90"
   }
  }
 },
 "nbformat": 4,
 "nbformat_minor": 2,
 "cells": [
  {
   "source": [
    "<a href=\"https://colab.research.google.com/github/spinosaphb/ufc-machine-learning/blob/main/activities/classification/A3/knn_with_wine[stratified].ipynb\" target=\"_parent\"><img src=\"https://colab.research.google.com/assets/colab-badge.svg\" alt=\"Open In Colab\"/></a>"
   ],
   "cell_type": "markdown",
   "metadata": {}
  },
  {
   "cell_type": "code",
   "execution_count": 4,
   "metadata": {},
   "outputs": [],
   "source": [
    "import pandas as pd\n",
    "import numpy as np\n",
    "import knn\n",
    "import matplotlib.pyplot as plt"
   ]
  },
  {
   "cell_type": "code",
   "execution_count": 66,
   "metadata": {},
   "outputs": [
    {
     "output_type": "execute_result",
     "data": {
      "text/plain": [
       "   fixed acidity  volatile acidity  citric acid  residual sugar  chlorides  \\\n",
       "0            7.0              0.27         0.36            20.7      0.045   \n",
       "1            6.3              0.30         0.34             1.6      0.049   \n",
       "2            8.1              0.28         0.40             6.9      0.050   \n",
       "3            7.2              0.23         0.32             8.5      0.058   \n",
       "4            7.2              0.23         0.32             8.5      0.058   \n",
       "\n",
       "   free sulfur dioxide  total sulfur dioxide  density    pH  sulphates  \\\n",
       "0                 45.0                 170.0   1.0010  3.00       0.45   \n",
       "1                 14.0                 132.0   0.9940  3.30       0.49   \n",
       "2                 30.0                  97.0   0.9951  3.26       0.44   \n",
       "3                 47.0                 186.0   0.9956  3.19       0.40   \n",
       "4                 47.0                 186.0   0.9956  3.19       0.40   \n",
       "\n",
       "   alcohol  quality  \n",
       "0      8.8        6  \n",
       "1      9.5        6  \n",
       "2     10.1        6  \n",
       "3      9.9        6  \n",
       "4      9.9        6  "
      ],
      "text/html": "<div>\n<style scoped>\n    .dataframe tbody tr th:only-of-type {\n        vertical-align: middle;\n    }\n\n    .dataframe tbody tr th {\n        vertical-align: top;\n    }\n\n    .dataframe thead th {\n        text-align: right;\n    }\n</style>\n<table border=\"1\" class=\"dataframe\">\n  <thead>\n    <tr style=\"text-align: right;\">\n      <th></th>\n      <th>fixed acidity</th>\n      <th>volatile acidity</th>\n      <th>citric acid</th>\n      <th>residual sugar</th>\n      <th>chlorides</th>\n      <th>free sulfur dioxide</th>\n      <th>total sulfur dioxide</th>\n      <th>density</th>\n      <th>pH</th>\n      <th>sulphates</th>\n      <th>alcohol</th>\n      <th>quality</th>\n    </tr>\n  </thead>\n  <tbody>\n    <tr>\n      <th>0</th>\n      <td>7.0</td>\n      <td>0.27</td>\n      <td>0.36</td>\n      <td>20.7</td>\n      <td>0.045</td>\n      <td>45.0</td>\n      <td>170.0</td>\n      <td>1.0010</td>\n      <td>3.00</td>\n      <td>0.45</td>\n      <td>8.8</td>\n      <td>6</td>\n    </tr>\n    <tr>\n      <th>1</th>\n      <td>6.3</td>\n      <td>0.30</td>\n      <td>0.34</td>\n      <td>1.6</td>\n      <td>0.049</td>\n      <td>14.0</td>\n      <td>132.0</td>\n      <td>0.9940</td>\n      <td>3.30</td>\n      <td>0.49</td>\n      <td>9.5</td>\n      <td>6</td>\n    </tr>\n    <tr>\n      <th>2</th>\n      <td>8.1</td>\n      <td>0.28</td>\n      <td>0.40</td>\n      <td>6.9</td>\n      <td>0.050</td>\n      <td>30.0</td>\n      <td>97.0</td>\n      <td>0.9951</td>\n      <td>3.26</td>\n      <td>0.44</td>\n      <td>10.1</td>\n      <td>6</td>\n    </tr>\n    <tr>\n      <th>3</th>\n      <td>7.2</td>\n      <td>0.23</td>\n      <td>0.32</td>\n      <td>8.5</td>\n      <td>0.058</td>\n      <td>47.0</td>\n      <td>186.0</td>\n      <td>0.9956</td>\n      <td>3.19</td>\n      <td>0.40</td>\n      <td>9.9</td>\n      <td>6</td>\n    </tr>\n    <tr>\n      <th>4</th>\n      <td>7.2</td>\n      <td>0.23</td>\n      <td>0.32</td>\n      <td>8.5</td>\n      <td>0.058</td>\n      <td>47.0</td>\n      <td>186.0</td>\n      <td>0.9956</td>\n      <td>3.19</td>\n      <td>0.40</td>\n      <td>9.9</td>\n      <td>6</td>\n    </tr>\n  </tbody>\n</table>\n</div>"
     },
     "metadata": {},
     "execution_count": 66
    }
   ],
   "source": [
    "path = 'https://raw.githubusercontent.com/spinosaphb/ufc-machine-learning/main/datasets/winequality-white.csv'\n",
    "df = pd.read_csv(path, delimiter=';')\n",
    "df.head()"
   ]
  },
  {
   "cell_type": "code",
   "execution_count": 67,
   "metadata": {},
   "outputs": [
    {
     "output_type": "stream",
     "name": "stdout",
     "text": [
      "   ---Quality Wine Withe---   \n0: 0\n1: 0\n2: 0\n3: 20\n4: 163\n5: 1457\n6: 2198\n7: 880\n8: 175\n9: 5\n10: 0\n"
     ]
    }
   ],
   "source": [
    "quality = np.array(df['quality'])\n",
    "x_plot = [0,1,2,3,4,5,6,7,8,9,10]\n",
    "y_plot = []\n",
    "print(f'---Quality Wine Withe---'.center(30))\n",
    "for i in x_plot:\n",
    "    qualitySum = np.sum(quality == i)\n",
    "    y_plot.append(qualitySum)\n",
    "    print(f'{i}: {qualitySum}')\n"
   ]
  },
  {
   "cell_type": "code",
   "execution_count": 68,
   "metadata": {},
   "outputs": [
    {
     "output_type": "display_data",
     "data": {
      "text/plain": "<Figure size 432x288 with 1 Axes>",
      "image/svg+xml": "<?xml version=\"1.0\" encoding=\"utf-8\" standalone=\"no\"?>\n<!DOCTYPE svg PUBLIC \"-//W3C//DTD SVG 1.1//EN\"\n  \"http://www.w3.org/Graphics/SVG/1.1/DTD/svg11.dtd\">\n<svg height=\"262.19625pt\" version=\"1.1\" viewBox=\"0 0 395.328125 262.19625\" width=\"395.328125pt\" xmlns=\"http://www.w3.org/2000/svg\" xmlns:xlink=\"http://www.w3.org/1999/xlink\">\n <metadata>\n  <rdf:RDF xmlns:cc=\"http://creativecommons.org/ns#\" xmlns:dc=\"http://purl.org/dc/elements/1.1/\" xmlns:rdf=\"http://www.w3.org/1999/02/22-rdf-syntax-ns#\">\n   <cc:Work>\n    <dc:type rdf:resource=\"http://purl.org/dc/dcmitype/StillImage\"/>\n    <dc:date>2021-06-09T01:15:55.762047</dc:date>\n    <dc:format>image/svg+xml</dc:format>\n    <dc:creator>\n     <cc:Agent>\n      <dc:title>Matplotlib v3.4.2, https://matplotlib.org/</dc:title>\n     </cc:Agent>\n    </dc:creator>\n   </cc:Work>\n  </rdf:RDF>\n </metadata>\n <defs>\n  <style type=\"text/css\">*{stroke-linecap:butt;stroke-linejoin:round;}</style>\n </defs>\n <g id=\"figure_1\">\n  <g id=\"patch_1\">\n   <path d=\"M 0 262.19625 \nL 395.328125 262.19625 \nL 395.328125 0 \nL 0 0 \nz\n\" style=\"fill:none;\"/>\n  </g>\n  <g id=\"axes_1\">\n   <g id=\"patch_2\">\n    <path d=\"M 53.328125 224.64 \nL 388.128125 224.64 \nL 388.128125 7.2 \nL 53.328125 7.2 \nz\n\" style=\"fill:#ffffff;\"/>\n   </g>\n   <g id=\"patch_3\">\n    <path clip-path=\"url(#p4e2295fb8b)\" d=\"M 68.546307 224.64 \nL 91.091761 224.64 \nL 91.091761 224.64 \nL 68.546307 224.64 \nz\n\" style=\"fill:#1f77b4;\"/>\n   </g>\n   <g id=\"patch_4\">\n    <path clip-path=\"url(#p4e2295fb8b)\" d=\"M 96.728125 224.64 \nL 119.27358 224.64 \nL 119.27358 224.64 \nL 96.728125 224.64 \nz\n\" style=\"fill:#1f77b4;\"/>\n   </g>\n   <g id=\"patch_5\">\n    <path clip-path=\"url(#p4e2295fb8b)\" d=\"M 124.909943 224.64 \nL 147.455398 224.64 \nL 147.455398 224.64 \nL 124.909943 224.64 \nz\n\" style=\"fill:#1f77b4;\"/>\n   </g>\n   <g id=\"patch_6\">\n    <path clip-path=\"url(#p4e2295fb8b)\" d=\"M 153.091761 224.64 \nL 175.637216 224.64 \nL 175.637216 222.75569 \nL 153.091761 222.75569 \nz\n\" style=\"fill:#1f77b4;\"/>\n   </g>\n   <g id=\"patch_7\">\n    <path clip-path=\"url(#p4e2295fb8b)\" d=\"M 181.27358 224.64 \nL 203.819034 224.64 \nL 203.819034 209.28287 \nL 181.27358 209.28287 \nz\n\" style=\"fill:#1f77b4;\"/>\n   </g>\n   <g id=\"patch_8\">\n    <path clip-path=\"url(#p4e2295fb8b)\" d=\"M 209.455398 224.64 \nL 232.000852 224.64 \nL 232.000852 87.367986 \nL 209.455398 87.367986 \nz\n\" style=\"fill:#1f77b4;\"/>\n   </g>\n   <g id=\"patch_9\">\n    <path clip-path=\"url(#p4e2295fb8b)\" d=\"M 237.637216 224.64 \nL 260.18267 224.64 \nL 260.18267 17.554286 \nL 237.637216 17.554286 \nz\n\" style=\"fill:#1f77b4;\"/>\n   </g>\n   <g id=\"patch_10\">\n    <path clip-path=\"url(#p4e2295fb8b)\" d=\"M 265.819034 224.64 \nL 288.364489 224.64 \nL 288.364489 141.730342 \nL 265.819034 141.730342 \nz\n\" style=\"fill:#1f77b4;\"/>\n   </g>\n   <g id=\"patch_11\">\n    <path clip-path=\"url(#p4e2295fb8b)\" d=\"M 294.000852 224.64 \nL 316.546307 224.64 \nL 316.546307 208.152284 \nL 294.000852 208.152284 \nz\n\" style=\"fill:#1f77b4;\"/>\n   </g>\n   <g id=\"patch_12\">\n    <path clip-path=\"url(#p4e2295fb8b)\" d=\"M 322.18267 224.64 \nL 344.728125 224.64 \nL 344.728125 224.168922 \nL 322.18267 224.168922 \nz\n\" style=\"fill:#1f77b4;\"/>\n   </g>\n   <g id=\"patch_13\">\n    <path clip-path=\"url(#p4e2295fb8b)\" d=\"M 350.364489 224.64 \nL 372.909943 224.64 \nL 372.909943 224.64 \nL 350.364489 224.64 \nz\n\" style=\"fill:#1f77b4;\"/>\n   </g>\n   <g id=\"matplotlib.axis_1\">\n    <g id=\"xtick_1\">\n     <g id=\"line2d_1\">\n      <defs>\n       <path d=\"M 0 0 \nL 0 3.5 \n\" id=\"m197f0a013c\" style=\"stroke:#000000;stroke-width:0.8;\"/>\n      </defs>\n      <g>\n       <use style=\"stroke:#000000;stroke-width:0.8;\" x=\"79.819034\" xlink:href=\"#m197f0a013c\" y=\"224.64\"/>\n      </g>\n     </g>\n     <g id=\"text_1\">\n      <!-- 0 -->\n      <g transform=\"translate(76.637784 239.238437)scale(0.1 -0.1)\">\n       <defs>\n        <path d=\"M 2034 4250 \nQ 1547 4250 1301 3770 \nQ 1056 3291 1056 2328 \nQ 1056 1369 1301 889 \nQ 1547 409 2034 409 \nQ 2525 409 2770 889 \nQ 3016 1369 3016 2328 \nQ 3016 3291 2770 3770 \nQ 2525 4250 2034 4250 \nz\nM 2034 4750 \nQ 2819 4750 3233 4129 \nQ 3647 3509 3647 2328 \nQ 3647 1150 3233 529 \nQ 2819 -91 2034 -91 \nQ 1250 -91 836 529 \nQ 422 1150 422 2328 \nQ 422 3509 836 4129 \nQ 1250 4750 2034 4750 \nz\n\" id=\"DejaVuSans-30\" transform=\"scale(0.015625)\"/>\n       </defs>\n       <use xlink:href=\"#DejaVuSans-30\"/>\n      </g>\n     </g>\n    </g>\n    <g id=\"xtick_2\">\n     <g id=\"line2d_2\">\n      <g>\n       <use style=\"stroke:#000000;stroke-width:0.8;\" x=\"108.000852\" xlink:href=\"#m197f0a013c\" y=\"224.64\"/>\n      </g>\n     </g>\n     <g id=\"text_2\">\n      <!-- 1 -->\n      <g transform=\"translate(104.819602 239.238437)scale(0.1 -0.1)\">\n       <defs>\n        <path d=\"M 794 531 \nL 1825 531 \nL 1825 4091 \nL 703 3866 \nL 703 4441 \nL 1819 4666 \nL 2450 4666 \nL 2450 531 \nL 3481 531 \nL 3481 0 \nL 794 0 \nL 794 531 \nz\n\" id=\"DejaVuSans-31\" transform=\"scale(0.015625)\"/>\n       </defs>\n       <use xlink:href=\"#DejaVuSans-31\"/>\n      </g>\n     </g>\n    </g>\n    <g id=\"xtick_3\">\n     <g id=\"line2d_3\">\n      <g>\n       <use style=\"stroke:#000000;stroke-width:0.8;\" x=\"136.18267\" xlink:href=\"#m197f0a013c\" y=\"224.64\"/>\n      </g>\n     </g>\n     <g id=\"text_3\">\n      <!-- 2 -->\n      <g transform=\"translate(133.00142 239.238437)scale(0.1 -0.1)\">\n       <defs>\n        <path d=\"M 1228 531 \nL 3431 531 \nL 3431 0 \nL 469 0 \nL 469 531 \nQ 828 903 1448 1529 \nQ 2069 2156 2228 2338 \nQ 2531 2678 2651 2914 \nQ 2772 3150 2772 3378 \nQ 2772 3750 2511 3984 \nQ 2250 4219 1831 4219 \nQ 1534 4219 1204 4116 \nQ 875 4013 500 3803 \nL 500 4441 \nQ 881 4594 1212 4672 \nQ 1544 4750 1819 4750 \nQ 2544 4750 2975 4387 \nQ 3406 4025 3406 3419 \nQ 3406 3131 3298 2873 \nQ 3191 2616 2906 2266 \nQ 2828 2175 2409 1742 \nQ 1991 1309 1228 531 \nz\n\" id=\"DejaVuSans-32\" transform=\"scale(0.015625)\"/>\n       </defs>\n       <use xlink:href=\"#DejaVuSans-32\"/>\n      </g>\n     </g>\n    </g>\n    <g id=\"xtick_4\">\n     <g id=\"line2d_4\">\n      <g>\n       <use style=\"stroke:#000000;stroke-width:0.8;\" x=\"164.364489\" xlink:href=\"#m197f0a013c\" y=\"224.64\"/>\n      </g>\n     </g>\n     <g id=\"text_4\">\n      <!-- 3 -->\n      <g transform=\"translate(161.183239 239.238437)scale(0.1 -0.1)\">\n       <defs>\n        <path d=\"M 2597 2516 \nQ 3050 2419 3304 2112 \nQ 3559 1806 3559 1356 \nQ 3559 666 3084 287 \nQ 2609 -91 1734 -91 \nQ 1441 -91 1130 -33 \nQ 819 25 488 141 \nL 488 750 \nQ 750 597 1062 519 \nQ 1375 441 1716 441 \nQ 2309 441 2620 675 \nQ 2931 909 2931 1356 \nQ 2931 1769 2642 2001 \nQ 2353 2234 1838 2234 \nL 1294 2234 \nL 1294 2753 \nL 1863 2753 \nQ 2328 2753 2575 2939 \nQ 2822 3125 2822 3475 \nQ 2822 3834 2567 4026 \nQ 2313 4219 1838 4219 \nQ 1578 4219 1281 4162 \nQ 984 4106 628 3988 \nL 628 4550 \nQ 988 4650 1302 4700 \nQ 1616 4750 1894 4750 \nQ 2613 4750 3031 4423 \nQ 3450 4097 3450 3541 \nQ 3450 3153 3228 2886 \nQ 3006 2619 2597 2516 \nz\n\" id=\"DejaVuSans-33\" transform=\"scale(0.015625)\"/>\n       </defs>\n       <use xlink:href=\"#DejaVuSans-33\"/>\n      </g>\n     </g>\n    </g>\n    <g id=\"xtick_5\">\n     <g id=\"line2d_5\">\n      <g>\n       <use style=\"stroke:#000000;stroke-width:0.8;\" x=\"192.546307\" xlink:href=\"#m197f0a013c\" y=\"224.64\"/>\n      </g>\n     </g>\n     <g id=\"text_5\">\n      <!-- 4 -->\n      <g transform=\"translate(189.365057 239.238437)scale(0.1 -0.1)\">\n       <defs>\n        <path d=\"M 2419 4116 \nL 825 1625 \nL 2419 1625 \nL 2419 4116 \nz\nM 2253 4666 \nL 3047 4666 \nL 3047 1625 \nL 3713 1625 \nL 3713 1100 \nL 3047 1100 \nL 3047 0 \nL 2419 0 \nL 2419 1100 \nL 313 1100 \nL 313 1709 \nL 2253 4666 \nz\n\" id=\"DejaVuSans-34\" transform=\"scale(0.015625)\"/>\n       </defs>\n       <use xlink:href=\"#DejaVuSans-34\"/>\n      </g>\n     </g>\n    </g>\n    <g id=\"xtick_6\">\n     <g id=\"line2d_6\">\n      <g>\n       <use style=\"stroke:#000000;stroke-width:0.8;\" x=\"220.728125\" xlink:href=\"#m197f0a013c\" y=\"224.64\"/>\n      </g>\n     </g>\n     <g id=\"text_6\">\n      <!-- 5 -->\n      <g transform=\"translate(217.546875 239.238437)scale(0.1 -0.1)\">\n       <defs>\n        <path d=\"M 691 4666 \nL 3169 4666 \nL 3169 4134 \nL 1269 4134 \nL 1269 2991 \nQ 1406 3038 1543 3061 \nQ 1681 3084 1819 3084 \nQ 2600 3084 3056 2656 \nQ 3513 2228 3513 1497 \nQ 3513 744 3044 326 \nQ 2575 -91 1722 -91 \nQ 1428 -91 1123 -41 \nQ 819 9 494 109 \nL 494 744 \nQ 775 591 1075 516 \nQ 1375 441 1709 441 \nQ 2250 441 2565 725 \nQ 2881 1009 2881 1497 \nQ 2881 1984 2565 2268 \nQ 2250 2553 1709 2553 \nQ 1456 2553 1204 2497 \nQ 953 2441 691 2322 \nL 691 4666 \nz\n\" id=\"DejaVuSans-35\" transform=\"scale(0.015625)\"/>\n       </defs>\n       <use xlink:href=\"#DejaVuSans-35\"/>\n      </g>\n     </g>\n    </g>\n    <g id=\"xtick_7\">\n     <g id=\"line2d_7\">\n      <g>\n       <use style=\"stroke:#000000;stroke-width:0.8;\" x=\"248.909943\" xlink:href=\"#m197f0a013c\" y=\"224.64\"/>\n      </g>\n     </g>\n     <g id=\"text_7\">\n      <!-- 6 -->\n      <g transform=\"translate(245.728693 239.238437)scale(0.1 -0.1)\">\n       <defs>\n        <path d=\"M 2113 2584 \nQ 1688 2584 1439 2293 \nQ 1191 2003 1191 1497 \nQ 1191 994 1439 701 \nQ 1688 409 2113 409 \nQ 2538 409 2786 701 \nQ 3034 994 3034 1497 \nQ 3034 2003 2786 2293 \nQ 2538 2584 2113 2584 \nz\nM 3366 4563 \nL 3366 3988 \nQ 3128 4100 2886 4159 \nQ 2644 4219 2406 4219 \nQ 1781 4219 1451 3797 \nQ 1122 3375 1075 2522 \nQ 1259 2794 1537 2939 \nQ 1816 3084 2150 3084 \nQ 2853 3084 3261 2657 \nQ 3669 2231 3669 1497 \nQ 3669 778 3244 343 \nQ 2819 -91 2113 -91 \nQ 1303 -91 875 529 \nQ 447 1150 447 2328 \nQ 447 3434 972 4092 \nQ 1497 4750 2381 4750 \nQ 2619 4750 2861 4703 \nQ 3103 4656 3366 4563 \nz\n\" id=\"DejaVuSans-36\" transform=\"scale(0.015625)\"/>\n       </defs>\n       <use xlink:href=\"#DejaVuSans-36\"/>\n      </g>\n     </g>\n    </g>\n    <g id=\"xtick_8\">\n     <g id=\"line2d_8\">\n      <g>\n       <use style=\"stroke:#000000;stroke-width:0.8;\" x=\"277.091761\" xlink:href=\"#m197f0a013c\" y=\"224.64\"/>\n      </g>\n     </g>\n     <g id=\"text_8\">\n      <!-- 7 -->\n      <g transform=\"translate(273.910511 239.238437)scale(0.1 -0.1)\">\n       <defs>\n        <path d=\"M 525 4666 \nL 3525 4666 \nL 3525 4397 \nL 1831 0 \nL 1172 0 \nL 2766 4134 \nL 525 4134 \nL 525 4666 \nz\n\" id=\"DejaVuSans-37\" transform=\"scale(0.015625)\"/>\n       </defs>\n       <use xlink:href=\"#DejaVuSans-37\"/>\n      </g>\n     </g>\n    </g>\n    <g id=\"xtick_9\">\n     <g id=\"line2d_9\">\n      <g>\n       <use style=\"stroke:#000000;stroke-width:0.8;\" x=\"305.27358\" xlink:href=\"#m197f0a013c\" y=\"224.64\"/>\n      </g>\n     </g>\n     <g id=\"text_9\">\n      <!-- 8 -->\n      <g transform=\"translate(302.09233 239.238437)scale(0.1 -0.1)\">\n       <defs>\n        <path d=\"M 2034 2216 \nQ 1584 2216 1326 1975 \nQ 1069 1734 1069 1313 \nQ 1069 891 1326 650 \nQ 1584 409 2034 409 \nQ 2484 409 2743 651 \nQ 3003 894 3003 1313 \nQ 3003 1734 2745 1975 \nQ 2488 2216 2034 2216 \nz\nM 1403 2484 \nQ 997 2584 770 2862 \nQ 544 3141 544 3541 \nQ 544 4100 942 4425 \nQ 1341 4750 2034 4750 \nQ 2731 4750 3128 4425 \nQ 3525 4100 3525 3541 \nQ 3525 3141 3298 2862 \nQ 3072 2584 2669 2484 \nQ 3125 2378 3379 2068 \nQ 3634 1759 3634 1313 \nQ 3634 634 3220 271 \nQ 2806 -91 2034 -91 \nQ 1263 -91 848 271 \nQ 434 634 434 1313 \nQ 434 1759 690 2068 \nQ 947 2378 1403 2484 \nz\nM 1172 3481 \nQ 1172 3119 1398 2916 \nQ 1625 2713 2034 2713 \nQ 2441 2713 2670 2916 \nQ 2900 3119 2900 3481 \nQ 2900 3844 2670 4047 \nQ 2441 4250 2034 4250 \nQ 1625 4250 1398 4047 \nQ 1172 3844 1172 3481 \nz\n\" id=\"DejaVuSans-38\" transform=\"scale(0.015625)\"/>\n       </defs>\n       <use xlink:href=\"#DejaVuSans-38\"/>\n      </g>\n     </g>\n    </g>\n    <g id=\"xtick_10\">\n     <g id=\"line2d_10\">\n      <g>\n       <use style=\"stroke:#000000;stroke-width:0.8;\" x=\"333.455398\" xlink:href=\"#m197f0a013c\" y=\"224.64\"/>\n      </g>\n     </g>\n     <g id=\"text_10\">\n      <!-- 9 -->\n      <g transform=\"translate(330.274148 239.238437)scale(0.1 -0.1)\">\n       <defs>\n        <path d=\"M 703 97 \nL 703 672 \nQ 941 559 1184 500 \nQ 1428 441 1663 441 \nQ 2288 441 2617 861 \nQ 2947 1281 2994 2138 \nQ 2813 1869 2534 1725 \nQ 2256 1581 1919 1581 \nQ 1219 1581 811 2004 \nQ 403 2428 403 3163 \nQ 403 3881 828 4315 \nQ 1253 4750 1959 4750 \nQ 2769 4750 3195 4129 \nQ 3622 3509 3622 2328 \nQ 3622 1225 3098 567 \nQ 2575 -91 1691 -91 \nQ 1453 -91 1209 -44 \nQ 966 3 703 97 \nz\nM 1959 2075 \nQ 2384 2075 2632 2365 \nQ 2881 2656 2881 3163 \nQ 2881 3666 2632 3958 \nQ 2384 4250 1959 4250 \nQ 1534 4250 1286 3958 \nQ 1038 3666 1038 3163 \nQ 1038 2656 1286 2365 \nQ 1534 2075 1959 2075 \nz\n\" id=\"DejaVuSans-39\" transform=\"scale(0.015625)\"/>\n       </defs>\n       <use xlink:href=\"#DejaVuSans-39\"/>\n      </g>\n     </g>\n    </g>\n    <g id=\"xtick_11\">\n     <g id=\"line2d_11\">\n      <g>\n       <use style=\"stroke:#000000;stroke-width:0.8;\" x=\"361.637216\" xlink:href=\"#m197f0a013c\" y=\"224.64\"/>\n      </g>\n     </g>\n     <g id=\"text_11\">\n      <!-- 10 -->\n      <g transform=\"translate(355.274716 239.238437)scale(0.1 -0.1)\">\n       <use xlink:href=\"#DejaVuSans-31\"/>\n       <use x=\"63.623047\" xlink:href=\"#DejaVuSans-30\"/>\n      </g>\n     </g>\n    </g>\n    <g id=\"text_12\">\n     <!-- Quality -->\n     <g transform=\"translate(202.861719 252.916562)scale(0.1 -0.1)\">\n      <defs>\n       <path d=\"M 2522 4238 \nQ 1834 4238 1429 3725 \nQ 1025 3213 1025 2328 \nQ 1025 1447 1429 934 \nQ 1834 422 2522 422 \nQ 3209 422 3611 934 \nQ 4013 1447 4013 2328 \nQ 4013 3213 3611 3725 \nQ 3209 4238 2522 4238 \nz\nM 3406 84 \nL 4238 -825 \nL 3475 -825 \nL 2784 -78 \nQ 2681 -84 2626 -87 \nQ 2572 -91 2522 -91 \nQ 1538 -91 948 567 \nQ 359 1225 359 2328 \nQ 359 3434 948 4092 \nQ 1538 4750 2522 4750 \nQ 3503 4750 4090 4092 \nQ 4678 3434 4678 2328 \nQ 4678 1516 4351 937 \nQ 4025 359 3406 84 \nz\n\" id=\"DejaVuSans-51\" transform=\"scale(0.015625)\"/>\n       <path d=\"M 544 1381 \nL 544 3500 \nL 1119 3500 \nL 1119 1403 \nQ 1119 906 1312 657 \nQ 1506 409 1894 409 \nQ 2359 409 2629 706 \nQ 2900 1003 2900 1516 \nL 2900 3500 \nL 3475 3500 \nL 3475 0 \nL 2900 0 \nL 2900 538 \nQ 2691 219 2414 64 \nQ 2138 -91 1772 -91 \nQ 1169 -91 856 284 \nQ 544 659 544 1381 \nz\nM 1991 3584 \nL 1991 3584 \nz\n\" id=\"DejaVuSans-75\" transform=\"scale(0.015625)\"/>\n       <path d=\"M 2194 1759 \nQ 1497 1759 1228 1600 \nQ 959 1441 959 1056 \nQ 959 750 1161 570 \nQ 1363 391 1709 391 \nQ 2188 391 2477 730 \nQ 2766 1069 2766 1631 \nL 2766 1759 \nL 2194 1759 \nz\nM 3341 1997 \nL 3341 0 \nL 2766 0 \nL 2766 531 \nQ 2569 213 2275 61 \nQ 1981 -91 1556 -91 \nQ 1019 -91 701 211 \nQ 384 513 384 1019 \nQ 384 1609 779 1909 \nQ 1175 2209 1959 2209 \nL 2766 2209 \nL 2766 2266 \nQ 2766 2663 2505 2880 \nQ 2244 3097 1772 3097 \nQ 1472 3097 1187 3025 \nQ 903 2953 641 2809 \nL 641 3341 \nQ 956 3463 1253 3523 \nQ 1550 3584 1831 3584 \nQ 2591 3584 2966 3190 \nQ 3341 2797 3341 1997 \nz\n\" id=\"DejaVuSans-61\" transform=\"scale(0.015625)\"/>\n       <path d=\"M 603 4863 \nL 1178 4863 \nL 1178 0 \nL 603 0 \nL 603 4863 \nz\n\" id=\"DejaVuSans-6c\" transform=\"scale(0.015625)\"/>\n       <path d=\"M 603 3500 \nL 1178 3500 \nL 1178 0 \nL 603 0 \nL 603 3500 \nz\nM 603 4863 \nL 1178 4863 \nL 1178 4134 \nL 603 4134 \nL 603 4863 \nz\n\" id=\"DejaVuSans-69\" transform=\"scale(0.015625)\"/>\n       <path d=\"M 1172 4494 \nL 1172 3500 \nL 2356 3500 \nL 2356 3053 \nL 1172 3053 \nL 1172 1153 \nQ 1172 725 1289 603 \nQ 1406 481 1766 481 \nL 2356 481 \nL 2356 0 \nL 1766 0 \nQ 1100 0 847 248 \nQ 594 497 594 1153 \nL 594 3053 \nL 172 3053 \nL 172 3500 \nL 594 3500 \nL 594 4494 \nL 1172 4494 \nz\n\" id=\"DejaVuSans-74\" transform=\"scale(0.015625)\"/>\n       <path d=\"M 2059 -325 \nQ 1816 -950 1584 -1140 \nQ 1353 -1331 966 -1331 \nL 506 -1331 \nL 506 -850 \nL 844 -850 \nQ 1081 -850 1212 -737 \nQ 1344 -625 1503 -206 \nL 1606 56 \nL 191 3500 \nL 800 3500 \nL 1894 763 \nL 2988 3500 \nL 3597 3500 \nL 2059 -325 \nz\n\" id=\"DejaVuSans-79\" transform=\"scale(0.015625)\"/>\n      </defs>\n      <use xlink:href=\"#DejaVuSans-51\"/>\n      <use x=\"78.710938\" xlink:href=\"#DejaVuSans-75\"/>\n      <use x=\"142.089844\" xlink:href=\"#DejaVuSans-61\"/>\n      <use x=\"203.369141\" xlink:href=\"#DejaVuSans-6c\"/>\n      <use x=\"231.152344\" xlink:href=\"#DejaVuSans-69\"/>\n      <use x=\"258.935547\" xlink:href=\"#DejaVuSans-74\"/>\n      <use x=\"298.144531\" xlink:href=\"#DejaVuSans-79\"/>\n     </g>\n    </g>\n   </g>\n   <g id=\"matplotlib.axis_2\">\n    <g id=\"ytick_1\">\n     <g id=\"line2d_12\">\n      <defs>\n       <path d=\"M 0 0 \nL -3.5 0 \n\" id=\"m92bf3b09bc\" style=\"stroke:#000000;stroke-width:0.8;\"/>\n      </defs>\n      <g>\n       <use style=\"stroke:#000000;stroke-width:0.8;\" x=\"53.328125\" xlink:href=\"#m92bf3b09bc\" y=\"224.64\"/>\n      </g>\n     </g>\n     <g id=\"text_13\">\n      <!-- 0 -->\n      <g transform=\"translate(39.965625 228.439219)scale(0.1 -0.1)\">\n       <use xlink:href=\"#DejaVuSans-30\"/>\n      </g>\n     </g>\n    </g>\n    <g id=\"ytick_2\">\n     <g id=\"line2d_13\">\n      <g>\n       <use style=\"stroke:#000000;stroke-width:0.8;\" x=\"53.328125\" xlink:href=\"#m92bf3b09bc\" y=\"177.53224\"/>\n      </g>\n     </g>\n     <g id=\"text_14\">\n      <!-- 500 -->\n      <g transform=\"translate(27.240625 181.331458)scale(0.1 -0.1)\">\n       <use xlink:href=\"#DejaVuSans-35\"/>\n       <use x=\"63.623047\" xlink:href=\"#DejaVuSans-30\"/>\n       <use x=\"127.246094\" xlink:href=\"#DejaVuSans-30\"/>\n      </g>\n     </g>\n    </g>\n    <g id=\"ytick_3\">\n     <g id=\"line2d_14\">\n      <g>\n       <use style=\"stroke:#000000;stroke-width:0.8;\" x=\"53.328125\" xlink:href=\"#m92bf3b09bc\" y=\"130.424479\"/>\n      </g>\n     </g>\n     <g id=\"text_15\">\n      <!-- 1000 -->\n      <g transform=\"translate(20.878125 134.223698)scale(0.1 -0.1)\">\n       <use xlink:href=\"#DejaVuSans-31\"/>\n       <use x=\"63.623047\" xlink:href=\"#DejaVuSans-30\"/>\n       <use x=\"127.246094\" xlink:href=\"#DejaVuSans-30\"/>\n       <use x=\"190.869141\" xlink:href=\"#DejaVuSans-30\"/>\n      </g>\n     </g>\n    </g>\n    <g id=\"ytick_4\">\n     <g id=\"line2d_15\">\n      <g>\n       <use style=\"stroke:#000000;stroke-width:0.8;\" x=\"53.328125\" xlink:href=\"#m92bf3b09bc\" y=\"83.316719\"/>\n      </g>\n     </g>\n     <g id=\"text_16\">\n      <!-- 1500 -->\n      <g transform=\"translate(20.878125 87.115938)scale(0.1 -0.1)\">\n       <use xlink:href=\"#DejaVuSans-31\"/>\n       <use x=\"63.623047\" xlink:href=\"#DejaVuSans-35\"/>\n       <use x=\"127.246094\" xlink:href=\"#DejaVuSans-30\"/>\n       <use x=\"190.869141\" xlink:href=\"#DejaVuSans-30\"/>\n      </g>\n     </g>\n    </g>\n    <g id=\"ytick_5\">\n     <g id=\"line2d_16\">\n      <g>\n       <use style=\"stroke:#000000;stroke-width:0.8;\" x=\"53.328125\" xlink:href=\"#m92bf3b09bc\" y=\"36.208959\"/>\n      </g>\n     </g>\n     <g id=\"text_17\">\n      <!-- 2000 -->\n      <g transform=\"translate(20.878125 40.008178)scale(0.1 -0.1)\">\n       <use xlink:href=\"#DejaVuSans-32\"/>\n       <use x=\"63.623047\" xlink:href=\"#DejaVuSans-30\"/>\n       <use x=\"127.246094\" xlink:href=\"#DejaVuSans-30\"/>\n       <use x=\"190.869141\" xlink:href=\"#DejaVuSans-30\"/>\n      </g>\n     </g>\n    </g>\n    <g id=\"text_18\">\n     <!-- Frequency -->\n     <g transform=\"translate(14.798438 141.749687)rotate(-90)scale(0.1 -0.1)\">\n      <defs>\n       <path d=\"M 628 4666 \nL 3309 4666 \nL 3309 4134 \nL 1259 4134 \nL 1259 2759 \nL 3109 2759 \nL 3109 2228 \nL 1259 2228 \nL 1259 0 \nL 628 0 \nL 628 4666 \nz\n\" id=\"DejaVuSans-46\" transform=\"scale(0.015625)\"/>\n       <path d=\"M 2631 2963 \nQ 2534 3019 2420 3045 \nQ 2306 3072 2169 3072 \nQ 1681 3072 1420 2755 \nQ 1159 2438 1159 1844 \nL 1159 0 \nL 581 0 \nL 581 3500 \nL 1159 3500 \nL 1159 2956 \nQ 1341 3275 1631 3429 \nQ 1922 3584 2338 3584 \nQ 2397 3584 2469 3576 \nQ 2541 3569 2628 3553 \nL 2631 2963 \nz\n\" id=\"DejaVuSans-72\" transform=\"scale(0.015625)\"/>\n       <path d=\"M 3597 1894 \nL 3597 1613 \nL 953 1613 \nQ 991 1019 1311 708 \nQ 1631 397 2203 397 \nQ 2534 397 2845 478 \nQ 3156 559 3463 722 \nL 3463 178 \nQ 3153 47 2828 -22 \nQ 2503 -91 2169 -91 \nQ 1331 -91 842 396 \nQ 353 884 353 1716 \nQ 353 2575 817 3079 \nQ 1281 3584 2069 3584 \nQ 2775 3584 3186 3129 \nQ 3597 2675 3597 1894 \nz\nM 3022 2063 \nQ 3016 2534 2758 2815 \nQ 2500 3097 2075 3097 \nQ 1594 3097 1305 2825 \nQ 1016 2553 972 2059 \nL 3022 2063 \nz\n\" id=\"DejaVuSans-65\" transform=\"scale(0.015625)\"/>\n       <path d=\"M 947 1747 \nQ 947 1113 1208 752 \nQ 1469 391 1925 391 \nQ 2381 391 2643 752 \nQ 2906 1113 2906 1747 \nQ 2906 2381 2643 2742 \nQ 2381 3103 1925 3103 \nQ 1469 3103 1208 2742 \nQ 947 2381 947 1747 \nz\nM 2906 525 \nQ 2725 213 2448 61 \nQ 2172 -91 1784 -91 \nQ 1150 -91 751 415 \nQ 353 922 353 1747 \nQ 353 2572 751 3078 \nQ 1150 3584 1784 3584 \nQ 2172 3584 2448 3432 \nQ 2725 3281 2906 2969 \nL 2906 3500 \nL 3481 3500 \nL 3481 -1331 \nL 2906 -1331 \nL 2906 525 \nz\n\" id=\"DejaVuSans-71\" transform=\"scale(0.015625)\"/>\n       <path d=\"M 3513 2113 \nL 3513 0 \nL 2938 0 \nL 2938 2094 \nQ 2938 2591 2744 2837 \nQ 2550 3084 2163 3084 \nQ 1697 3084 1428 2787 \nQ 1159 2491 1159 1978 \nL 1159 0 \nL 581 0 \nL 581 3500 \nL 1159 3500 \nL 1159 2956 \nQ 1366 3272 1645 3428 \nQ 1925 3584 2291 3584 \nQ 2894 3584 3203 3211 \nQ 3513 2838 3513 2113 \nz\n\" id=\"DejaVuSans-6e\" transform=\"scale(0.015625)\"/>\n       <path d=\"M 3122 3366 \nL 3122 2828 \nQ 2878 2963 2633 3030 \nQ 2388 3097 2138 3097 \nQ 1578 3097 1268 2742 \nQ 959 2388 959 1747 \nQ 959 1106 1268 751 \nQ 1578 397 2138 397 \nQ 2388 397 2633 464 \nQ 2878 531 3122 666 \nL 3122 134 \nQ 2881 22 2623 -34 \nQ 2366 -91 2075 -91 \nQ 1284 -91 818 406 \nQ 353 903 353 1747 \nQ 353 2603 823 3093 \nQ 1294 3584 2113 3584 \nQ 2378 3584 2631 3529 \nQ 2884 3475 3122 3366 \nz\n\" id=\"DejaVuSans-63\" transform=\"scale(0.015625)\"/>\n      </defs>\n      <use xlink:href=\"#DejaVuSans-46\"/>\n      <use x=\"50.269531\" xlink:href=\"#DejaVuSans-72\"/>\n      <use x=\"89.132812\" xlink:href=\"#DejaVuSans-65\"/>\n      <use x=\"150.65625\" xlink:href=\"#DejaVuSans-71\"/>\n      <use x=\"214.132812\" xlink:href=\"#DejaVuSans-75\"/>\n      <use x=\"277.511719\" xlink:href=\"#DejaVuSans-65\"/>\n      <use x=\"339.035156\" xlink:href=\"#DejaVuSans-6e\"/>\n      <use x=\"402.414062\" xlink:href=\"#DejaVuSans-63\"/>\n      <use x=\"457.394531\" xlink:href=\"#DejaVuSans-79\"/>\n     </g>\n    </g>\n   </g>\n   <g id=\"patch_14\">\n    <path d=\"M 53.328125 224.64 \nL 53.328125 7.2 \n\" style=\"fill:none;stroke:#000000;stroke-linecap:square;stroke-linejoin:miter;stroke-width:0.8;\"/>\n   </g>\n   <g id=\"patch_15\">\n    <path d=\"M 388.128125 224.64 \nL 388.128125 7.2 \n\" style=\"fill:none;stroke:#000000;stroke-linecap:square;stroke-linejoin:miter;stroke-width:0.8;\"/>\n   </g>\n   <g id=\"patch_16\">\n    <path d=\"M 53.328125 224.64 \nL 388.128125 224.64 \n\" style=\"fill:none;stroke:#000000;stroke-linecap:square;stroke-linejoin:miter;stroke-width:0.8;\"/>\n   </g>\n   <g id=\"patch_17\">\n    <path d=\"M 53.328125 7.2 \nL 388.128125 7.2 \n\" style=\"fill:none;stroke:#000000;stroke-linecap:square;stroke-linejoin:miter;stroke-width:0.8;\"/>\n   </g>\n  </g>\n </g>\n <defs>\n  <clipPath id=\"p4e2295fb8b\">\n   <rect height=\"217.44\" width=\"334.8\" x=\"53.328125\" y=\"7.2\"/>\n  </clipPath>\n </defs>\n</svg>\n",
      "image/png": "[encoded data removed]"
     },
     "metadata": {
      "needs_background": "light"
     }
    }
   ],
   "source": [
    "plt.bar(x_plot, y_plot, align='center') # A bar chart\n",
    "plt.xticks(x_plot)\n",
    "plt.xlabel('Quality')\n",
    "plt.ylabel('Frequency')\n",
    "maxY = len(y_plot)\n",
    "plt.show()"
   ]
  },
  {
   "cell_type": "code",
   "execution_count": 69,
   "metadata": {},
   "outputs": [
    {
     "output_type": "execute_result",
     "data": {
      "text/plain": [
       "                      fixed acidity  volatile acidity  citric acid  \\\n",
       "fixed acidity              1.000000         -0.022697     0.289181   \n",
       "volatile acidity          -0.022697          1.000000    -0.149472   \n",
       "citric acid                0.289181         -0.149472     1.000000   \n",
       "residual sugar             0.089021          0.064286     0.094212   \n",
       "chlorides                  0.023086          0.070512     0.114364   \n",
       "free sulfur dioxide       -0.049396         -0.097012     0.094077   \n",
       "total sulfur dioxide       0.091070          0.089261     0.121131   \n",
       "density                    0.265331          0.027114     0.149503   \n",
       "pH                        -0.425858         -0.031915    -0.163748   \n",
       "sulphates                 -0.017143         -0.035728     0.062331   \n",
       "alcohol                   -0.120881          0.067718    -0.075729   \n",
       "quality                   -0.113663         -0.194723    -0.009209   \n",
       "\n",
       "                      residual sugar  chlorides  free sulfur dioxide  \\\n",
       "fixed acidity               0.089021   0.023086            -0.049396   \n",
       "volatile acidity            0.064286   0.070512            -0.097012   \n",
       "citric acid                 0.094212   0.114364             0.094077   \n",
       "residual sugar              1.000000   0.088685             0.299098   \n",
       "chlorides                   0.088685   1.000000             0.101392   \n",
       "free sulfur dioxide         0.299098   0.101392             1.000000   \n",
       "total sulfur dioxide        0.401439   0.198910             0.615501   \n",
       "density                     0.838966   0.257211             0.294210   \n",
       "pH                         -0.194133  -0.090439            -0.000618   \n",
       "sulphates                  -0.026664   0.016763             0.059217   \n",
       "alcohol                    -0.450631  -0.360189            -0.250104   \n",
       "quality                    -0.097577  -0.209934             0.008158   \n",
       "\n",
       "                      total sulfur dioxide   density        pH  sulphates  \\\n",
       "fixed acidity                     0.091070  0.265331 -0.425858  -0.017143   \n",
       "volatile acidity                  0.089261  0.027114 -0.031915  -0.035728   \n",
       "citric acid                       0.121131  0.149503 -0.163748   0.062331   \n",
       "residual sugar                    0.401439  0.838966 -0.194133  -0.026664   \n",
       "chlorides                         0.198910  0.257211 -0.090439   0.016763   \n",
       "free sulfur dioxide               0.615501  0.294210 -0.000618   0.059217   \n",
       "total sulfur dioxide              1.000000  0.529881  0.002321   0.134562   \n",
       "density                           0.529881  1.000000 -0.093591   0.074493   \n",
       "pH                                0.002321 -0.093591  1.000000   0.155951   \n",
       "sulphates                         0.134562  0.074493  0.155951   1.000000   \n",
       "alcohol                          -0.448892 -0.780138  0.121432  -0.017433   \n",
       "quality                          -0.174737 -0.307123  0.099427   0.053678   \n",
       "\n",
       "                       alcohol   quality  \n",
       "fixed acidity        -0.120881 -0.113663  \n",
       "volatile acidity      0.067718 -0.194723  \n",
       "citric acid          -0.075729 -0.009209  \n",
       "residual sugar       -0.450631 -0.097577  \n",
       "chlorides            -0.360189 -0.209934  \n",
       "free sulfur dioxide  -0.250104  0.008158  \n",
       "total sulfur dioxide -0.448892 -0.174737  \n",
       "density              -0.780138 -0.307123  \n",
       "pH                    0.121432  0.099427  \n",
       "sulphates            -0.017433  0.053678  \n",
       "alcohol               1.000000  0.435575  \n",
       "quality               0.435575  1.000000  "
      ],
      "text/html": "<div>\n<style scoped>\n    .dataframe tbody tr th:only-of-type {\n        vertical-align: middle;\n    }\n\n    .dataframe tbody tr th {\n        vertical-align: top;\n    }\n\n    .dataframe thead th {\n        text-align: right;\n    }\n</style>\n<table border=\"1\" class=\"dataframe\">\n  <thead>\n    <tr style=\"text-align: right;\">\n      <th></th>\n      <th>fixed acidity</th>\n      <th>volatile acidity</th>\n      <th>citric acid</th>\n      <th>residual sugar</th>\n      <th>chlorides</th>\n      <th>free sulfur dioxide</th>\n      <th>total sulfur dioxide</th>\n      <th>density</th>\n      <th>pH</th>\n      <th>sulphates</th>\n      <th>alcohol</th>\n      <th>quality</th>\n    </tr>\n  </thead>\n  <tbody>\n    <tr>\n      <th>fixed acidity</th>\n      <td>1.000000</td>\n      <td>-0.022697</td>\n      <td>0.289181</td>\n      <td>0.089021</td>\n      <td>0.023086</td>\n      <td>-0.049396</td>\n      <td>0.091070</td>\n      <td>0.265331</td>\n      <td>-0.425858</td>\n      <td>-0.017143</td>\n      <td>-0.120881</td>\n      <td>-0.113663</td>\n    </tr>\n    <tr>\n      <th>volatile acidity</th>\n      <td>-0.022697</td>\n      <td>1.000000</td>\n      <td>-0.149472</td>\n      <td>0.064286</td>\n      <td>0.070512</td>\n      <td>-0.097012</td>\n      <td>0.089261</td>\n      <td>0.027114</td>\n      <td>-0.031915</td>\n      <td>-0.035728</td>\n      <td>0.067718</td>\n      <td>-0.194723</td>\n    </tr>\n    <tr>\n      <th>citric acid</th>\n      <td>0.289181</td>\n      <td>-0.149472</td>\n      <td>1.000000</td>\n      <td>0.094212</td>\n      <td>0.114364</td>\n      <td>0.094077</td>\n      <td>0.121131</td>\n      <td>0.149503</td>\n      <td>-0.163748</td>\n      <td>0.062331</td>\n      <td>-0.075729</td>\n      <td>-0.009209</td>\n    </tr>\n    <tr>\n      <th>residual sugar</th>\n      <td>0.089021</td>\n      <td>0.064286</td>\n      <td>0.094212</td>\n      <td>1.000000</td>\n      <td>0.088685</td>\n      <td>0.299098</td>\n      <td>0.401439</td>\n      <td>0.838966</td>\n      <td>-0.194133</td>\n      <td>-0.026664</td>\n      <td>-0.450631</td>\n      <td>-0.097577</td>\n    </tr>\n    <tr>\n      <th>chlorides</th>\n      <td>0.023086</td>\n      <td>0.070512</td>\n      <td>0.114364</td>\n      <td>0.088685</td>\n      <td>1.000000</td>\n      <td>0.101392</td>\n      <td>0.198910</td>\n      <td>0.257211</td>\n      <td>-0.090439</td>\n      <td>0.016763</td>\n      <td>-0.360189</td>\n      <td>-0.209934</td>\n    </tr>\n    <tr>\n      <th>free sulfur dioxide</th>\n      <td>-0.049396</td>\n      <td>-0.097012</td>\n      <td>0.094077</td>\n      <td>0.299098</td>\n      <td>0.101392</td>\n      <td>1.000000</td>\n      <td>0.615501</td>\n      <td>0.294210</td>\n      <td>-0.000618</td>\n      <td>0.059217</td>\n      <td>-0.250104</td>\n      <td>0.008158</td>\n    </tr>\n    <tr>\n      <th>total sulfur dioxide</th>\n      <td>0.091070</td>\n      <td>0.089261</td>\n      <td>0.121131</td>\n      <td>0.401439</td>\n      <td>0.198910</td>\n      <td>0.615501</td>\n      <td>1.000000</td>\n      <td>0.529881</td>\n      <td>0.002321</td>\n      <td>0.134562</td>\n      <td>-0.448892</td>\n      <td>-0.174737</td>\n    </tr>\n    <tr>\n      <th>density</th>\n      <td>0.265331</td>\n      <td>0.027114</td>\n      <td>0.149503</td>\n      <td>0.838966</td>\n      <td>0.257211</td>\n      <td>0.294210</td>\n      <td>0.529881</td>\n      <td>1.000000</td>\n      <td>-0.093591</td>\n      <td>0.074493</td>\n      <td>-0.780138</td>\n      <td>-0.307123</td>\n    </tr>\n    <tr>\n      <th>pH</th>\n      <td>-0.425858</td>\n      <td>-0.031915</td>\n      <td>-0.163748</td>\n      <td>-0.194133</td>\n      <td>-0.090439</td>\n      <td>-0.000618</td>\n      <td>0.002321</td>\n      <td>-0.093591</td>\n      <td>1.000000</td>\n      <td>0.155951</td>\n      <td>0.121432</td>\n      <td>0.099427</td>\n    </tr>\n    <tr>\n      <th>sulphates</th>\n      <td>-0.017143</td>\n      <td>-0.035728</td>\n      <td>0.062331</td>\n      <td>-0.026664</td>\n      <td>0.016763</td>\n      <td>0.059217</td>\n      <td>0.134562</td>\n      <td>0.074493</td>\n      <td>0.155951</td>\n      <td>1.000000</td>\n      <td>-0.017433</td>\n      <td>0.053678</td>\n    </tr>\n    <tr>\n      <th>alcohol</th>\n      <td>-0.120881</td>\n      <td>0.067718</td>\n      <td>-0.075729</td>\n      <td>-0.450631</td>\n      <td>-0.360189</td>\n      <td>-0.250104</td>\n      <td>-0.448892</td>\n      <td>-0.780138</td>\n      <td>0.121432</td>\n      <td>-0.017433</td>\n      <td>1.000000</td>\n      <td>0.435575</td>\n    </tr>\n    <tr>\n      <th>quality</th>\n      <td>-0.113663</td>\n      <td>-0.194723</td>\n      <td>-0.009209</td>\n      <td>-0.097577</td>\n      <td>-0.209934</td>\n      <td>0.008158</td>\n      <td>-0.174737</td>\n      <td>-0.307123</td>\n      <td>0.099427</td>\n      <td>0.053678</td>\n      <td>0.435575</td>\n      <td>1.000000</td>\n    </tr>\n  </tbody>\n</table>\n</div>"
     },
     "metadata": {},
     "execution_count": 69
    }
   ],
   "source": [
    "df.corr() "
   ]
  },
  {
   "cell_type": "code",
   "execution_count": 70,
   "metadata": {},
   "outputs": [
    {
     "output_type": "execute_result",
     "data": {
      "text/plain": [
       "      fixed acidity  volatile acidity  citric acid  residual sugar  chlorides  \\\n",
       "4656       0.211538          0.205882     0.246988        0.156442   0.115727   \n",
       "3659       0.153846          0.441176     0.096386        0.032209   0.080119   \n",
       "907        0.317308          0.166667     0.234940        0.023006   0.080119   \n",
       "4352       0.336538          0.196078     0.210843        0.015337   0.133531   \n",
       "3271       0.259615          0.235294     0.204819        0.078221   0.103858   \n",
       "...             ...               ...          ...             ...        ...   \n",
       "4426       0.230769          0.127451     0.313253        0.090491   0.112760   \n",
       "466        0.307692          0.058824     0.192771        0.128834   0.089021   \n",
       "3092       0.365385          0.186275     0.313253        0.039877   0.100890   \n",
       "3772       0.240385          0.156863     0.174699        0.200920   0.077151   \n",
       "860        0.413462          0.186275     0.210843        0.016871   0.062315   \n",
       "\n",
       "      free sulfur dioxide  total sulfur dioxide   density        pH  \\\n",
       "4656             0.184669              0.324826  0.127048  0.336364   \n",
       "3659             0.111498              0.276102  0.027955  0.436364   \n",
       "907              0.097561              0.266821  0.071139  0.509091   \n",
       "4352             0.101045              0.322506  0.090033  0.418182   \n",
       "3271             0.087108              0.190255  0.091190  0.509091   \n",
       "...                   ...                   ...       ...       ...   \n",
       "4426             0.090592              0.264501  0.136302  0.454545   \n",
       "466              0.181185              0.306265  0.163678  0.454545   \n",
       "3092             0.090592              0.331787  0.080586  0.272727   \n",
       "3772             0.177700              0.290023  0.165028  0.409091   \n",
       "860              0.125436              0.218097  0.104878  0.454545   \n",
       "\n",
       "      sulphates   alcohol  \n",
       "4656   0.430233  0.478495  \n",
       "3659   0.360465  0.838710  \n",
       "907    0.244186  0.677419  \n",
       "4352   0.290698  0.435484  \n",
       "3271   0.441860  0.645161  \n",
       "...         ...       ...  \n",
       "4426   0.313953  0.306452  \n",
       "466    0.244186  0.225806  \n",
       "3092   0.360465  0.548387  \n",
       "3772   0.186047  0.419355  \n",
       "860    0.476744  0.387097  \n",
       "\n",
       "[4898 rows x 11 columns]"
      ],
      "text/html": "<div>\n<style scoped>\n    .dataframe tbody tr th:only-of-type {\n        vertical-align: middle;\n    }\n\n    .dataframe tbody tr th {\n        vertical-align: top;\n    }\n\n    .dataframe thead th {\n        text-align: right;\n    }\n</style>\n<table border=\"1\" class=\"dataframe\">\n  <thead>\n    <tr style=\"text-align: right;\">\n      <th></th>\n      <th>fixed acidity</th>\n      <th>volatile acidity</th>\n      <th>citric acid</th>\n      <th>residual sugar</th>\n      <th>chlorides</th>\n      <th>free sulfur dioxide</th>\n      <th>total sulfur dioxide</th>\n      <th>density</th>\n      <th>pH</th>\n      <th>sulphates</th>\n      <th>alcohol</th>\n    </tr>\n  </thead>\n  <tbody>\n    <tr>\n      <th>4656</th>\n      <td>0.211538</td>\n      <td>0.205882</td>\n      <td>0.246988</td>\n      <td>0.156442</td>\n      <td>0.115727</td>\n      <td>0.184669</td>\n      <td>0.324826</td>\n      <td>0.127048</td>\n      <td>0.336364</td>\n      <td>0.430233</td>\n      <td>0.478495</td>\n    </tr>\n    <tr>\n      <th>3659</th>\n      <td>0.153846</td>\n      <td>0.441176</td>\n      <td>0.096386</td>\n      <td>0.032209</td>\n      <td>0.080119</td>\n      <td>0.111498</td>\n      <td>0.276102</td>\n      <td>0.027955</td>\n      <td>0.436364</td>\n      <td>0.360465</td>\n      <td>0.838710</td>\n    </tr>\n    <tr>\n      <th>907</th>\n      <td>0.317308</td>\n      <td>0.166667</td>\n      <td>0.234940</td>\n      <td>0.023006</td>\n      <td>0.080119</td>\n      <td>0.097561</td>\n      <td>0.266821</td>\n      <td>0.071139</td>\n      <td>0.509091</td>\n      <td>0.244186</td>\n      <td>0.677419</td>\n    </tr>\n    <tr>\n      <th>4352</th>\n      <td>0.336538</td>\n      <td>0.196078</td>\n      <td>0.210843</td>\n      <td>0.015337</td>\n      <td>0.133531</td>\n      <td>0.101045</td>\n      <td>0.322506</td>\n      <td>0.090033</td>\n      <td>0.418182</td>\n      <td>0.290698</td>\n      <td>0.435484</td>\n    </tr>\n    <tr>\n      <th>3271</th>\n      <td>0.259615</td>\n      <td>0.235294</td>\n      <td>0.204819</td>\n      <td>0.078221</td>\n      <td>0.103858</td>\n      <td>0.087108</td>\n      <td>0.190255</td>\n      <td>0.091190</td>\n      <td>0.509091</td>\n      <td>0.441860</td>\n      <td>0.645161</td>\n    </tr>\n    <tr>\n      <th>...</th>\n      <td>...</td>\n      <td>...</td>\n      <td>...</td>\n      <td>...</td>\n      <td>...</td>\n      <td>...</td>\n      <td>...</td>\n      <td>...</td>\n      <td>...</td>\n      <td>...</td>\n      <td>...</td>\n    </tr>\n    <tr>\n      <th>4426</th>\n      <td>0.230769</td>\n      <td>0.127451</td>\n      <td>0.313253</td>\n      <td>0.090491</td>\n      <td>0.112760</td>\n      <td>0.090592</td>\n      <td>0.264501</td>\n      <td>0.136302</td>\n      <td>0.454545</td>\n      <td>0.313953</td>\n      <td>0.306452</td>\n    </tr>\n    <tr>\n      <th>466</th>\n      <td>0.307692</td>\n      <td>0.058824</td>\n      <td>0.192771</td>\n      <td>0.128834</td>\n      <td>0.089021</td>\n      <td>0.181185</td>\n      <td>0.306265</td>\n      <td>0.163678</td>\n      <td>0.454545</td>\n      <td>0.244186</td>\n      <td>0.225806</td>\n    </tr>\n    <tr>\n      <th>3092</th>\n      <td>0.365385</td>\n      <td>0.186275</td>\n      <td>0.313253</td>\n      <td>0.039877</td>\n      <td>0.100890</td>\n      <td>0.090592</td>\n      <td>0.331787</td>\n      <td>0.080586</td>\n      <td>0.272727</td>\n      <td>0.360465</td>\n      <td>0.548387</td>\n    </tr>\n    <tr>\n      <th>3772</th>\n      <td>0.240385</td>\n      <td>0.156863</td>\n      <td>0.174699</td>\n      <td>0.200920</td>\n      <td>0.077151</td>\n      <td>0.177700</td>\n      <td>0.290023</td>\n      <td>0.165028</td>\n      <td>0.409091</td>\n      <td>0.186047</td>\n      <td>0.419355</td>\n    </tr>\n    <tr>\n      <th>860</th>\n      <td>0.413462</td>\n      <td>0.186275</td>\n      <td>0.210843</td>\n      <td>0.016871</td>\n      <td>0.062315</td>\n      <td>0.125436</td>\n      <td>0.218097</td>\n      <td>0.104878</td>\n      <td>0.454545</td>\n      <td>0.476744</td>\n      <td>0.387097</td>\n    </tr>\n  </tbody>\n</table>\n<p>4898 rows × 11 columns</p>\n</div>"
     },
     "metadata": {},
     "execution_count": 70
    }
   ],
   "source": [
    "dfs = df.sample(frac=1, random_state=42)\n",
    "# Getting X and y\n",
    "X = dfs.drop('quality', axis=1)\n",
    "y = dfs['quality']\n",
    "# normalizing X values\n",
    "minValueCol = np.array(X.min())\n",
    "maxValueCol = np.array(X.max())\n",
    "X_normal = (X - minValueCol) / (maxValueCol - minValueCol)\n",
    "X_normal"
   ]
  },
  {
   "cell_type": "code",
   "execution_count": 71,
   "metadata": {},
   "outputs": [
    {
     "output_type": "execute_result",
     "data": {
      "text/plain": [
       "      fixed acidity  volatile acidity  citric acid  residual sugar  chlorides  \\\n",
       "4656       0.211538          0.205882     0.246988        0.156442   0.115727   \n",
       "3659       0.153846          0.441176     0.096386        0.032209   0.080119   \n",
       "907        0.317308          0.166667     0.234940        0.023006   0.080119   \n",
       "4352       0.336538          0.196078     0.210843        0.015337   0.133531   \n",
       "3271       0.259615          0.235294     0.204819        0.078221   0.103858   \n",
       "...             ...               ...          ...             ...        ...   \n",
       "4426       0.230769          0.127451     0.313253        0.090491   0.112760   \n",
       "466        0.307692          0.058824     0.192771        0.128834   0.089021   \n",
       "3092       0.365385          0.186275     0.313253        0.039877   0.100890   \n",
       "3772       0.240385          0.156863     0.174699        0.200920   0.077151   \n",
       "860        0.413462          0.186275     0.210843        0.016871   0.062315   \n",
       "\n",
       "      free sulfur dioxide  total sulfur dioxide   density        pH  \\\n",
       "4656             0.184669              0.324826  0.127048  0.336364   \n",
       "3659             0.111498              0.276102  0.027955  0.436364   \n",
       "907              0.097561              0.266821  0.071139  0.509091   \n",
       "4352             0.101045              0.322506  0.090033  0.418182   \n",
       "3271             0.087108              0.190255  0.091190  0.509091   \n",
       "...                   ...                   ...       ...       ...   \n",
       "4426             0.090592              0.264501  0.136302  0.454545   \n",
       "466              0.181185              0.306265  0.163678  0.454545   \n",
       "3092             0.090592              0.331787  0.080586  0.272727   \n",
       "3772             0.177700              0.290023  0.165028  0.409091   \n",
       "860              0.125436              0.218097  0.104878  0.454545   \n",
       "\n",
       "      sulphates   alcohol  total acidity  \n",
       "4656   0.430233  0.478495       0.664409  \n",
       "3659   0.360465  0.838710       0.691408  \n",
       "907    0.244186  0.677419       0.718914  \n",
       "4352   0.290698  0.435484       0.743460  \n",
       "3271   0.441860  0.645161       0.699729  \n",
       "...         ...       ...            ...  \n",
       "4426   0.313953  0.306452       0.671473  \n",
       "466    0.244186  0.225806       0.559287  \n",
       "3092   0.360465  0.548387       0.864912  \n",
       "3772   0.186047  0.419355       0.571946  \n",
       "860    0.476744  0.387097       0.810579  \n",
       "\n",
       "[4898 rows x 12 columns]"
      ],
      "text/html": "<div>\n<style scoped>\n    .dataframe tbody tr th:only-of-type {\n        vertical-align: middle;\n    }\n\n    .dataframe tbody tr th {\n        vertical-align: top;\n    }\n\n    .dataframe thead th {\n        text-align: right;\n    }\n</style>\n<table border=\"1\" class=\"dataframe\">\n  <thead>\n    <tr style=\"text-align: right;\">\n      <th></th>\n      <th>fixed acidity</th>\n      <th>volatile acidity</th>\n      <th>citric acid</th>\n      <th>residual sugar</th>\n      <th>chlorides</th>\n      <th>free sulfur dioxide</th>\n      <th>total sulfur dioxide</th>\n      <th>density</th>\n      <th>pH</th>\n      <th>sulphates</th>\n      <th>alcohol</th>\n      <th>total acidity</th>\n    </tr>\n  </thead>\n  <tbody>\n    <tr>\n      <th>4656</th>\n      <td>0.211538</td>\n      <td>0.205882</td>\n      <td>0.246988</td>\n      <td>0.156442</td>\n      <td>0.115727</td>\n      <td>0.184669</td>\n      <td>0.324826</td>\n      <td>0.127048</td>\n      <td>0.336364</td>\n      <td>0.430233</td>\n      <td>0.478495</td>\n      <td>0.664409</td>\n    </tr>\n    <tr>\n      <th>3659</th>\n      <td>0.153846</td>\n      <td>0.441176</td>\n      <td>0.096386</td>\n      <td>0.032209</td>\n      <td>0.080119</td>\n      <td>0.111498</td>\n      <td>0.276102</td>\n      <td>0.027955</td>\n      <td>0.436364</td>\n      <td>0.360465</td>\n      <td>0.838710</td>\n      <td>0.691408</td>\n    </tr>\n    <tr>\n      <th>907</th>\n      <td>0.317308</td>\n      <td>0.166667</td>\n      <td>0.234940</td>\n      <td>0.023006</td>\n      <td>0.080119</td>\n      <td>0.097561</td>\n      <td>0.266821</td>\n      <td>0.071139</td>\n      <td>0.509091</td>\n      <td>0.244186</td>\n      <td>0.677419</td>\n      <td>0.718914</td>\n    </tr>\n    <tr>\n      <th>4352</th>\n      <td>0.336538</td>\n      <td>0.196078</td>\n      <td>0.210843</td>\n      <td>0.015337</td>\n      <td>0.133531</td>\n      <td>0.101045</td>\n      <td>0.322506</td>\n      <td>0.090033</td>\n      <td>0.418182</td>\n      <td>0.290698</td>\n      <td>0.435484</td>\n      <td>0.743460</td>\n    </tr>\n    <tr>\n      <th>3271</th>\n      <td>0.259615</td>\n      <td>0.235294</td>\n      <td>0.204819</td>\n      <td>0.078221</td>\n      <td>0.103858</td>\n      <td>0.087108</td>\n      <td>0.190255</td>\n      <td>0.091190</td>\n      <td>0.509091</td>\n      <td>0.441860</td>\n      <td>0.645161</td>\n      <td>0.699729</td>\n    </tr>\n    <tr>\n      <th>...</th>\n      <td>...</td>\n      <td>...</td>\n      <td>...</td>\n      <td>...</td>\n      <td>...</td>\n      <td>...</td>\n      <td>...</td>\n      <td>...</td>\n      <td>...</td>\n      <td>...</td>\n      <td>...</td>\n      <td>...</td>\n    </tr>\n    <tr>\n      <th>4426</th>\n      <td>0.230769</td>\n      <td>0.127451</td>\n      <td>0.313253</td>\n      <td>0.090491</td>\n      <td>0.112760</td>\n      <td>0.090592</td>\n      <td>0.264501</td>\n      <td>0.136302</td>\n      <td>0.454545</td>\n      <td>0.313953</td>\n      <td>0.306452</td>\n      <td>0.671473</td>\n    </tr>\n    <tr>\n      <th>466</th>\n      <td>0.307692</td>\n      <td>0.058824</td>\n      <td>0.192771</td>\n      <td>0.128834</td>\n      <td>0.089021</td>\n      <td>0.181185</td>\n      <td>0.306265</td>\n      <td>0.163678</td>\n      <td>0.454545</td>\n      <td>0.244186</td>\n      <td>0.225806</td>\n      <td>0.559287</td>\n    </tr>\n    <tr>\n      <th>3092</th>\n      <td>0.365385</td>\n      <td>0.186275</td>\n      <td>0.313253</td>\n      <td>0.039877</td>\n      <td>0.100890</td>\n      <td>0.090592</td>\n      <td>0.331787</td>\n      <td>0.080586</td>\n      <td>0.272727</td>\n      <td>0.360465</td>\n      <td>0.548387</td>\n      <td>0.864912</td>\n    </tr>\n    <tr>\n      <th>3772</th>\n      <td>0.240385</td>\n      <td>0.156863</td>\n      <td>0.174699</td>\n      <td>0.200920</td>\n      <td>0.077151</td>\n      <td>0.177700</td>\n      <td>0.290023</td>\n      <td>0.165028</td>\n      <td>0.409091</td>\n      <td>0.186047</td>\n      <td>0.419355</td>\n      <td>0.571946</td>\n    </tr>\n    <tr>\n      <th>860</th>\n      <td>0.413462</td>\n      <td>0.186275</td>\n      <td>0.210843</td>\n      <td>0.016871</td>\n      <td>0.062315</td>\n      <td>0.125436</td>\n      <td>0.218097</td>\n      <td>0.104878</td>\n      <td>0.454545</td>\n      <td>0.476744</td>\n      <td>0.387097</td>\n      <td>0.810579</td>\n    </tr>\n  </tbody>\n</table>\n<p>4898 rows × 12 columns</p>\n</div>"
     },
     "metadata": {},
     "execution_count": 71
    }
   ],
   "source": [
    "acidity_sum = X_normal['fixed acidity'] + X_normal['volatile acidity']+ X_normal['citric acid']\n",
    "X_normal['total acidity'] = acidity_sum\n",
    "X_normal"
   ]
  },
  {
   "source": [
    "## Dividing data set by quality column "
   ],
   "cell_type": "markdown",
   "metadata": {}
  },
  {
   "cell_type": "code",
   "execution_count": 72,
   "metadata": {},
   "outputs": [],
   "source": [
    "XByQuality = {}\n",
    "for i in x_plot:\n",
    "    XByQuality[i] = np.array(X_normal[y == i])\n",
    "yByQuality = {}\n",
    "for i in x_plot:\n",
    "    yByQuality[i] = np.array(y[y == i])"
   ]
  },
  {
   "cell_type": "code",
   "execution_count": 78,
   "metadata": {},
   "outputs": [
    {
     "output_type": "execute_result",
     "data": {
      "text/plain": [
       "array([[0.03846154, 0.13235294, 0.13855422, ..., 0.25581395, 0.        ,\n",
       "        0.3093687 ],\n",
       "       [0.28846154, 0.17647059, 0.20481928, ..., 0.34883721, 0.40322581,\n",
       "        0.6697514 ],\n",
       "       [0.46153846, 0.46078431, 0.21084337, ..., 0.47674419, 0.48387097,\n",
       "        1.13316615],\n",
       "       ...,\n",
       "       [0.50961538, 0.18627451, 0.27108434, ..., 0.27906977, 0.38709677,\n",
       "        0.96697423],\n",
       "       [0.34615385, 0.15686275, 0.21686747, ..., 0.30232558, 0.72580645,\n",
       "        0.71988406],\n",
       "       [0.26923077, 0.2745098 , 0.1746988 , ..., 0.45348837, 0.70967742,\n",
       "        0.71843937]])"
      ]
     },
     "metadata": {},
     "execution_count": 78
    }
   ],
   "source": [
    "keys = dfByQuality.keys()\n",
    "X_train, X_test, y_train, y_test = ([],[],[],[]) \n",
    "for key in keys:\n",
    "    percent = int(XByQuality[key].shape[0] * 0.7)\n",
    "    # Getting X_train and X_test\n",
    "    X_train = X_train + XByQuality[key][:percent,:].tolist()\n",
    "    X_test = X_test + XByQuality[key][percent:,:].tolist()\n",
    "    # Getting y_train and y_test\n",
    "    y_train = y_train + yByQuality[key][:percent].tolist()\n",
    "    y_test = y_test + yByQuality[key][percent:].tolist()\n",
    "X_train = np.array(X_train)\n",
    "X_test = np.array(X_test)\n",
    "y_train = np.array(y_train)\n",
    "y_test = np.array(y_test) "
   ]
  },
  {
   "cell_type": "code",
   "execution_count": 74,
   "metadata": {},
   "outputs": [],
   "source": [
    "ks = ['2k','3k','5k','7k','11k','13k','17k','23k']\n",
    "knns = {}\n",
    "for k in ks:\n",
    "    knns[k] = []"
   ]
  },
  {
   "cell_type": "code",
   "execution_count": 75,
   "metadata": {
    "tags": []
   },
   "outputs": [],
   "source": [
    "for k in knns:\n",
    "    for test in X_test:\n",
    "        k_value = int(k.replace('k',''))\n",
    "        knns[k].append( knn.predict_classification(X_train, y_train, test, k_value) )"
   ]
  },
  {
   "cell_type": "code",
   "execution_count": 76,
   "metadata": {},
   "outputs": [
    {
     "output_type": "stream",
     "name": "stdout",
     "text": [
      "accuracy with 2k: 55.98%\naccuracy with 3k: 53.87%\naccuracy with 5k: 54.21%\naccuracy with 7k: 53.6%\naccuracy with 11k: 55.16%\naccuracy with 13k: 53.6%\naccuracy with 17k: 54.28%\naccuracy with 23k: 54.89%\n"
     ]
    }
   ],
   "source": [
    "for k in ks:\n",
    "    hits = np.sum(knns[k] == y_test)\n",
    "    accuracy = hits/y_test.shape[0]*100\n",
    "    print(f'accuracy with {k}: {round(accuracy, 2)}%')"
   ]
  },
  {
   "cell_type": "code",
   "execution_count": null,
   "metadata": {},
   "outputs": [],
   "source": []
  }
 ]
}