{
  "nbformat": 4,
  "nbformat_minor": 0,
  "metadata": {
    "language_info": {
      "codemirror_mode": {
        "name": "ipython",
        "version": 3
      },
      "file_extension": ".py",
      "mimetype": "text/x-python",
      "name": "python",
      "nbconvert_exporter": "python",
      "pygments_lexer": "ipython3",
      "version": "3.9.5"
    },
    "orig_nbformat": 2,
    "kernelspec": {
      "name": "python3",
      "display_name": "Python 3.9.5 64-bit"
    },
    "metadata": {
      "interpreter": {
        "hash": "767d51c1340bd893661ea55ea3124f6de3c7a262a8b4abca0554b478b1e2ff90"
      }
    },
    "colab": {
      "name": "knn_with_wine.ipynb",
      "provenance": []
    },
    "interpreter": {
      "hash": "767d51c1340bd893661ea55ea3124f6de3c7a262a8b4abca0554b478b1e2ff90"
    }
  },
  "cells": [
    {
      "cell_type": "code",
      "execution_count": 2,
      "metadata": {},
      "outputs": [],
      "source": [
        "import sys\n",
        "sys.path.append(\"../../../\")\n",
        "sys.path.append(\"../\")"
      ]
    },
    {
      "cell_type": "code",
      "metadata": {
        "id": "S9Y8Szqm_qMX"
      },
      "source": [
        "import pandas as pd\n",
        "import numpy as np\n",
        "from libs.kNearestNeighbor import knn\n",
        "from libs import metrics\n",
        "from sklearn.model_selection import train_test_split"
      ],
      "execution_count": 32,
      "outputs": []
    },
    {
      "cell_type": "code",
      "metadata": {
        "id": "_sSP8EMo_qMX",
        "outputId": "41a64f74-a9e1-4760-c20d-0b4947711ebd"
      },
      "source": [
        "path = 'https://raw.githubusercontent.com/spinosaphb/ufc-machine-learning/main/datasets/winequality-white.csv'\n",
        "df = pd.read_csv(path, delimiter=';')\n",
        "df.head()"
      ],
      "execution_count": 4,
      "outputs": [
        {
          "output_type": "execute_result",
          "data": {
            "text/plain": [
              "   fixed acidity  volatile acidity  citric acid  residual sugar  chlorides  \\\n",
              "0            7.0              0.27         0.36            20.7      0.045   \n",
              "1            6.3              0.30         0.34             1.6      0.049   \n",
              "2            8.1              0.28         0.40             6.9      0.050   \n",
              "3            7.2              0.23         0.32             8.5      0.058   \n",
              "4            7.2              0.23         0.32             8.5      0.058   \n",
              "\n",
              "   free sulfur dioxide  total sulfur dioxide  density    pH  sulphates  \\\n",
              "0                 45.0                 170.0   1.0010  3.00       0.45   \n",
              "1                 14.0                 132.0   0.9940  3.30       0.49   \n",
              "2                 30.0                  97.0   0.9951  3.26       0.44   \n",
              "3                 47.0                 186.0   0.9956  3.19       0.40   \n",
              "4                 47.0                 186.0   0.9956  3.19       0.40   \n",
              "\n",
              "   alcohol  quality  \n",
              "0      8.8        6  \n",
              "1      9.5        6  \n",
              "2     10.1        6  \n",
              "3      9.9        6  \n",
              "4      9.9        6  "
            ],
            "text/html": "<div>\n<style scoped>\n    .dataframe tbody tr th:only-of-type {\n        vertical-align: middle;\n    }\n\n    .dataframe tbody tr th {\n        vertical-align: top;\n    }\n\n    .dataframe thead th {\n        text-align: right;\n    }\n</style>\n<table border=\"1\" class=\"dataframe\">\n  <thead>\n    <tr style=\"text-align: right;\">\n      <th></th>\n      <th>fixed acidity</th>\n      <th>volatile acidity</th>\n      <th>citric acid</th>\n      <th>residual sugar</th>\n      <th>chlorides</th>\n      <th>free sulfur dioxide</th>\n      <th>total sulfur dioxide</th>\n      <th>density</th>\n      <th>pH</th>\n      <th>sulphates</th>\n      <th>alcohol</th>\n      <th>quality</th>\n    </tr>\n  </thead>\n  <tbody>\n    <tr>\n      <th>0</th>\n      <td>7.0</td>\n      <td>0.27</td>\n      <td>0.36</td>\n      <td>20.7</td>\n      <td>0.045</td>\n      <td>45.0</td>\n      <td>170.0</td>\n      <td>1.0010</td>\n      <td>3.00</td>\n      <td>0.45</td>\n      <td>8.8</td>\n      <td>6</td>\n    </tr>\n    <tr>\n      <th>1</th>\n      <td>6.3</td>\n      <td>0.30</td>\n      <td>0.34</td>\n      <td>1.6</td>\n      <td>0.049</td>\n      <td>14.0</td>\n      <td>132.0</td>\n      <td>0.9940</td>\n      <td>3.30</td>\n      <td>0.49</td>\n      <td>9.5</td>\n      <td>6</td>\n    </tr>\n    <tr>\n      <th>2</th>\n      <td>8.1</td>\n      <td>0.28</td>\n      <td>0.40</td>\n      <td>6.9</td>\n      <td>0.050</td>\n      <td>30.0</td>\n      <td>97.0</td>\n      <td>0.9951</td>\n      <td>3.26</td>\n      <td>0.44</td>\n      <td>10.1</td>\n      <td>6</td>\n    </tr>\n    <tr>\n      <th>3</th>\n      <td>7.2</td>\n      <td>0.23</td>\n      <td>0.32</td>\n      <td>8.5</td>\n      <td>0.058</td>\n      <td>47.0</td>\n      <td>186.0</td>\n      <td>0.9956</td>\n      <td>3.19</td>\n      <td>0.40</td>\n      <td>9.9</td>\n      <td>6</td>\n    </tr>\n    <tr>\n      <th>4</th>\n      <td>7.2</td>\n      <td>0.23</td>\n      <td>0.32</td>\n      <td>8.5</td>\n      <td>0.058</td>\n      <td>47.0</td>\n      <td>186.0</td>\n      <td>0.9956</td>\n      <td>3.19</td>\n      <td>0.40</td>\n      <td>9.9</td>\n      <td>6</td>\n    </tr>\n  </tbody>\n</table>\n</div>"
          },
          "metadata": {},
          "execution_count": 4
        }
      ]
    },
    {
      "cell_type": "code",
      "metadata": {
        "id": "qdF6dEXt_qMZ",
        "outputId": "76a42e9e-fe86-4bf5-e601-ea02881f46f0"
      },
      "source": [
        "df['quality'].value_counts()"
      ],
      "execution_count": 5,
      "outputs": [
        {
          "output_type": "execute_result",
          "data": {
            "text/plain": [
              "6    2198\n",
              "5    1457\n",
              "7     880\n",
              "8     175\n",
              "4     163\n",
              "3      20\n",
              "9       5\n",
              "Name: quality, dtype: int64"
            ]
          },
          "metadata": {},
          "execution_count": 5
        }
      ]
    },
    {
      "cell_type": "code",
      "metadata": {
        "id": "_LiAMUqN_qMZ",
        "outputId": "7f4a2fc8-2ec2-4d3c-f3b5-1f9cb37384b3"
      },
      "source": [
        "df.corr() "
      ],
      "execution_count": 6,
      "outputs": [
        {
          "output_type": "execute_result",
          "data": {
            "text/plain": [
              "                      fixed acidity  volatile acidity  citric acid  \\\n",
              "fixed acidity              1.000000         -0.022697     0.289181   \n",
              "volatile acidity          -0.022697          1.000000    -0.149472   \n",
              "citric acid                0.289181         -0.149472     1.000000   \n",
              "residual sugar             0.089021          0.064286     0.094212   \n",
              "chlorides                  0.023086          0.070512     0.114364   \n",
              "free sulfur dioxide       -0.049396         -0.097012     0.094077   \n",
              "total sulfur dioxide       0.091070          0.089261     0.121131   \n",
              "density                    0.265331          0.027114     0.149503   \n",
              "pH                        -0.425858         -0.031915    -0.163748   \n",
              "sulphates                 -0.017143         -0.035728     0.062331   \n",
              "alcohol                   -0.120881          0.067718    -0.075729   \n",
              "quality                   -0.113663         -0.194723    -0.009209   \n",
              "\n",
              "                      residual sugar  chlorides  free sulfur dioxide  \\\n",
              "fixed acidity               0.089021   0.023086            -0.049396   \n",
              "volatile acidity            0.064286   0.070512            -0.097012   \n",
              "citric acid                 0.094212   0.114364             0.094077   \n",
              "residual sugar              1.000000   0.088685             0.299098   \n",
              "chlorides                   0.088685   1.000000             0.101392   \n",
              "free sulfur dioxide         0.299098   0.101392             1.000000   \n",
              "total sulfur dioxide        0.401439   0.198910             0.615501   \n",
              "density                     0.838966   0.257211             0.294210   \n",
              "pH                         -0.194133  -0.090439            -0.000618   \n",
              "sulphates                  -0.026664   0.016763             0.059217   \n",
              "alcohol                    -0.450631  -0.360189            -0.250104   \n",
              "quality                    -0.097577  -0.209934             0.008158   \n",
              "\n",
              "                      total sulfur dioxide   density        pH  sulphates  \\\n",
              "fixed acidity                     0.091070  0.265331 -0.425858  -0.017143   \n",
              "volatile acidity                  0.089261  0.027114 -0.031915  -0.035728   \n",
              "citric acid                       0.121131  0.149503 -0.163748   0.062331   \n",
              "residual sugar                    0.401439  0.838966 -0.194133  -0.026664   \n",
              "chlorides                         0.198910  0.257211 -0.090439   0.016763   \n",
              "free sulfur dioxide               0.615501  0.294210 -0.000618   0.059217   \n",
              "total sulfur dioxide              1.000000  0.529881  0.002321   0.134562   \n",
              "density                           0.529881  1.000000 -0.093591   0.074493   \n",
              "pH                                0.002321 -0.093591  1.000000   0.155951   \n",
              "sulphates                         0.134562  0.074493  0.155951   1.000000   \n",
              "alcohol                          -0.448892 -0.780138  0.121432  -0.017433   \n",
              "quality                          -0.174737 -0.307123  0.099427   0.053678   \n",
              "\n",
              "                       alcohol   quality  \n",
              "fixed acidity        -0.120881 -0.113663  \n",
              "volatile acidity      0.067718 -0.194723  \n",
              "citric acid          -0.075729 -0.009209  \n",
              "residual sugar       -0.450631 -0.097577  \n",
              "chlorides            -0.360189 -0.209934  \n",
              "free sulfur dioxide  -0.250104  0.008158  \n",
              "total sulfur dioxide -0.448892 -0.174737  \n",
              "density              -0.780138 -0.307123  \n",
              "pH                    0.121432  0.099427  \n",
              "sulphates            -0.017433  0.053678  \n",
              "alcohol               1.000000  0.435575  \n",
              "quality               0.435575  1.000000  "
            ],
            "text/html": "<div>\n<style scoped>\n    .dataframe tbody tr th:only-of-type {\n        vertical-align: middle;\n    }\n\n    .dataframe tbody tr th {\n        vertical-align: top;\n    }\n\n    .dataframe thead th {\n        text-align: right;\n    }\n</style>\n<table border=\"1\" class=\"dataframe\">\n  <thead>\n    <tr style=\"text-align: right;\">\n      <th></th>\n      <th>fixed acidity</th>\n      <th>volatile acidity</th>\n      <th>citric acid</th>\n      <th>residual sugar</th>\n      <th>chlorides</th>\n      <th>free sulfur dioxide</th>\n      <th>total sulfur dioxide</th>\n      <th>density</th>\n      <th>pH</th>\n      <th>sulphates</th>\n      <th>alcohol</th>\n      <th>quality</th>\n    </tr>\n  </thead>\n  <tbody>\n    <tr>\n      <th>fixed acidity</th>\n      <td>1.000000</td>\n      <td>-0.022697</td>\n      <td>0.289181</td>\n      <td>0.089021</td>\n      <td>0.023086</td>\n      <td>-0.049396</td>\n      <td>0.091070</td>\n      <td>0.265331</td>\n      <td>-0.425858</td>\n      <td>-0.017143</td>\n      <td>-0.120881</td>\n      <td>-0.113663</td>\n    </tr>\n    <tr>\n      <th>volatile acidity</th>\n      <td>-0.022697</td>\n      <td>1.000000</td>\n      <td>-0.149472</td>\n      <td>0.064286</td>\n      <td>0.070512</td>\n      <td>-0.097012</td>\n      <td>0.089261</td>\n      <td>0.027114</td>\n      <td>-0.031915</td>\n      <td>-0.035728</td>\n      <td>0.067718</td>\n      <td>-0.194723</td>\n    </tr>\n    <tr>\n      <th>citric acid</th>\n      <td>0.289181</td>\n      <td>-0.149472</td>\n      <td>1.000000</td>\n      <td>0.094212</td>\n      <td>0.114364</td>\n      <td>0.094077</td>\n      <td>0.121131</td>\n      <td>0.149503</td>\n      <td>-0.163748</td>\n      <td>0.062331</td>\n      <td>-0.075729</td>\n      <td>-0.009209</td>\n    </tr>\n    <tr>\n      <th>residual sugar</th>\n      <td>0.089021</td>\n      <td>0.064286</td>\n      <td>0.094212</td>\n      <td>1.000000</td>\n      <td>0.088685</td>\n      <td>0.299098</td>\n      <td>0.401439</td>\n      <td>0.838966</td>\n      <td>-0.194133</td>\n      <td>-0.026664</td>\n      <td>-0.450631</td>\n      <td>-0.097577</td>\n    </tr>\n    <tr>\n      <th>chlorides</th>\n      <td>0.023086</td>\n      <td>0.070512</td>\n      <td>0.114364</td>\n      <td>0.088685</td>\n      <td>1.000000</td>\n      <td>0.101392</td>\n      <td>0.198910</td>\n      <td>0.257211</td>\n      <td>-0.090439</td>\n      <td>0.016763</td>\n      <td>-0.360189</td>\n      <td>-0.209934</td>\n    </tr>\n    <tr>\n      <th>free sulfur dioxide</th>\n      <td>-0.049396</td>\n      <td>-0.097012</td>\n      <td>0.094077</td>\n      <td>0.299098</td>\n      <td>0.101392</td>\n      <td>1.000000</td>\n      <td>0.615501</td>\n      <td>0.294210</td>\n      <td>-0.000618</td>\n      <td>0.059217</td>\n      <td>-0.250104</td>\n      <td>0.008158</td>\n    </tr>\n    <tr>\n      <th>total sulfur dioxide</th>\n      <td>0.091070</td>\n      <td>0.089261</td>\n      <td>0.121131</td>\n      <td>0.401439</td>\n      <td>0.198910</td>\n      <td>0.615501</td>\n      <td>1.000000</td>\n      <td>0.529881</td>\n      <td>0.002321</td>\n      <td>0.134562</td>\n      <td>-0.448892</td>\n      <td>-0.174737</td>\n    </tr>\n    <tr>\n      <th>density</th>\n      <td>0.265331</td>\n      <td>0.027114</td>\n      <td>0.149503</td>\n      <td>0.838966</td>\n      <td>0.257211</td>\n      <td>0.294210</td>\n      <td>0.529881</td>\n      <td>1.000000</td>\n      <td>-0.093591</td>\n      <td>0.074493</td>\n      <td>-0.780138</td>\n      <td>-0.307123</td>\n    </tr>\n    <tr>\n      <th>pH</th>\n      <td>-0.425858</td>\n      <td>-0.031915</td>\n      <td>-0.163748</td>\n      <td>-0.194133</td>\n      <td>-0.090439</td>\n      <td>-0.000618</td>\n      <td>0.002321</td>\n      <td>-0.093591</td>\n      <td>1.000000</td>\n      <td>0.155951</td>\n      <td>0.121432</td>\n      <td>0.099427</td>\n    </tr>\n    <tr>\n      <th>sulphates</th>\n      <td>-0.017143</td>\n      <td>-0.035728</td>\n      <td>0.062331</td>\n      <td>-0.026664</td>\n      <td>0.016763</td>\n      <td>0.059217</td>\n      <td>0.134562</td>\n      <td>0.074493</td>\n      <td>0.155951</td>\n      <td>1.000000</td>\n      <td>-0.017433</td>\n      <td>0.053678</td>\n    </tr>\n    <tr>\n      <th>alcohol</th>\n      <td>-0.120881</td>\n      <td>0.067718</td>\n      <td>-0.075729</td>\n      <td>-0.450631</td>\n      <td>-0.360189</td>\n      <td>-0.250104</td>\n      <td>-0.448892</td>\n      <td>-0.780138</td>\n      <td>0.121432</td>\n      <td>-0.017433</td>\n      <td>1.000000</td>\n      <td>0.435575</td>\n    </tr>\n    <tr>\n      <th>quality</th>\n      <td>-0.113663</td>\n      <td>-0.194723</td>\n      <td>-0.009209</td>\n      <td>-0.097577</td>\n      <td>-0.209934</td>\n      <td>0.008158</td>\n      <td>-0.174737</td>\n      <td>-0.307123</td>\n      <td>0.099427</td>\n      <td>0.053678</td>\n      <td>0.435575</td>\n      <td>1.000000</td>\n    </tr>\n  </tbody>\n</table>\n</div>"
          },
          "metadata": {},
          "execution_count": 6
        }
      ]
    },
    {
      "cell_type": "code",
      "metadata": {
        "id": "iMwf22Zn_qMZ",
        "outputId": "2df1e14b-865d-44bb-e70d-f60d8e8e38d4"
      },
      "source": [
        "# Getting X and y\n",
        "dfs = df.sample(frac=1, random_state=42)\n",
        "X = dfs.drop('quality', axis=1)\n",
        "y = dfs['quality']\n"
      ],
      "execution_count": 7,
      "outputs": []
    },
    {
      "cell_type": "code",
      "metadata": {
        "id": "QVZb8RjS_qMb"
      },
      "source": [
        "percent = int(dfs.shape[0] * 0.7)\n",
        "# Getting X_train and X_test\n",
        "X_train = X[:percent]\n",
        "X_test = X[percent:]\n",
        "# Getting y_train and y_test\n",
        "y_train  = np.array(y[:percent])\n",
        "y_test = np.array(y[percent:])"
      ],
      "execution_count": 16,
      "outputs": []
    },
    {
      "cell_type": "code",
      "execution_count": 50,
      "metadata": {},
      "outputs": [],
      "source": [
        "X_train, y_train, X_test, y_test = train_test_split(X, y, train_size=0.7,random_state=42,stratify=y)"
      ]
    },
    {
      "cell_type": "code",
      "execution_count": 51,
      "metadata": {},
      "outputs": [],
      "source": [
        "## standardization\n",
        "meanX = X_train.mean()\n",
        "stdX = X_train.std()\n",
        "X_train = (X_train - meanX) / stdX\n",
        "X_test = (X_test - meanX) / stdX\n",
        "X_train, X_test = np.array(X_train), np.array(X_test)\n",
        "y_train, y_test = np.array(y_train), np.array(y_test)"
      ]
    },
    {
      "cell_type": "code",
      "metadata": {
        "id": "Nr7PYfua_qMb"
      },
      "source": [
        "ks = ['2k','3k','5k','7k','11k','13k','17k','23k']\n",
        "knns = {}\n",
        "for k in ks:\n",
        "    knns[k] = []"
      ],
      "execution_count": 52,
      "outputs": []
    },
    {
      "cell_type": "code",
      "metadata": {
        "tags": [],
        "id": "eHjvmcVZ_qMb"
      },
      "source": [
        "for k in knns:\n",
        "    for test in X_test:\n",
        "        k_value = int(k.replace('k',''))\n",
        "        knns[k].append( knn.predict_classification(X_train, y_train, test, k_value) )"
      ],
      "execution_count": 53,
      "outputs": [
        {
          "output_type": "error",
          "ename": "IndexError",
          "evalue": "index 2279 is out of bounds for axis 0 with size 1470",
          "traceback": [
            "\u001b[0;31m---------------------------------------------------------------------------\u001b[0m",
            "\u001b[0;31mIndexError\u001b[0m                                Traceback (most recent call last)",
            "\u001b[0;32m<ipython-input-53-893df5017de9>\u001b[0m in \u001b[0;36m<module>\u001b[0;34m\u001b[0m\n\u001b[1;32m      2\u001b[0m     \u001b[0;32mfor\u001b[0m \u001b[0mtest\u001b[0m \u001b[0;32min\u001b[0m \u001b[0mX_test\u001b[0m\u001b[0;34m:\u001b[0m\u001b[0;34m\u001b[0m\u001b[0;34m\u001b[0m\u001b[0m\n\u001b[1;32m      3\u001b[0m         \u001b[0mk_value\u001b[0m \u001b[0;34m=\u001b[0m \u001b[0mint\u001b[0m\u001b[0;34m(\u001b[0m\u001b[0mk\u001b[0m\u001b[0;34m.\u001b[0m\u001b[0mreplace\u001b[0m\u001b[0;34m(\u001b[0m\u001b[0;34m'k'\u001b[0m\u001b[0;34m,\u001b[0m\u001b[0;34m''\u001b[0m\u001b[0;34m)\u001b[0m\u001b[0;34m)\u001b[0m\u001b[0;34m\u001b[0m\u001b[0;34m\u001b[0m\u001b[0m\n\u001b[0;32m----> 4\u001b[0;31m         \u001b[0mknns\u001b[0m\u001b[0;34m[\u001b[0m\u001b[0mk\u001b[0m\u001b[0;34m]\u001b[0m\u001b[0;34m.\u001b[0m\u001b[0mappend\u001b[0m\u001b[0;34m(\u001b[0m \u001b[0mknn\u001b[0m\u001b[0;34m.\u001b[0m\u001b[0mpredict_classification\u001b[0m\u001b[0;34m(\u001b[0m\u001b[0mX_train\u001b[0m\u001b[0;34m,\u001b[0m \u001b[0my_train\u001b[0m\u001b[0;34m,\u001b[0m \u001b[0mtest\u001b[0m\u001b[0;34m,\u001b[0m \u001b[0mk_value\u001b[0m\u001b[0;34m)\u001b[0m \u001b[0;34m)\u001b[0m\u001b[0;34m\u001b[0m\u001b[0;34m\u001b[0m\u001b[0m\n\u001b[0m",
            "\u001b[0;32m~/Documents/UFC/ufc-machine-learning/activities/classification/A5A/../../../libs/kNearestNeighbor/knn.py\u001b[0m in \u001b[0;36mpredict_classification\u001b[0;34m(X, y, test_row, k)\u001b[0m\n\u001b[1;32m     19\u001b[0m \u001b[0;32mdef\u001b[0m \u001b[0mpredict_classification\u001b[0m\u001b[0;34m(\u001b[0m\u001b[0mX\u001b[0m\u001b[0;34m,\u001b[0m \u001b[0my\u001b[0m\u001b[0;34m,\u001b[0m \u001b[0mtest_row\u001b[0m\u001b[0;34m,\u001b[0m \u001b[0mk\u001b[0m\u001b[0;34m)\u001b[0m\u001b[0;34m:\u001b[0m\u001b[0;34m\u001b[0m\u001b[0;34m\u001b[0m\u001b[0m\n\u001b[1;32m     20\u001b[0m     \u001b[0midx_sort\u001b[0m \u001b[0;34m=\u001b[0m \u001b[0mget_neighbors\u001b[0m\u001b[0;34m(\u001b[0m\u001b[0mX\u001b[0m\u001b[0;34m,\u001b[0m \u001b[0mtest_row\u001b[0m\u001b[0;34m,\u001b[0m \u001b[0mk\u001b[0m\u001b[0;34m)\u001b[0m\u001b[0;34m\u001b[0m\u001b[0;34m\u001b[0m\u001b[0m\n\u001b[0;32m---> 21\u001b[0;31m     \u001b[0moutput_values\u001b[0m \u001b[0;34m=\u001b[0m \u001b[0my\u001b[0m\u001b[0;34m[\u001b[0m\u001b[0midx_sort\u001b[0m\u001b[0;34m]\u001b[0m\u001b[0;34m\u001b[0m\u001b[0;34m\u001b[0m\u001b[0m\n\u001b[0m\u001b[1;32m     22\u001b[0m     \u001b[0mcounts\u001b[0m \u001b[0;34m=\u001b[0m \u001b[0mnp\u001b[0m\u001b[0;34m.\u001b[0m\u001b[0munique\u001b[0m\u001b[0;34m(\u001b[0m\u001b[0moutput_values\u001b[0m\u001b[0;34m,\u001b[0m \u001b[0mreturn_counts\u001b[0m\u001b[0;34m=\u001b[0m\u001b[0;32mTrue\u001b[0m\u001b[0;34m)\u001b[0m\u001b[0;34m\u001b[0m\u001b[0;34m\u001b[0m\u001b[0m\n\u001b[1;32m     23\u001b[0m     \u001b[0midx_max\u001b[0m \u001b[0;34m=\u001b[0m \u001b[0mnp\u001b[0m\u001b[0;34m.\u001b[0m\u001b[0margmax\u001b[0m\u001b[0;34m(\u001b[0m\u001b[0mcounts\u001b[0m\u001b[0;34m[\u001b[0m\u001b[0;36m1\u001b[0m\u001b[0;34m]\u001b[0m\u001b[0;34m)\u001b[0m\u001b[0;34m\u001b[0m\u001b[0;34m\u001b[0m\u001b[0m\n",
            "\u001b[0;31mIndexError\u001b[0m: index 2279 is out of bounds for axis 0 with size 1470"
          ]
        }
      ]
    },
    {
      "source": [
        "## Classification Metrics"
      ],
      "cell_type": "markdown",
      "metadata": {
        "id": "LEOQZEqP_qMc"
      }
    },
    {
      "cell_type": "code",
      "execution_count": 22,
      "metadata": {},
      "outputs": [],
      "source": [
        "df_metrics = {\n",
        "    'k-Neighbors':knns.keys()\n",
        "}"
      ]
    },
    {
      "source": [
        "### `Accuracy Score`"
      ],
      "cell_type": "markdown",
      "metadata": {}
    },
    {
      "cell_type": "code",
      "execution_count": 24,
      "metadata": {},
      "outputs": [
        {
          "output_type": "execute_result",
          "data": {
            "text/plain": [
              "[57.76, 55.24, 54.9, 54.49, 55.99, 56.26, 55.58, 56.8]"
            ]
          },
          "metadata": {},
          "execution_count": 24
        }
      ],
      "source": [
        "\n",
        "accuracys = []\n",
        "\n",
        "for k in knns.keys():\n",
        "    accuracy = metrics.accuracy_score(y_test, knns[k])\n",
        "    accuracys += [round(accuracy*100, 2)]\n",
        "df_metrics['accuracy'] = accuracys\n",
        "df_metrics['accuracy']"
      ]
    },
    {
      "source": [
        "### `Precision Score`"
      ],
      "cell_type": "markdown",
      "metadata": {}
    },
    {
      "cell_type": "code",
      "execution_count": 25,
      "metadata": {},
      "outputs": [
        {
          "output_type": "execute_result",
          "data": {
            "text/plain": [
              "[58.03, 54.34, 53.14, 52.4, 53.95, 55.1, 55.28, 54.93]"
            ]
          },
          "metadata": {},
          "execution_count": 25
        }
      ],
      "source": [
        "precisions = []\n",
        "\n",
        "for k in knns.keys():\n",
        "    precision = metrics.precision_score(y_test, knns[k])\n",
        "    precisions += [round(precision*100, 2)]\n",
        "df_metrics['precision'] = precisions\n",
        "df_metrics['precision']"
      ]
    },
    {
      "source": [
        "### `Recall Score`"
      ],
      "cell_type": "markdown",
      "metadata": {}
    },
    {
      "cell_type": "code",
      "execution_count": 26,
      "metadata": {},
      "outputs": [
        {
          "output_type": "execute_result",
          "data": {
            "text/plain": [
              "[57.76, 55.24, 54.9, 54.49, 55.99, 56.26, 55.58, 56.8]"
            ]
          },
          "metadata": {},
          "execution_count": 26
        }
      ],
      "source": [
        "recalls = []\n",
        "\n",
        "for k in knns.keys():\n",
        "    recall = metrics.recall_score(y_test, knns[k])\n",
        "    recalls += [round(recall*100, 2)]\n",
        "df_metrics['recall'] = recalls\n",
        "df_metrics['recall']"
      ]
    },
    {
      "source": [
        "### `F1-Score`"
      ],
      "cell_type": "markdown",
      "metadata": {}
    },
    {
      "cell_type": "code",
      "execution_count": 27,
      "metadata": {},
      "outputs": [
        {
          "output_type": "execute_result",
          "data": {
            "text/plain": [
              "[57.89, 54.79, 54.0, 53.42, 54.95, 55.67, 55.43, 55.85]"
            ]
          },
          "metadata": {},
          "execution_count": 27
        }
      ],
      "source": [
        "f1_scores = []\n",
        "\n",
        "for k in knns.keys():\n",
        "    f1_score = metrics.f1_score(y_test, knns[k])\n",
        "    f1_scores += [round(f1_score*100, 2)]\n",
        "df_metrics['f1-score'] = f1_scores\n",
        "df_metrics['f1-score']"
      ]
    },
    {
      "cell_type": "code",
      "execution_count": 28,
      "metadata": {},
      "outputs": [
        {
          "output_type": "execute_result",
          "data": {
            "text/plain": [
              "  k-Neighbors  accuracy  precision  recall  f1-score\n",
              "0          2k     57.76      58.03   57.76     57.89\n",
              "1          3k     55.24      54.34   55.24     54.79\n",
              "2          5k     54.90      53.14   54.90     54.00\n",
              "3          7k     54.49      52.40   54.49     53.42\n",
              "4         11k     55.99      53.95   55.99     54.95\n",
              "5         13k     56.26      55.10   56.26     55.67\n",
              "6         17k     55.58      55.28   55.58     55.43\n",
              "7         23k     56.80      54.93   56.80     55.85"
            ],
            "text/html": "<div>\n<style scoped>\n    .dataframe tbody tr th:only-of-type {\n        vertical-align: middle;\n    }\n\n    .dataframe tbody tr th {\n        vertical-align: top;\n    }\n\n    .dataframe thead th {\n        text-align: right;\n    }\n</style>\n<table border=\"1\" class=\"dataframe\">\n  <thead>\n    <tr style=\"text-align: right;\">\n      <th></th>\n      <th>k-Neighbors</th>\n      <th>accuracy</th>\n      <th>precision</th>\n      <th>recall</th>\n      <th>f1-score</th>\n    </tr>\n  </thead>\n  <tbody>\n    <tr>\n      <th>0</th>\n      <td>2k</td>\n      <td>57.76</td>\n      <td>58.03</td>\n      <td>57.76</td>\n      <td>57.89</td>\n    </tr>\n    <tr>\n      <th>1</th>\n      <td>3k</td>\n      <td>55.24</td>\n      <td>54.34</td>\n      <td>55.24</td>\n      <td>54.79</td>\n    </tr>\n    <tr>\n      <th>2</th>\n      <td>5k</td>\n      <td>54.90</td>\n      <td>53.14</td>\n      <td>54.90</td>\n      <td>54.00</td>\n    </tr>\n    <tr>\n      <th>3</th>\n      <td>7k</td>\n      <td>54.49</td>\n      <td>52.40</td>\n      <td>54.49</td>\n      <td>53.42</td>\n    </tr>\n    <tr>\n      <th>4</th>\n      <td>11k</td>\n      <td>55.99</td>\n      <td>53.95</td>\n      <td>55.99</td>\n      <td>54.95</td>\n    </tr>\n    <tr>\n      <th>5</th>\n      <td>13k</td>\n      <td>56.26</td>\n      <td>55.10</td>\n      <td>56.26</td>\n      <td>55.67</td>\n    </tr>\n    <tr>\n      <th>6</th>\n      <td>17k</td>\n      <td>55.58</td>\n      <td>55.28</td>\n      <td>55.58</td>\n      <td>55.43</td>\n    </tr>\n    <tr>\n      <th>7</th>\n      <td>23k</td>\n      <td>56.80</td>\n      <td>54.93</td>\n      <td>56.80</td>\n      <td>55.85</td>\n    </tr>\n  </tbody>\n</table>\n</div>"
          },
          "metadata": {},
          "execution_count": 28
        }
      ],
      "source": [
        "pd.DataFrame(df_metrics)"
      ]
    },
    {
      "cell_type": "code",
      "execution_count": null,
      "metadata": {},
      "outputs": [],
      "source": []
    }
  ]
}