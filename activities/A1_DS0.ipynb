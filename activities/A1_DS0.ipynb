{
  "nbformat": 4,
  "nbformat_minor": 0,
  "metadata": {
    "colab": {
      "name": "A1-DS0.ipynb",
      "provenance": [],
      "collapsed_sections": [],
      "mount_file_id": "1UO9GyiQs1kEPYROrjf9Bdl3btSRiSsSb",
      "authorship_tag": "ABX9TyOrudDfs7dcieBA+MdZQAjy",
      "include_colab_link": true
    },
    "kernelspec": {
      "name": "python391jvsc74a57bd009b1961d4b9024043caf4a3909c51fffe82294c433933f457f21ff90042a2eb4",
      "display_name": "Python 3.9.1 64-bit ('base': conda)"
    },
    "language_info": {
      "name": "python",
      "version": "3.9.1"
    },
    "metadata": {
      "interpreter": {
        "hash": "09b1961d4b9024043caf4a3909c51fffe82294c433933f457f21ff90042a2eb4"
      }
    }
  },
  "cells": [
    {
      "cell_type": "markdown",
      "metadata": {
        "id": "view-in-github",
        "colab_type": "text"
      },
      "source": [
        "<a href=\"https://colab.research.google.com/github/spinosaphb/ufc-machine-learning/blob/main/activities/A1_DS0.ipynb\" target=\"_parent\"><img src=\"https://colab.research.google.com/assets/colab-badge.svg\" alt=\"Open In Colab\"/></a>"
      ]
    },
    {
      "cell_type": "markdown",
      "metadata": {
        "id": "Yyu6i5TH3b99"
      },
      "source": [
        "# Activitie 1 - Data Set : GDP_annual_growth from Kaggle\n"
      ]
    },
    {
      "cell_type": "code",
      "execution_count": 9,
      "metadata": {},
      "outputs": [
        {
          "output_type": "error",
          "ename": "ModuleNotFoundError",
          "evalue": "No module named 'google'",
          "traceback": [
            "\u001b[0;31m---------------------------------------------------------------------------\u001b[0m",
            "\u001b[0;31mModuleNotFoundError\u001b[0m                       Traceback (most recent call last)",
            "\u001b[0;32m<ipython-input-9-c19f4fe7d1d4>\u001b[0m in \u001b[0;36m<module>\u001b[0;34m\u001b[0m\n\u001b[0;32m----> 1\u001b[0;31m \u001b[0;32mfrom\u001b[0m \u001b[0mgoogle\u001b[0m\u001b[0;34m.\u001b[0m\u001b[0mcolab\u001b[0m \u001b[0;32mimport\u001b[0m \u001b[0mfiles\u001b[0m\u001b[0;34m\u001b[0m\u001b[0;34m\u001b[0m\u001b[0m\n\u001b[0m\u001b[1;32m      2\u001b[0m \u001b[0mdspath\u001b[0m \u001b[0;34m=\u001b[0m \u001b[0mfiles\u001b[0m\u001b[0;34m.\u001b[0m\u001b[0mupload\u001b[0m\u001b[0;34m\u001b[0m\u001b[0;34m\u001b[0m\u001b[0m\n",
            "\u001b[0;31mModuleNotFoundError\u001b[0m: No module named 'google'"
          ]
        }
      ],
      "source": [
        "from google.colab import files\n",
        "dspath = files.upload()"
      ]
    },
    {
      "cell_type": "code",
      "execution_count": null,
      "metadata": {},
      "outputs": [],
      "source": []
    }
  ]
}