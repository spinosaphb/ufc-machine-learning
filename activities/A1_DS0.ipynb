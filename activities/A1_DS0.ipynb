{
  "nbformat": 4,
  "nbformat_minor": 0,
  "metadata": {
    "colab": {
      "name": "A1-DS0.ipynb",
      "provenance": [],
      "collapsed_sections": [],
      "mount_file_id": "1UO9GyiQs1kEPYROrjf9Bdl3btSRiSsSb",
      "authorship_tag": "ABX9TyOrudDfs7dcieBA+MdZQAjy",
      "include_colab_link": true
    },
    "kernelspec": {
      "name": "python3",
      "display_name": "Python 3"
    },
    "language_info": {
      "name": "python"
    }
  },
  "cells": [
    {
      "cell_type": "markdown",
      "metadata": {
        "id": "view-in-github",
        "colab_type": "text"
      },
      "source": [
        "<a href=\"https://colab.research.google.com/github/spinosaphb/ufc-machine-learning/blob/main/activities/A1_DS0.ipynb\" target=\"_parent\"><img src=\"https://colab.research.google.com/assets/colab-badge.svg\" alt=\"Open In Colab\"/></a>"
      ]
    },
    {
      "cell_type": "markdown",
      "metadata": {
        "id": "Yyu6i5TH3b99"
      },
      "source": [
        "# Activitie 1 - Data Set : GDP_annual_growth from Kaggle\n"
      ]
    },
    {
      "cell_type": "code",
      "metadata": {
        "id": "Mlx6A2QF8SZ2"
      },
      "source": [
        "import pandas as pd\n",
        "ds = pd.read_csv(\"/content/drive/MyDrive/Colab Notebooks/ufc-machine-learning/datasets/DS0/GDP_annual_growth.csv\")\n",
        "ds.head()"
      ],
      "execution_count": null,
      "outputs": []
    },
    {
      "cell_type": "code",
      "metadata": {
        "id": "sfRZzx339YHg"
      },
      "source": [
        ""
      ],
      "execution_count": null,
      "outputs": []
    }
  ]
}