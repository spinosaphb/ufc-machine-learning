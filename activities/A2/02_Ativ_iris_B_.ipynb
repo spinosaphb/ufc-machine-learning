{
 "metadata": {
  "language_info": {
   "codemirror_mode": {
    "name": "ipython",
    "version": 3
   },
   "file_extension": ".py",
   "mimetype": "text/x-python",
   "name": "python",
   "nbconvert_exporter": "python",
   "pygments_lexer": "ipython3",
   "version": "3.9.5"
  },
  "orig_nbformat": 2,
  "kernelspec": {
   "name": "python3",
   "display_name": "Python 3",
   "language": "python"
  }
 },
 "nbformat": 4,
 "nbformat_minor": 2,
 "cells": [
  {
   "source": [
    "<a href=\"https://colab.research.google.com/github/spinosaphb/ufc-machine-learning/blob/main/activities/A2/02_Ativ_iris_B_.ipynb\" target=\"_parent\"><img src=\"https://colab.research.google.com/assets/colab-badge.svg\" alt=\"Open In Colab\"/></a>"
   ],
   "cell_type": "markdown",
   "metadata": {}
  },
  {
   "source": [
    "# Study with the iris dataset "
   ],
   "cell_type": "markdown",
   "metadata": {}
  },
  {
   "cell_type": "code",
   "execution_count": 1,
   "metadata": {},
   "outputs": [],
   "source": [
    "import pandas as pd\n",
    "import numpy as np\n",
    "from scipy import stats"
   ]
  },
  {
   "cell_type": "code",
   "execution_count": 2,
   "metadata": {},
   "outputs": [
    {
     "output_type": "execute_result",
     "data": {
      "text/plain": [
       "   Id  SepalLengthCm  SepalWidthCm  PetalLengthCm  PetalWidthCm      Species\n",
       "0   1            5.1           3.5            1.4           0.2  Iris-setosa\n",
       "1   2            4.9           3.0            1.4           0.2  Iris-setosa\n",
       "2   3            4.7           3.2            1.3           0.2  Iris-setosa\n",
       "3   4            4.6           3.1            1.5           0.2  Iris-setosa\n",
       "4   5            5.0           3.6            1.4           0.2  Iris-setosa"
      ],
      "text/html": "<div>\n<style scoped>\n    .dataframe tbody tr th:only-of-type {\n        vertical-align: middle;\n    }\n\n    .dataframe tbody tr th {\n        vertical-align: top;\n    }\n\n    .dataframe thead th {\n        text-align: right;\n    }\n</style>\n<table border=\"1\" class=\"dataframe\">\n  <thead>\n    <tr style=\"text-align: right;\">\n      <th></th>\n      <th>Id</th>\n      <th>SepalLengthCm</th>\n      <th>SepalWidthCm</th>\n      <th>PetalLengthCm</th>\n      <th>PetalWidthCm</th>\n      <th>Species</th>\n    </tr>\n  </thead>\n  <tbody>\n    <tr>\n      <th>0</th>\n      <td>1</td>\n      <td>5.1</td>\n      <td>3.5</td>\n      <td>1.4</td>\n      <td>0.2</td>\n      <td>Iris-setosa</td>\n    </tr>\n    <tr>\n      <th>1</th>\n      <td>2</td>\n      <td>4.9</td>\n      <td>3.0</td>\n      <td>1.4</td>\n      <td>0.2</td>\n      <td>Iris-setosa</td>\n    </tr>\n    <tr>\n      <th>2</th>\n      <td>3</td>\n      <td>4.7</td>\n      <td>3.2</td>\n      <td>1.3</td>\n      <td>0.2</td>\n      <td>Iris-setosa</td>\n    </tr>\n    <tr>\n      <th>3</th>\n      <td>4</td>\n      <td>4.6</td>\n      <td>3.1</td>\n      <td>1.5</td>\n      <td>0.2</td>\n      <td>Iris-setosa</td>\n    </tr>\n    <tr>\n      <th>4</th>\n      <td>5</td>\n      <td>5.0</td>\n      <td>3.6</td>\n      <td>1.4</td>\n      <td>0.2</td>\n      <td>Iris-setosa</td>\n    </tr>\n  </tbody>\n</table>\n</div>"
     },
     "metadata": {},
     "execution_count": 2
    }
   ],
   "source": [
    "path = 'https://raw.githubusercontent.com/spinosaphb/ufc-machine-learning/main/datasets/Iris.csv'\n",
    "df = pd.read_csv(path)\n",
    "df.head()"
   ]
  },
  {
   "source": [
    "## Number of samples"
   ],
   "cell_type": "markdown",
   "metadata": {}
  },
  {
   "cell_type": "code",
   "execution_count": 3,
   "metadata": {},
   "outputs": [
    {
     "output_type": "stream",
     "name": "stdout",
     "text": [
      "Iris-setosa: 50\nIris-versicolor: 50\nIris-virginica: 50\n"
     ]
    }
   ],
   "source": [
    "samples = df['Species']\n",
    "species = samples.unique() \n",
    "for sp in species:\n",
    "    print(f'{sp}: {np.sum(samples == sp)}')"
   ]
  },
  {
   "source": [
    "## Correlation between columns"
   ],
   "cell_type": "markdown",
   "metadata": {}
  },
  {
   "cell_type": "code",
   "execution_count": 4,
   "metadata": {},
   "outputs": [
    {
     "output_type": "execute_result",
     "data": {
      "text/plain": [
       "               SepalLengthCm  SepalWidthCm  PetalLengthCm  PetalWidthCm\n",
       "SepalLengthCm       1.000000     -0.109369       0.871754      0.817954\n",
       "SepalWidthCm       -0.109369      1.000000      -0.420516     -0.356544\n",
       "PetalLengthCm       0.871754     -0.420516       1.000000      0.962757\n",
       "PetalWidthCm        0.817954     -0.356544       0.962757      1.000000"
      ],
      "text/html": "<div>\n<style scoped>\n    .dataframe tbody tr th:only-of-type {\n        vertical-align: middle;\n    }\n\n    .dataframe tbody tr th {\n        vertical-align: top;\n    }\n\n    .dataframe thead th {\n        text-align: right;\n    }\n</style>\n<table border=\"1\" class=\"dataframe\">\n  <thead>\n    <tr style=\"text-align: right;\">\n      <th></th>\n      <th>SepalLengthCm</th>\n      <th>SepalWidthCm</th>\n      <th>PetalLengthCm</th>\n      <th>PetalWidthCm</th>\n    </tr>\n  </thead>\n  <tbody>\n    <tr>\n      <th>SepalLengthCm</th>\n      <td>1.000000</td>\n      <td>-0.109369</td>\n      <td>0.871754</td>\n      <td>0.817954</td>\n    </tr>\n    <tr>\n      <th>SepalWidthCm</th>\n      <td>-0.109369</td>\n      <td>1.000000</td>\n      <td>-0.420516</td>\n      <td>-0.356544</td>\n    </tr>\n    <tr>\n      <th>PetalLengthCm</th>\n      <td>0.871754</td>\n      <td>-0.420516</td>\n      <td>1.000000</td>\n      <td>0.962757</td>\n    </tr>\n    <tr>\n      <th>PetalWidthCm</th>\n      <td>0.817954</td>\n      <td>-0.356544</td>\n      <td>0.962757</td>\n      <td>1.000000</td>\n    </tr>\n  </tbody>\n</table>\n</div>"
     },
     "metadata": {},
     "execution_count": 4
    }
   ],
   "source": [
    "df.drop('Id', axis=1).corr()"
   ]
  },
  {
   "cell_type": "code",
   "execution_count": 5,
   "metadata": {},
   "outputs": [
    {
     "output_type": "execute_result",
     "data": {
      "text/plain": [
       "   Id  SepalLengthCm  SepalWidthCm  PetalLengthCm  PetalWidthCm  PetalReason  \\\n",
       "0   1            5.1           3.5            1.4           0.2          7.0   \n",
       "1   2            4.9           3.0            1.4           0.2          7.0   \n",
       "2   3            4.7           3.2            1.3           0.2          6.5   \n",
       "3   4            4.6           3.1            1.5           0.2          7.5   \n",
       "4   5            5.0           3.6            1.4           0.2          7.0   \n",
       "\n",
       "   LengthReason  PetalSepalReason      Species  \n",
       "0      3.642857          0.039216  Iris-setosa  \n",
       "1      3.500000          0.040816  Iris-setosa  \n",
       "2      3.615385          0.042553  Iris-setosa  \n",
       "3      3.066667          0.043478  Iris-setosa  \n",
       "4      3.571429          0.040000  Iris-setosa  "
      ],
      "text/html": "<div>\n<style scoped>\n    .dataframe tbody tr th:only-of-type {\n        vertical-align: middle;\n    }\n\n    .dataframe tbody tr th {\n        vertical-align: top;\n    }\n\n    .dataframe thead th {\n        text-align: right;\n    }\n</style>\n<table border=\"1\" class=\"dataframe\">\n  <thead>\n    <tr style=\"text-align: right;\">\n      <th></th>\n      <th>Id</th>\n      <th>SepalLengthCm</th>\n      <th>SepalWidthCm</th>\n      <th>PetalLengthCm</th>\n      <th>PetalWidthCm</th>\n      <th>PetalReason</th>\n      <th>LengthReason</th>\n      <th>PetalSepalReason</th>\n      <th>Species</th>\n    </tr>\n  </thead>\n  <tbody>\n    <tr>\n      <th>0</th>\n      <td>1</td>\n      <td>5.1</td>\n      <td>3.5</td>\n      <td>1.4</td>\n      <td>0.2</td>\n      <td>7.0</td>\n      <td>3.642857</td>\n      <td>0.039216</td>\n      <td>Iris-setosa</td>\n    </tr>\n    <tr>\n      <th>1</th>\n      <td>2</td>\n      <td>4.9</td>\n      <td>3.0</td>\n      <td>1.4</td>\n      <td>0.2</td>\n      <td>7.0</td>\n      <td>3.500000</td>\n      <td>0.040816</td>\n      <td>Iris-setosa</td>\n    </tr>\n    <tr>\n      <th>2</th>\n      <td>3</td>\n      <td>4.7</td>\n      <td>3.2</td>\n      <td>1.3</td>\n      <td>0.2</td>\n      <td>6.5</td>\n      <td>3.615385</td>\n      <td>0.042553</td>\n      <td>Iris-setosa</td>\n    </tr>\n    <tr>\n      <th>3</th>\n      <td>4</td>\n      <td>4.6</td>\n      <td>3.1</td>\n      <td>1.5</td>\n      <td>0.2</td>\n      <td>7.5</td>\n      <td>3.066667</td>\n      <td>0.043478</td>\n      <td>Iris-setosa</td>\n    </tr>\n    <tr>\n      <th>4</th>\n      <td>5</td>\n      <td>5.0</td>\n      <td>3.6</td>\n      <td>1.4</td>\n      <td>0.2</td>\n      <td>7.0</td>\n      <td>3.571429</td>\n      <td>0.040000</td>\n      <td>Iris-setosa</td>\n    </tr>\n  </tbody>\n</table>\n</div>"
     },
     "metadata": {},
     "execution_count": 5
    }
   ],
   "source": [
    "reasonPetal = df['PetalLengthCm'] / df['PetalWidthCm']\n",
    "df.insert(5, 'PetalReason', reasonPetal)\n",
    "psLength = df['SepalLengthCm'] / df['PetalLengthCm']\n",
    "df.insert(6, 'LengthReason', psLength)\n",
    "petalSepalLW = df['PetalWidthCm'] / df['SepalLengthCm']\n",
    "df.insert(7, 'PetalSepalReason', petalSepalLW)\n",
    "df.head()"
   ]
  },
  {
   "source": [
    "## Randomly separating into training and testing sets"
   ],
   "cell_type": "markdown",
   "metadata": {}
  },
  {
   "cell_type": "code",
   "execution_count": 6,
   "metadata": {},
   "outputs": [],
   "source": [
    "training_data = df.sample(frac=0.8, random_state=42)\n",
    "testing_data  = df.drop(training_data.index)"
   ]
  },
  {
   "source": [
    "## Geting X_train, y_train, X_test, y_test"
   ],
   "cell_type": "markdown",
   "metadata": {}
  },
  {
   "cell_type": "code",
   "execution_count": 7,
   "metadata": {},
   "outputs": [],
   "source": [
    "# Training\n",
    "X_train = training_data.drop(['Id', 'Species'], axis=1)\n",
    "y_train = training_data['Species']\n",
    "# Testing\n",
    "X_test = testing_data.drop(['Id', 'Species'], axis=1)\n",
    "y_test = testing_data['Species']\n"
   ]
  },
  {
   "source": [
    "## Boolean array of species"
   ],
   "cell_type": "markdown",
   "metadata": {}
  },
  {
   "cell_type": "code",
   "execution_count": 8,
   "metadata": {},
   "outputs": [],
   "source": [
    "bool_species = y_train == species[0], \\\n",
    "               y_train == species[1], \\\n",
    "               y_train == species[2]"
   ]
  },
  {
   "source": [
    "## Calculating the mean of each column of the dataframe by species"
   ],
   "cell_type": "markdown",
   "metadata": {}
  },
  {
   "cell_type": "code",
   "execution_count": 9,
   "metadata": {},
   "outputs": [
    {
     "output_type": "execute_result",
     "data": {
      "text/plain": [
       "array([[4.98604651, 3.43488372, 1.46744186, 0.24651163, 7.01899225,\n",
       "        3.43815358, 0.04912186],\n",
       "       [5.92051282, 2.77179487, 4.26410256, 1.33846154, 3.22241234,\n",
       "        1.39716977, 0.22605565],\n",
       "       [6.60789474, 2.97631579, 5.55      , 2.04736842, 2.74903655,\n",
       "        1.19363589, 0.31109717]])"
      ]
     },
     "metadata": {},
     "execution_count": 9
    }
   ],
   "source": [
    "MeanFeaturesSpecies = []\n",
    "for specie in range(3):\n",
    "    FeaturesMean = []\n",
    "    for column in range(X_train.shape[1]):\n",
    "        col = X_train.columns[column]\n",
    "        mean = np.mean(X_train[bool_species[specie]][col])\n",
    "        FeaturesMean.append(mean)\n",
    "    MeanFeaturesSpecies.append(FeaturesMean)\n",
    "featuresMeans = np.array( MeanFeaturesSpecies)\n",
    "featuresMeans"
   ]
  },
  {
   "source": [
    "Calculating difference between `featuresMeans` and `X_test` for each specie"
   ],
   "cell_type": "markdown",
   "metadata": {}
  },
  {
   "cell_type": "code",
   "execution_count": 10,
   "metadata": {},
   "outputs": [
    {
     "output_type": "execute_result",
     "data": {
      "text/plain": [
       "[array([[0.08604651, 0.43488372, 0.06744186, 0.04651163, 0.01899225,\n",
       "         0.06184642, 0.00830553],\n",
       "        [0.81395349, 0.56511628, 0.26744186, 0.04651163, 1.01899225,\n",
       "         1.39517975, 0.0146391 ],\n",
       "        [0.41395349, 0.03488372, 0.23255814, 0.04651163, 1.48100775,\n",
       "         0.261683  , 0.01208482],\n",
       "        [0.11395349, 0.26511628, 0.03255814, 0.15348837, 3.26899225,\n",
       "         0.03815358, 0.02930952],\n",
       "        [0.08604651, 0.33488372, 0.03255814, 0.14651163, 7.98100775,\n",
       "         0.17148692, 0.02871369],\n",
       "        [0.48604651, 1.13488372, 0.16744186, 0.05348837, 2.68565891,\n",
       "         0.02338488, 0.01754481],\n",
       "        [0.31395349, 0.26511628, 0.03255814, 0.04651163, 0.48100775,\n",
       "         0.09517975, 0.01138601],\n",
       "        [1.91395349, 0.33488372, 3.43255814, 1.25348837, 3.75232558,\n",
       "         2.02999032, 0.16826945],\n",
       "        [0.08604651, 1.03488372, 1.83255814, 0.75348837, 3.71899225,\n",
       "         1.9533051 , 0.15495978],\n",
       "        [1.61395349, 0.53488372, 3.13255814, 1.05348837, 3.48053071,\n",
       "         2.00337097, 0.14784784],\n",
       "        [1.11395349, 0.63488372, 2.53255814, 1.05348837, 3.94206917,\n",
       "         1.91315358, 0.1639929 ],\n",
       "        [1.41395349, 0.53488372, 2.83255814, 1.05348837, 3.71129994,\n",
       "         1.94978149, 0.15400314],\n",
       "        [1.31395349, 1.13488372, 2.93255814, 1.05348837, 3.63437686,\n",
       "         2.0063354 , 0.15722735],\n",
       "        [0.61395349, 0.43488372, 2.63255814, 1.05348837, 3.86514609,\n",
       "         2.07229992, 0.183021  ],\n",
       "        [0.51395349, 0.83488372, 2.93255814, 0.95348837, 3.35232558,\n",
       "         2.18815358, 0.16905996],\n",
       "        [1.11395349, 0.43488372, 3.13255814, 1.15348837, 3.73327796,\n",
       "         2.11206663, 0.18038634],\n",
       "        [0.81395349, 0.83488372, 2.53255814, 0.95348837, 3.68565891,\n",
       "         1.98815358, 0.1577747 ],\n",
       "        [0.71395349, 0.63488372, 2.63255814, 1.05348837, 3.86514609,\n",
       "         2.04790968, 0.17894832],\n",
       "        [2.11395349, 0.43488372, 4.43255814, 1.85348837, 4.20946844,\n",
       "         2.23476375, 0.24665279],\n",
       "        [1.31395349, 0.53488372, 4.13255814, 1.55348837, 3.90788114,\n",
       "         2.31315358, 0.23659243],\n",
       "        [0.08604651, 0.93488372, 3.03255814, 1.45348837, 4.37193342,\n",
       "         2.34926469, 0.29781692],\n",
       "        [2.31395349, 0.53488372, 4.83255814, 1.55348837, 3.51899225,\n",
       "         2.27942342, 0.19745349],\n",
       "        [1.51395349, 0.43488372, 4.03255814, 1.55348837, 3.96343669,\n",
       "         2.2563354 , 0.22780122],\n",
       "        [0.61395349, 0.63488372, 3.43255814, 1.75348837, 4.56899225,\n",
       "         2.29529644, 0.308021  ],\n",
       "        [1.71395349, 0.13488372, 4.23255814, 1.85348837, 4.30470653,\n",
       "         2.26271499, 0.26431098],\n",
       "        [2.21395349, 0.43488372, 4.33255814, 1.35348837, 3.39399225,\n",
       "         2.19677427, 0.17310037],\n",
       "        [2.41395349, 0.63488372, 4.63255814, 1.65348837, 3.80846593,\n",
       "         2.22503883, 0.2076349 ],\n",
       "        [1.71395349, 0.33488372, 4.13255814, 2.15348837, 4.68565891,\n",
       "         2.24172501, 0.3090871 ],\n",
       "        [1.71395349, 0.13488372, 4.23255814, 2.25348837, 4.73899225,\n",
       "         2.26271499, 0.32401247],\n",
       "        [0.91395349, 0.43488372, 3.63255814, 1.55348837, 4.18565891,\n",
       "         2.28129084, 0.25596289]]),\n",
       " array([[1.02051282e+00, 2.28205128e-01, 2.86410256e+00, 1.13846154e+00,\n",
       "         3.77758766e+00, 2.10283023e+00, 1.85239320e-01],\n",
       "        [1.20512821e-01, 1.22820513e+00, 3.06410256e+00, 1.13846154e+00,\n",
       "         2.77758766e+00, 3.43616356e+00, 1.91572888e-01],\n",
       "        [5.20512821e-01, 6.28205128e-01, 2.56410256e+00, 1.13846154e+00,\n",
       "         5.27758766e+00, 1.77930081e+00, 1.89018609e-01],\n",
       "        [8.20512821e-01, 9.28205128e-01, 2.76410256e+00, 9.38461538e-01,\n",
       "         5.27587665e-01, 2.00283023e+00, 1.47624274e-01],\n",
       "        [1.02051282e+00, 3.28205128e-01, 2.76410256e+00, 1.23846154e+00,\n",
       "         1.17775877e+01, 1.86949689e+00, 2.05647483e-01],\n",
       "        [1.42051282e+00, 4.71794872e-01, 2.96410256e+00, 1.03846154e+00,\n",
       "         1.11092100e+00, 2.06436869e+00, 1.59388980e-01],\n",
       "        [6.20512821e-01, 9.28205128e-01, 2.76410256e+00, 1.13846154e+00,\n",
       "         4.27758766e+00, 2.13616356e+00, 1.88319797e-01],\n",
       "        [9.79487179e-01, 3.28205128e-01, 6.35897436e-01, 1.61538462e-01,\n",
       "         4.42543316e-02, 1.09934904e-02, 8.66434206e-03],\n",
       "        [1.02051282e+00, 3.71794872e-01, 9.64102564e-01, 3.38461538e-01,\n",
       "         7.75876650e-02, 8.76787099e-02, 2.19740138e-02],\n",
       "        [6.79487179e-01, 1.28205128e-01, 3.35897436e-01, 3.84615385e-02,\n",
       "         3.16049203e-01, 3.76128338e-02, 2.90859494e-02],\n",
       "        [1.79487179e-01, 2.82051282e-02, 2.64102564e-01, 3.84615385e-02,\n",
       "         1.45489258e-01, 1.27830225e-01, 1.29408923e-02],\n",
       "        [4.79487179e-01, 1.28205128e-01, 3.58974359e-02, 3.84615385e-02,\n",
       "         8.52799727e-02, 9.12023181e-02, 2.29306464e-02],\n",
       "        [3.79487179e-01, 4.71794872e-01, 1.35897436e-01, 3.84615385e-02,\n",
       "         1.62203050e-01, 3.46484069e-02, 1.97064401e-02],\n",
       "        [3.20512821e-01, 2.28205128e-01, 1.64102564e-01, 3.84615385e-02,\n",
       "         6.85661812e-02, 3.13161164e-02, 6.08721073e-03],\n",
       "        [4.20512821e-01, 1.71794872e-01, 1.35897436e-01, 1.38461538e-01,\n",
       "         4.44254332e-01, 1.47169775e-01, 7.87382823e-03],\n",
       "        [1.79487179e-01, 2.28205128e-01, 3.35897436e-01, 6.15384615e-02,\n",
       "         6.33019507e-02, 7.10828184e-02, 3.45255031e-03],\n",
       "        [1.20512821e-01, 1.71794872e-01, 2.64102564e-01, 1.38461538e-01,\n",
       "         1.10920998e-01, 5.28302251e-02, 1.91590947e-02],\n",
       "        [2.20512821e-01, 2.82051282e-02, 1.64102564e-01, 3.84615385e-02,\n",
       "         6.85661812e-02, 6.92587247e-03, 2.01452903e-03],\n",
       "        [1.17948718e+00, 2.28205128e-01, 1.63589744e+00, 7.61538462e-01,\n",
       "         4.12888526e-01, 1.93779944e-01, 6.97190015e-02],\n",
       "        [3.79487179e-01, 1.28205128e-01, 1.33589744e+00, 4.61538462e-01,\n",
       "         1.11301224e-01, 2.72169775e-01, 5.96586393e-02],\n",
       "        [1.02051282e+00, 2.71794872e-01, 2.35897436e-01, 3.61538462e-01,\n",
       "         5.75353511e-01, 3.08280886e-01, 1.20883129e-01],\n",
       "        [1.37948718e+00, 1.28205128e-01, 2.03589744e+00, 4.61538462e-01,\n",
       "         2.77587665e-01, 2.38439616e-01, 2.05196961e-02],\n",
       "        [5.79487179e-01, 2.28205128e-01, 1.23589744e+00, 4.61538462e-01,\n",
       "         1.66856779e-01, 2.15351593e-01, 5.08674305e-02],\n",
       "        [3.20512821e-01, 2.82051282e-02, 6.35897436e-01, 6.61538462e-01,\n",
       "         7.72412335e-01, 2.54312632e-01, 1.31087211e-01],\n",
       "        [7.79487179e-01, 5.28205128e-01, 1.43589744e+00, 7.61538462e-01,\n",
       "         5.08126621e-01, 2.21731178e-01, 8.73771894e-02],\n",
       "        [1.27948718e+00, 2.28205128e-01, 1.53589744e+00, 2.61538462e-01,\n",
       "         4.02587665e-01, 1.55790465e-01, 3.83342419e-03],\n",
       "        [1.47948718e+00, 2.82051282e-02, 1.83589744e+00, 5.61538462e-01,\n",
       "         1.18860192e-02, 1.84055021e-01, 3.07011103e-02],\n",
       "        [7.79487179e-01, 3.28205128e-01, 1.33589744e+00, 1.06153846e+00,\n",
       "         8.89079002e-01, 2.00741203e-01, 1.32153309e-01],\n",
       "        [7.79487179e-01, 5.28205128e-01, 1.43589744e+00, 1.16153846e+00,\n",
       "         9.42412335e-01, 2.21731178e-01, 1.47078682e-01],\n",
       "        [2.05128205e-02, 2.28205128e-01, 8.35897436e-01, 4.61538462e-01,\n",
       "         3.89079002e-01, 2.40307030e-01, 7.90290994e-02]]),\n",
       " array([[1.70789474e+00, 2.36842105e-02, 4.15000000e+00, 1.84736842e+00,\n",
       "         4.25096345e+00, 2.30636411e+00, 2.70280839e-01],\n",
       "        [8.07894737e-01, 1.02368421e+00, 4.35000000e+00, 1.84736842e+00,\n",
       "         3.25096345e+00, 3.63969744e+00, 2.76614407e-01],\n",
       "        [1.20789474e+00, 4.23684211e-01, 3.85000000e+00, 1.84736842e+00,\n",
       "         5.75096345e+00, 1.98283470e+00, 2.74060128e-01],\n",
       "        [1.50789474e+00, 7.23684211e-01, 4.05000000e+00, 1.64736842e+00,\n",
       "         1.00096345e+00, 2.20636411e+00, 2.32665793e-01],\n",
       "        [1.70789474e+00, 1.23684211e-01, 4.05000000e+00, 1.94736842e+00,\n",
       "         1.22509634e+01, 2.07303078e+00, 2.90689002e-01],\n",
       "        [2.10789474e+00, 6.76315789e-01, 4.25000000e+00, 1.74736842e+00,\n",
       "         1.58429678e+00, 2.26790257e+00, 2.44430499e-01],\n",
       "        [1.30789474e+00, 7.23684211e-01, 4.05000000e+00, 1.84736842e+00,\n",
       "         4.75096345e+00, 2.33969744e+00, 2.73361316e-01],\n",
       "        [2.92105263e-01, 1.23684211e-01, 6.50000000e-01, 5.47368421e-01,\n",
       "         5.17630116e-01, 2.14527374e-01, 9.37058609e-02],\n",
       "        [1.70789474e+00, 5.76315789e-01, 2.25000000e+00, 1.04736842e+00,\n",
       "         5.50963449e-01, 2.91212594e-01, 1.07015533e-01],\n",
       "        [7.89473684e-03, 7.63157895e-02, 9.50000000e-01, 7.47368421e-01,\n",
       "         7.89424988e-01, 2.41146717e-01, 1.14127468e-01],\n",
       "        [5.07894737e-01, 1.76315789e-01, 1.55000000e+00, 7.47368421e-01,\n",
       "         3.27886526e-01, 3.31364109e-01, 9.79824112e-02],\n",
       "        [2.07894737e-01, 7.63157895e-02, 1.25000000e+00, 7.47368421e-01,\n",
       "         5.58655757e-01, 2.94736202e-01, 1.07972165e-01],\n",
       "        [3.07894737e-01, 6.76315789e-01, 1.15000000e+00, 7.47368421e-01,\n",
       "         6.35578834e-01, 2.38182290e-01, 1.04747959e-01],\n",
       "        [1.00789474e+00, 2.36842105e-02, 1.45000000e+00, 7.47368421e-01,\n",
       "         4.04809603e-01, 1.72217767e-01, 7.89543081e-02],\n",
       "        [1.10789474e+00, 3.76315789e-01, 1.15000000e+00, 8.47368421e-01,\n",
       "         9.17630116e-01, 5.63641087e-02, 9.29153471e-02],\n",
       "        [5.07894737e-01, 2.36842105e-02, 9.50000000e-01, 6.47368421e-01,\n",
       "         5.36677735e-01, 1.32451065e-01, 8.15889685e-02],\n",
       "        [8.07894737e-01, 3.76315789e-01, 1.55000000e+00, 8.47368421e-01,\n",
       "         5.84296783e-01, 2.56364109e-01, 1.04200614e-01],\n",
       "        [9.07894737e-01, 1.76315789e-01, 1.45000000e+00, 7.47368421e-01,\n",
       "         4.04809603e-01, 1.96608011e-01, 8.30269898e-02],\n",
       "        [4.92105263e-01, 2.36842105e-02, 3.50000000e-01, 5.26315789e-02,\n",
       "         6.04872589e-02, 9.75393916e-03, 1.53225174e-02],\n",
       "        [3.07894737e-01, 7.63157895e-02, 5.00000000e-02, 2.47368421e-01,\n",
       "         3.62074560e-01, 6.86358913e-02, 2.53828796e-02],\n",
       "        [1.70789474e+00, 4.76315789e-01, 1.05000000e+00, 3.47368421e-01,\n",
       "         1.01977727e-01, 1.04747002e-01, 3.58416102e-02],\n",
       "        [6.92105263e-01, 7.63157895e-02, 7.50000000e-01, 2.47368421e-01,\n",
       "         7.50963449e-01, 3.49057326e-02, 6.45218228e-02],\n",
       "        [1.07894737e-01, 2.36842105e-02, 5.00000000e-02, 2.47368421e-01,\n",
       "         3.06519005e-01, 1.18177095e-02, 3.41740883e-02],\n",
       "        [1.00789474e+00, 1.76315789e-01, 6.50000000e-01, 4.73684211e-02,\n",
       "         2.99036551e-01, 5.07787485e-02, 4.60456919e-02],\n",
       "        [9.21052632e-02, 3.23684211e-01, 1.50000000e-01, 5.26315789e-02,\n",
       "         3.47508363e-02, 1.81972949e-02, 2.33567056e-03],\n",
       "        [5.92105263e-01, 2.36842105e-02, 2.50000000e-01, 4.47368421e-01,\n",
       "         8.75963449e-01, 4.77434190e-02, 8.88749430e-02],\n",
       "        [7.92105263e-01, 1.76315789e-01, 5.50000000e-01, 1.47368421e-01,\n",
       "         4.61489765e-01, 1.94788628e-02, 5.43404085e-02],\n",
       "        [9.21052632e-02, 1.23684211e-01, 5.00000000e-02, 3.52631579e-01,\n",
       "         4.15703217e-01, 2.79268008e-03, 4.71117900e-02],\n",
       "        [9.21052632e-02, 3.23684211e-01, 1.50000000e-01, 4.52631579e-01,\n",
       "         4.69036551e-01, 1.81972949e-02, 6.20371631e-02],\n",
       "        [7.07894737e-01, 2.36842105e-02, 4.50000000e-01, 2.47368421e-01,\n",
       "         8.42967827e-02, 3.67731462e-02, 6.01241950e-03]])]"
      ]
     },
     "metadata": {},
     "execution_count": 10
    }
   ],
   "source": [
    "np_X_test = np.array(X_test)\n",
    "speciesDiff = []\n",
    "for specie in range(3):\n",
    "    diff = abs( np_X_test - featuresMeans[specie] )\n",
    "    speciesDiff.append(diff)\n",
    "speciesDiff"
   ]
  },
  {
   "cell_type": "code",
   "execution_count": 11,
   "metadata": {},
   "outputs": [
    {
     "output_type": "execute_result",
     "data": {
      "text/plain": [
       "                  0                1                2                3  \\\n",
       "0       Iris-setosa   Iris-virginica      Iris-setosa      Iris-setosa   \n",
       "1   Iris-versicolor      Iris-setosa      Iris-setosa      Iris-setosa   \n",
       "2       Iris-setosa      Iris-setosa      Iris-setosa      Iris-setosa   \n",
       "3       Iris-setosa      Iris-setosa      Iris-setosa      Iris-setosa   \n",
       "4       Iris-setosa   Iris-virginica      Iris-setosa      Iris-setosa   \n",
       "5       Iris-setosa  Iris-versicolor      Iris-setosa      Iris-setosa   \n",
       "6       Iris-setosa      Iris-setosa      Iris-setosa      Iris-setosa   \n",
       "7    Iris-virginica   Iris-virginica  Iris-versicolor  Iris-versicolor   \n",
       "8       Iris-setosa  Iris-versicolor  Iris-versicolor  Iris-versicolor   \n",
       "9    Iris-virginica   Iris-virginica  Iris-versicolor  Iris-versicolor   \n",
       "10  Iris-versicolor  Iris-versicolor  Iris-versicolor  Iris-versicolor   \n",
       "11   Iris-virginica   Iris-virginica  Iris-versicolor  Iris-versicolor   \n",
       "12   Iris-virginica  Iris-versicolor  Iris-versicolor  Iris-versicolor   \n",
       "13  Iris-versicolor   Iris-virginica  Iris-versicolor  Iris-versicolor   \n",
       "14  Iris-versicolor  Iris-versicolor  Iris-versicolor  Iris-versicolor   \n",
       "15  Iris-versicolor   Iris-virginica  Iris-versicolor  Iris-versicolor   \n",
       "16  Iris-versicolor  Iris-versicolor  Iris-versicolor  Iris-versicolor   \n",
       "17  Iris-versicolor  Iris-versicolor  Iris-versicolor  Iris-versicolor   \n",
       "18   Iris-virginica   Iris-virginica   Iris-virginica   Iris-virginica   \n",
       "19   Iris-virginica   Iris-virginica   Iris-virginica   Iris-virginica   \n",
       "20      Iris-setosa  Iris-versicolor  Iris-versicolor   Iris-virginica   \n",
       "21   Iris-virginica   Iris-virginica   Iris-virginica   Iris-virginica   \n",
       "22   Iris-virginica   Iris-virginica   Iris-virginica   Iris-virginica   \n",
       "23  Iris-versicolor  Iris-versicolor  Iris-versicolor   Iris-virginica   \n",
       "24   Iris-virginica      Iris-setosa   Iris-virginica   Iris-virginica   \n",
       "25   Iris-virginica   Iris-virginica   Iris-virginica  Iris-versicolor   \n",
       "26   Iris-virginica  Iris-versicolor   Iris-virginica   Iris-virginica   \n",
       "27   Iris-virginica   Iris-virginica   Iris-virginica   Iris-virginica   \n",
       "28   Iris-virginica      Iris-setosa   Iris-virginica   Iris-virginica   \n",
       "29  Iris-versicolor   Iris-virginica   Iris-virginica   Iris-virginica   \n",
       "\n",
       "                  4                5                6  \n",
       "0       Iris-setosa      Iris-setosa      Iris-setosa  \n",
       "1       Iris-setosa      Iris-setosa      Iris-setosa  \n",
       "2       Iris-setosa      Iris-setosa      Iris-setosa  \n",
       "3   Iris-versicolor      Iris-setosa      Iris-setosa  \n",
       "4       Iris-setosa      Iris-setosa      Iris-setosa  \n",
       "5   Iris-versicolor      Iris-setosa      Iris-setosa  \n",
       "6       Iris-setosa      Iris-setosa      Iris-setosa  \n",
       "7   Iris-versicolor  Iris-versicolor  Iris-versicolor  \n",
       "8   Iris-versicolor  Iris-versicolor  Iris-versicolor  \n",
       "9   Iris-versicolor  Iris-versicolor  Iris-versicolor  \n",
       "10  Iris-versicolor  Iris-versicolor  Iris-versicolor  \n",
       "11  Iris-versicolor  Iris-versicolor  Iris-versicolor  \n",
       "12  Iris-versicolor  Iris-versicolor  Iris-versicolor  \n",
       "13  Iris-versicolor  Iris-versicolor  Iris-versicolor  \n",
       "14  Iris-versicolor   Iris-virginica  Iris-versicolor  \n",
       "15  Iris-versicolor  Iris-versicolor  Iris-versicolor  \n",
       "16  Iris-versicolor  Iris-versicolor  Iris-versicolor  \n",
       "17  Iris-versicolor  Iris-versicolor  Iris-versicolor  \n",
       "18   Iris-virginica   Iris-virginica   Iris-virginica  \n",
       "19  Iris-versicolor   Iris-virginica   Iris-virginica  \n",
       "20   Iris-virginica   Iris-virginica   Iris-virginica  \n",
       "21  Iris-versicolor   Iris-virginica  Iris-versicolor  \n",
       "22  Iris-versicolor   Iris-virginica   Iris-virginica  \n",
       "23   Iris-virginica   Iris-virginica   Iris-virginica  \n",
       "24   Iris-virginica   Iris-virginica   Iris-virginica  \n",
       "25  Iris-versicolor   Iris-virginica  Iris-versicolor  \n",
       "26  Iris-versicolor   Iris-virginica  Iris-versicolor  \n",
       "27   Iris-virginica   Iris-virginica   Iris-virginica  \n",
       "28   Iris-virginica   Iris-virginica   Iris-virginica  \n",
       "29   Iris-virginica   Iris-virginica   Iris-virginica  "
      ],
      "text/html": "<div>\n<style scoped>\n    .dataframe tbody tr th:only-of-type {\n        vertical-align: middle;\n    }\n\n    .dataframe tbody tr th {\n        vertical-align: top;\n    }\n\n    .dataframe thead th {\n        text-align: right;\n    }\n</style>\n<table border=\"1\" class=\"dataframe\">\n  <thead>\n    <tr style=\"text-align: right;\">\n      <th></th>\n      <th>0</th>\n      <th>1</th>\n      <th>2</th>\n      <th>3</th>\n      <th>4</th>\n      <th>5</th>\n      <th>6</th>\n    </tr>\n  </thead>\n  <tbody>\n    <tr>\n      <th>0</th>\n      <td>Iris-setosa</td>\n      <td>Iris-virginica</td>\n      <td>Iris-setosa</td>\n      <td>Iris-setosa</td>\n      <td>Iris-setosa</td>\n      <td>Iris-setosa</td>\n      <td>Iris-setosa</td>\n    </tr>\n    <tr>\n      <th>1</th>\n      <td>Iris-versicolor</td>\n      <td>Iris-setosa</td>\n      <td>Iris-setosa</td>\n      <td>Iris-setosa</td>\n      <td>Iris-setosa</td>\n      <td>Iris-setosa</td>\n      <td>Iris-setosa</td>\n    </tr>\n    <tr>\n      <th>2</th>\n      <td>Iris-setosa</td>\n      <td>Iris-setosa</td>\n      <td>Iris-setosa</td>\n      <td>Iris-setosa</td>\n      <td>Iris-setosa</td>\n      <td>Iris-setosa</td>\n      <td>Iris-setosa</td>\n    </tr>\n    <tr>\n      <th>3</th>\n      <td>Iris-setosa</td>\n      <td>Iris-setosa</td>\n      <td>Iris-setosa</td>\n      <td>Iris-setosa</td>\n      <td>Iris-versicolor</td>\n      <td>Iris-setosa</td>\n      <td>Iris-setosa</td>\n    </tr>\n    <tr>\n      <th>4</th>\n      <td>Iris-setosa</td>\n      <td>Iris-virginica</td>\n      <td>Iris-setosa</td>\n      <td>Iris-setosa</td>\n      <td>Iris-setosa</td>\n      <td>Iris-setosa</td>\n      <td>Iris-setosa</td>\n    </tr>\n    <tr>\n      <th>5</th>\n      <td>Iris-setosa</td>\n      <td>Iris-versicolor</td>\n      <td>Iris-setosa</td>\n      <td>Iris-setosa</td>\n      <td>Iris-versicolor</td>\n      <td>Iris-setosa</td>\n      <td>Iris-setosa</td>\n    </tr>\n    <tr>\n      <th>6</th>\n      <td>Iris-setosa</td>\n      <td>Iris-setosa</td>\n      <td>Iris-setosa</td>\n      <td>Iris-setosa</td>\n      <td>Iris-setosa</td>\n      <td>Iris-setosa</td>\n      <td>Iris-setosa</td>\n    </tr>\n    <tr>\n      <th>7</th>\n      <td>Iris-virginica</td>\n      <td>Iris-virginica</td>\n      <td>Iris-versicolor</td>\n      <td>Iris-versicolor</td>\n      <td>Iris-versicolor</td>\n      <td>Iris-versicolor</td>\n      <td>Iris-versicolor</td>\n    </tr>\n    <tr>\n      <th>8</th>\n      <td>Iris-setosa</td>\n      <td>Iris-versicolor</td>\n      <td>Iris-versicolor</td>\n      <td>Iris-versicolor</td>\n      <td>Iris-versicolor</td>\n      <td>Iris-versicolor</td>\n      <td>Iris-versicolor</td>\n    </tr>\n    <tr>\n      <th>9</th>\n      <td>Iris-virginica</td>\n      <td>Iris-virginica</td>\n      <td>Iris-versicolor</td>\n      <td>Iris-versicolor</td>\n      <td>Iris-versicolor</td>\n      <td>Iris-versicolor</td>\n      <td>Iris-versicolor</td>\n    </tr>\n    <tr>\n      <th>10</th>\n      <td>Iris-versicolor</td>\n      <td>Iris-versicolor</td>\n      <td>Iris-versicolor</td>\n      <td>Iris-versicolor</td>\n      <td>Iris-versicolor</td>\n      <td>Iris-versicolor</td>\n      <td>Iris-versicolor</td>\n    </tr>\n    <tr>\n      <th>11</th>\n      <td>Iris-virginica</td>\n      <td>Iris-virginica</td>\n      <td>Iris-versicolor</td>\n      <td>Iris-versicolor</td>\n      <td>Iris-versicolor</td>\n      <td>Iris-versicolor</td>\n      <td>Iris-versicolor</td>\n    </tr>\n    <tr>\n      <th>12</th>\n      <td>Iris-virginica</td>\n      <td>Iris-versicolor</td>\n      <td>Iris-versicolor</td>\n      <td>Iris-versicolor</td>\n      <td>Iris-versicolor</td>\n      <td>Iris-versicolor</td>\n      <td>Iris-versicolor</td>\n    </tr>\n    <tr>\n      <th>13</th>\n      <td>Iris-versicolor</td>\n      <td>Iris-virginica</td>\n      <td>Iris-versicolor</td>\n      <td>Iris-versicolor</td>\n      <td>Iris-versicolor</td>\n      <td>Iris-versicolor</td>\n      <td>Iris-versicolor</td>\n    </tr>\n    <tr>\n      <th>14</th>\n      <td>Iris-versicolor</td>\n      <td>Iris-versicolor</td>\n      <td>Iris-versicolor</td>\n      <td>Iris-versicolor</td>\n      <td>Iris-versicolor</td>\n      <td>Iris-virginica</td>\n      <td>Iris-versicolor</td>\n    </tr>\n    <tr>\n      <th>15</th>\n      <td>Iris-versicolor</td>\n      <td>Iris-virginica</td>\n      <td>Iris-versicolor</td>\n      <td>Iris-versicolor</td>\n      <td>Iris-versicolor</td>\n      <td>Iris-versicolor</td>\n      <td>Iris-versicolor</td>\n    </tr>\n    <tr>\n      <th>16</th>\n      <td>Iris-versicolor</td>\n      <td>Iris-versicolor</td>\n      <td>Iris-versicolor</td>\n      <td>Iris-versicolor</td>\n      <td>Iris-versicolor</td>\n      <td>Iris-versicolor</td>\n      <td>Iris-versicolor</td>\n    </tr>\n    <tr>\n      <th>17</th>\n      <td>Iris-versicolor</td>\n      <td>Iris-versicolor</td>\n      <td>Iris-versicolor</td>\n      <td>Iris-versicolor</td>\n      <td>Iris-versicolor</td>\n      <td>Iris-versicolor</td>\n      <td>Iris-versicolor</td>\n    </tr>\n    <tr>\n      <th>18</th>\n      <td>Iris-virginica</td>\n      <td>Iris-virginica</td>\n      <td>Iris-virginica</td>\n      <td>Iris-virginica</td>\n      <td>Iris-virginica</td>\n      <td>Iris-virginica</td>\n      <td>Iris-virginica</td>\n    </tr>\n    <tr>\n      <th>19</th>\n      <td>Iris-virginica</td>\n      <td>Iris-virginica</td>\n      <td>Iris-virginica</td>\n      <td>Iris-virginica</td>\n      <td>Iris-versicolor</td>\n      <td>Iris-virginica</td>\n      <td>Iris-virginica</td>\n    </tr>\n    <tr>\n      <th>20</th>\n      <td>Iris-setosa</td>\n      <td>Iris-versicolor</td>\n      <td>Iris-versicolor</td>\n      <td>Iris-virginica</td>\n      <td>Iris-virginica</td>\n      <td>Iris-virginica</td>\n      <td>Iris-virginica</td>\n    </tr>\n    <tr>\n      <th>21</th>\n      <td>Iris-virginica</td>\n      <td>Iris-virginica</td>\n      <td>Iris-virginica</td>\n      <td>Iris-virginica</td>\n      <td>Iris-versicolor</td>\n      <td>Iris-virginica</td>\n      <td>Iris-versicolor</td>\n    </tr>\n    <tr>\n      <th>22</th>\n      <td>Iris-virginica</td>\n      <td>Iris-virginica</td>\n      <td>Iris-virginica</td>\n      <td>Iris-virginica</td>\n      <td>Iris-versicolor</td>\n      <td>Iris-virginica</td>\n      <td>Iris-virginica</td>\n    </tr>\n    <tr>\n      <th>23</th>\n      <td>Iris-versicolor</td>\n      <td>Iris-versicolor</td>\n      <td>Iris-versicolor</td>\n      <td>Iris-virginica</td>\n      <td>Iris-virginica</td>\n      <td>Iris-virginica</td>\n      <td>Iris-virginica</td>\n    </tr>\n    <tr>\n      <th>24</th>\n      <td>Iris-virginica</td>\n      <td>Iris-setosa</td>\n      <td>Iris-virginica</td>\n      <td>Iris-virginica</td>\n      <td>Iris-virginica</td>\n      <td>Iris-virginica</td>\n      <td>Iris-virginica</td>\n    </tr>\n    <tr>\n      <th>25</th>\n      <td>Iris-virginica</td>\n      <td>Iris-virginica</td>\n      <td>Iris-virginica</td>\n      <td>Iris-versicolor</td>\n      <td>Iris-versicolor</td>\n      <td>Iris-virginica</td>\n      <td>Iris-versicolor</td>\n    </tr>\n    <tr>\n      <th>26</th>\n      <td>Iris-virginica</td>\n      <td>Iris-versicolor</td>\n      <td>Iris-virginica</td>\n      <td>Iris-virginica</td>\n      <td>Iris-versicolor</td>\n      <td>Iris-virginica</td>\n      <td>Iris-versicolor</td>\n    </tr>\n    <tr>\n      <th>27</th>\n      <td>Iris-virginica</td>\n      <td>Iris-virginica</td>\n      <td>Iris-virginica</td>\n      <td>Iris-virginica</td>\n      <td>Iris-virginica</td>\n      <td>Iris-virginica</td>\n      <td>Iris-virginica</td>\n    </tr>\n    <tr>\n      <th>28</th>\n      <td>Iris-virginica</td>\n      <td>Iris-setosa</td>\n      <td>Iris-virginica</td>\n      <td>Iris-virginica</td>\n      <td>Iris-virginica</td>\n      <td>Iris-virginica</td>\n      <td>Iris-virginica</td>\n    </tr>\n    <tr>\n      <th>29</th>\n      <td>Iris-versicolor</td>\n      <td>Iris-virginica</td>\n      <td>Iris-virginica</td>\n      <td>Iris-virginica</td>\n      <td>Iris-virginica</td>\n      <td>Iris-virginica</td>\n      <td>Iris-virginica</td>\n    </tr>\n  </tbody>\n</table>\n</div>"
     },
     "metadata": {},
     "execution_count": 11
    }
   ],
   "source": [
    "DataPred = []\n",
    "row = 0; col = 0; specie = 0\n",
    "for row in range(speciesDiff[0].shape[0]):\n",
    "    rowPred = []\n",
    "    for col in range(speciesDiff[0].shape[1]):\n",
    "        minValue = speciesDiff[0][row][col]\n",
    "        minIndex = 0\n",
    "        for specie in range(3):\n",
    "            value = speciesDiff[specie][row][col] \n",
    "            if(value < minValue):\n",
    "                minValue = value\n",
    "                minIndex = specie\n",
    "        rowPred.append(species[minIndex])\n",
    "    DataPred.append(rowPred)\n",
    "df_DataPred = pd.DataFrame(DataPred)\n",
    "df_DataPred"
   ]
  },
  {
   "source": [
    "## Extracting prediction"
   ],
   "cell_type": "markdown",
   "metadata": {}
  },
  {
   "cell_type": "code",
   "execution_count": 13,
   "metadata": {},
   "outputs": [
    {
     "output_type": "execute_result",
     "data": {
      "text/plain": [
       "['Iris-setosa',\n",
       " 'Iris-setosa',\n",
       " 'Iris-setosa',\n",
       " 'Iris-setosa',\n",
       " 'Iris-setosa',\n",
       " 'Iris-setosa',\n",
       " 'Iris-setosa',\n",
       " 'Iris-versicolor',\n",
       " 'Iris-versicolor',\n",
       " 'Iris-versicolor',\n",
       " 'Iris-versicolor',\n",
       " 'Iris-versicolor',\n",
       " 'Iris-versicolor',\n",
       " 'Iris-versicolor',\n",
       " 'Iris-versicolor',\n",
       " 'Iris-versicolor',\n",
       " 'Iris-versicolor',\n",
       " 'Iris-versicolor',\n",
       " 'Iris-virginica',\n",
       " 'Iris-virginica',\n",
       " 'Iris-virginica',\n",
       " 'Iris-virginica',\n",
       " 'Iris-virginica',\n",
       " 'Iris-virginica',\n",
       " 'Iris-virginica',\n",
       " 'Iris-virginica',\n",
       " 'Iris-virginica',\n",
       " 'Iris-virginica',\n",
       " 'Iris-virginica',\n",
       " 'Iris-virginica']"
      ]
     },
     "metadata": {},
     "execution_count": 13
    }
   ],
   "source": [
    "np_Data_Pred = np.array(df_DataPred)\n",
    "y_pred = []\n",
    "for i in range( np_Data_Pred.shape[0] ):\n",
    "    mode = stats.mode(np_Data_Pred[i])[0][0]\n",
    "    y_pred.append(mode)\n",
    "y_pred"
   ]
  },
  {
   "cell_type": "code",
   "execution_count": 14,
   "metadata": {},
   "outputs": [
    {
     "output_type": "execute_result",
     "data": {
      "text/plain": [
       "1          Iris-setosa\n",
       "14         Iris-setosa\n",
       "20         Iris-setosa\n",
       "21         Iris-setosa\n",
       "37         Iris-setosa\n",
       "41         Iris-setosa\n",
       "48         Iris-setosa\n",
       "52     Iris-versicolor\n",
       "57     Iris-versicolor\n",
       "58     Iris-versicolor\n",
       "71     Iris-versicolor\n",
       "74     Iris-versicolor\n",
       "87     Iris-versicolor\n",
       "88     Iris-versicolor\n",
       "90     Iris-versicolor\n",
       "91     Iris-versicolor\n",
       "92     Iris-versicolor\n",
       "99     Iris-versicolor\n",
       "102     Iris-virginica\n",
       "103     Iris-virginica\n",
       "106     Iris-virginica\n",
       "107     Iris-virginica\n",
       "116     Iris-virginica\n",
       "121     Iris-virginica\n",
       "124     Iris-virginica\n",
       "129     Iris-virginica\n",
       "130     Iris-virginica\n",
       "140     Iris-virginica\n",
       "144     Iris-virginica\n",
       "149     Iris-virginica\n",
       "Name: Species, dtype: object"
      ]
     },
     "metadata": {},
     "execution_count": 14
    }
   ],
   "source": [
    "y_test"
   ]
  },
  {
   "source": [
    "## Showing percentage of correct predictions"
   ],
   "cell_type": "markdown",
   "metadata": {}
  },
  {
   "cell_type": "code",
   "execution_count": 15,
   "metadata": {},
   "outputs": [
    {
     "output_type": "stream",
     "name": "stdout",
     "text": [
      "accuracy of: 100.0%\n"
     ]
    }
   ],
   "source": [
    "hits = np.array(y_test) == np.array(y_pred)\n",
    "elems = y_test.shape[0]\n",
    "print(f'accuracy of: {round(np.sum(hits) / elems * 100, 2)}%')"
   ]
  },
  {
   "cell_type": "code",
   "execution_count": 16,
   "metadata": {},
   "outputs": [
    {
     "output_type": "execute_result",
     "data": {
      "text/plain": [
       "array([ True,  True,  True,  True,  True,  True,  True,  True,  True,\n",
       "        True,  True,  True,  True,  True,  True,  True,  True,  True,\n",
       "        True,  True,  True,  True,  True,  True,  True,  True,  True,\n",
       "        True,  True,  True])"
      ]
     },
     "metadata": {},
     "execution_count": 16
    }
   ],
   "source": [
    "hits"
   ]
  },
  {
   "cell_type": "code",
   "execution_count": null,
   "metadata": {},
   "outputs": [],
   "source": []
  }
 ]
}