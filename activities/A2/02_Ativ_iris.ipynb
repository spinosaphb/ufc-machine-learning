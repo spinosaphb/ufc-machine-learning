{
 "metadata": {
  "language_info": {
   "codemirror_mode": {
    "name": "ipython",
    "version": 3
   },
   "file_extension": ".py",
   "mimetype": "text/x-python",
   "name": "python",
   "nbconvert_exporter": "python",
   "pygments_lexer": "ipython3",
   "version": "3.9.5"
  },
  "orig_nbformat": 2,
  "kernelspec": {
   "name": "python3",
   "display_name": "Python 3",
   "language": "python"
  }
 },
 "nbformat": 4,
 "nbformat_minor": 2,
 "cells": [
  {
   "source": [
    "<a href=\"https://colab.research.google.com/github/spinosaphb/ufc-machine-learning/blob/main/activities/A1/A1B_DS0_0.ipynb\" target=\"_parent\"><img src=\"https://colab.research.google.com/assets/colab-badge.svg\" alt=\"Open In Colab\"/></a>"
   ],
   "cell_type": "markdown",
   "metadata": {}
  },
  {
   "source": [
    "# Study with the iris dataset "
   ],
   "cell_type": "markdown",
   "metadata": {}
  },
  {
   "cell_type": "code",
   "execution_count": 101,
   "metadata": {},
   "outputs": [],
   "source": [
    "import pandas as pd\n",
    "import numpy as np\n",
    "from scipy import stats"
   ]
  },
  {
   "cell_type": "code",
   "execution_count": 4,
   "metadata": {},
   "outputs": [
    {
     "output_type": "execute_result",
     "data": {
      "text/plain": [
       "   Id  SepalLengthCm  SepalWidthCm  PetalLengthCm  PetalWidthCm      Species\n",
       "0   1            5.1           3.5            1.4           0.2  Iris-setosa\n",
       "1   2            4.9           3.0            1.4           0.2  Iris-setosa\n",
       "2   3            4.7           3.2            1.3           0.2  Iris-setosa\n",
       "3   4            4.6           3.1            1.5           0.2  Iris-setosa\n",
       "4   5            5.0           3.6            1.4           0.2  Iris-setosa"
      ],
      "text/html": "<div>\n<style scoped>\n    .dataframe tbody tr th:only-of-type {\n        vertical-align: middle;\n    }\n\n    .dataframe tbody tr th {\n        vertical-align: top;\n    }\n\n    .dataframe thead th {\n        text-align: right;\n    }\n</style>\n<table border=\"1\" class=\"dataframe\">\n  <thead>\n    <tr style=\"text-align: right;\">\n      <th></th>\n      <th>Id</th>\n      <th>SepalLengthCm</th>\n      <th>SepalWidthCm</th>\n      <th>PetalLengthCm</th>\n      <th>PetalWidthCm</th>\n      <th>Species</th>\n    </tr>\n  </thead>\n  <tbody>\n    <tr>\n      <th>0</th>\n      <td>1</td>\n      <td>5.1</td>\n      <td>3.5</td>\n      <td>1.4</td>\n      <td>0.2</td>\n      <td>Iris-setosa</td>\n    </tr>\n    <tr>\n      <th>1</th>\n      <td>2</td>\n      <td>4.9</td>\n      <td>3.0</td>\n      <td>1.4</td>\n      <td>0.2</td>\n      <td>Iris-setosa</td>\n    </tr>\n    <tr>\n      <th>2</th>\n      <td>3</td>\n      <td>4.7</td>\n      <td>3.2</td>\n      <td>1.3</td>\n      <td>0.2</td>\n      <td>Iris-setosa</td>\n    </tr>\n    <tr>\n      <th>3</th>\n      <td>4</td>\n      <td>4.6</td>\n      <td>3.1</td>\n      <td>1.5</td>\n      <td>0.2</td>\n      <td>Iris-setosa</td>\n    </tr>\n    <tr>\n      <th>4</th>\n      <td>5</td>\n      <td>5.0</td>\n      <td>3.6</td>\n      <td>1.4</td>\n      <td>0.2</td>\n      <td>Iris-setosa</td>\n    </tr>\n  </tbody>\n</table>\n</div>"
     },
     "metadata": {},
     "execution_count": 4
    }
   ],
   "source": [
    "path = 'https://raw.githubusercontent.com/spinosaphb/ufc-machine-learning/main/datasets/Iris.csv'\n",
    "df = pd.read_csv(path)\n",
    "df.head()"
   ]
  },
  {
   "source": [
    "## Number of samples"
   ],
   "cell_type": "markdown",
   "metadata": {}
  },
  {
   "cell_type": "code",
   "execution_count": 5,
   "metadata": {},
   "outputs": [
    {
     "output_type": "stream",
     "name": "stdout",
     "text": [
      "Iris-setosa: 50\nIris-versicolor: 50\nIris-virginica: 50\n"
     ]
    }
   ],
   "source": [
    "samples = df['Species']\n",
    "species = samples.unique() \n",
    "for sp in species:\n",
    "    print(f'{sp}: {np.sum(samples == sp)}')"
   ]
  },
  {
   "source": [
    "## Randomly separating into training and testing sets"
   ],
   "cell_type": "markdown",
   "metadata": {}
  },
  {
   "cell_type": "code",
   "execution_count": 6,
   "metadata": {},
   "outputs": [],
   "source": [
    "training_data = df.sample(frac=0.8, random_state=42)\n",
    "testing_data  = df.drop(training_data.index)"
   ]
  },
  {
   "source": [
    "## Geting X_train, y_train, X_test, y_test"
   ],
   "cell_type": "markdown",
   "metadata": {}
  },
  {
   "cell_type": "code",
   "execution_count": 7,
   "metadata": {},
   "outputs": [],
   "source": [
    "# Training\n",
    "X_train = training_data.drop(['Id', 'Species'], axis=1)\n",
    "y_train = training_data['Species']\n",
    "# Testing\n",
    "X_test = testing_data.drop(['Id', 'Species'], axis=1)\n",
    "y_test = testing_data['Species']\n"
   ]
  },
  {
   "source": [
    "## Boolean array of species"
   ],
   "cell_type": "markdown",
   "metadata": {}
  },
  {
   "cell_type": "code",
   "execution_count": 8,
   "metadata": {},
   "outputs": [],
   "source": [
    "bool_species = y_train == species[0], \\\n",
    "               y_train == species[1], \\\n",
    "               y_train == species[2]"
   ]
  },
  {
   "source": [
    "## Calculating the mean of each column of the dataframe by species"
   ],
   "cell_type": "markdown",
   "metadata": {}
  },
  {
   "cell_type": "code",
   "execution_count": 25,
   "metadata": {},
   "outputs": [
    {
     "output_type": "execute_result",
     "data": {
      "text/plain": [
       "array([[4.98604651, 3.43488372, 1.46744186, 0.24651163],\n",
       "       [5.92051282, 2.77179487, 4.26410256, 1.33846154],\n",
       "       [6.60789474, 2.97631579, 5.55      , 2.04736842]])"
      ]
     },
     "metadata": {},
     "execution_count": 25
    }
   ],
   "source": [
    "MeanFeaturesSpecies = []\n",
    "for specie in range(3):\n",
    "    FeaturesMean = []\n",
    "    for column in range(4):\n",
    "        col = X_train.columns[column]\n",
    "        mean = np.mean(X_train[bool_species[specie]][col])\n",
    "        FeaturesMean.append(mean)\n",
    "    MeanFeaturesSpecies.append(FeaturesMean)\n",
    "featuresMeans = np.array( MeanFeaturesSpecies)\n",
    "featuresMeans"
   ]
  },
  {
   "source": [
    "Calculating difference between `featuresMeans` and `X_test` for each specie"
   ],
   "cell_type": "markdown",
   "metadata": {}
  },
  {
   "cell_type": "code",
   "execution_count": 124,
   "metadata": {},
   "outputs": [
    {
     "output_type": "execute_result",
     "data": {
      "text/plain": [
       "[array([[0.08604651, 0.43488372, 0.06744186, 0.04651163],\n",
       "        [0.81395349, 0.56511628, 0.26744186, 0.04651163],\n",
       "        [0.41395349, 0.03488372, 0.23255814, 0.04651163],\n",
       "        [0.11395349, 0.26511628, 0.03255814, 0.15348837],\n",
       "        [0.08604651, 0.33488372, 0.03255814, 0.14651163],\n",
       "        [0.48604651, 1.13488372, 0.16744186, 0.05348837],\n",
       "        [0.31395349, 0.26511628, 0.03255814, 0.04651163],\n",
       "        [1.91395349, 0.33488372, 3.43255814, 1.25348837],\n",
       "        [0.08604651, 1.03488372, 1.83255814, 0.75348837],\n",
       "        [1.61395349, 0.53488372, 3.13255814, 1.05348837],\n",
       "        [1.11395349, 0.63488372, 2.53255814, 1.05348837],\n",
       "        [1.41395349, 0.53488372, 2.83255814, 1.05348837],\n",
       "        [1.31395349, 1.13488372, 2.93255814, 1.05348837],\n",
       "        [0.61395349, 0.43488372, 2.63255814, 1.05348837],\n",
       "        [0.51395349, 0.83488372, 2.93255814, 0.95348837],\n",
       "        [1.11395349, 0.43488372, 3.13255814, 1.15348837],\n",
       "        [0.81395349, 0.83488372, 2.53255814, 0.95348837],\n",
       "        [0.71395349, 0.63488372, 2.63255814, 1.05348837],\n",
       "        [2.11395349, 0.43488372, 4.43255814, 1.85348837],\n",
       "        [1.31395349, 0.53488372, 4.13255814, 1.55348837],\n",
       "        [0.08604651, 0.93488372, 3.03255814, 1.45348837],\n",
       "        [2.31395349, 0.53488372, 4.83255814, 1.55348837],\n",
       "        [1.51395349, 0.43488372, 4.03255814, 1.55348837],\n",
       "        [0.61395349, 0.63488372, 3.43255814, 1.75348837],\n",
       "        [1.71395349, 0.13488372, 4.23255814, 1.85348837],\n",
       "        [2.21395349, 0.43488372, 4.33255814, 1.35348837],\n",
       "        [2.41395349, 0.63488372, 4.63255814, 1.65348837],\n",
       "        [1.71395349, 0.33488372, 4.13255814, 2.15348837],\n",
       "        [1.71395349, 0.13488372, 4.23255814, 2.25348837],\n",
       "        [0.91395349, 0.43488372, 3.63255814, 1.55348837]]),\n",
       " array([[1.02051282, 0.22820513, 2.86410256, 1.13846154],\n",
       "        [0.12051282, 1.22820513, 3.06410256, 1.13846154],\n",
       "        [0.52051282, 0.62820513, 2.56410256, 1.13846154],\n",
       "        [0.82051282, 0.92820513, 2.76410256, 0.93846154],\n",
       "        [1.02051282, 0.32820513, 2.76410256, 1.23846154],\n",
       "        [1.42051282, 0.47179487, 2.96410256, 1.03846154],\n",
       "        [0.62051282, 0.92820513, 2.76410256, 1.13846154],\n",
       "        [0.97948718, 0.32820513, 0.63589744, 0.16153846],\n",
       "        [1.02051282, 0.37179487, 0.96410256, 0.33846154],\n",
       "        [0.67948718, 0.12820513, 0.33589744, 0.03846154],\n",
       "        [0.17948718, 0.02820513, 0.26410256, 0.03846154],\n",
       "        [0.47948718, 0.12820513, 0.03589744, 0.03846154],\n",
       "        [0.37948718, 0.47179487, 0.13589744, 0.03846154],\n",
       "        [0.32051282, 0.22820513, 0.16410256, 0.03846154],\n",
       "        [0.42051282, 0.17179487, 0.13589744, 0.13846154],\n",
       "        [0.17948718, 0.22820513, 0.33589744, 0.06153846],\n",
       "        [0.12051282, 0.17179487, 0.26410256, 0.13846154],\n",
       "        [0.22051282, 0.02820513, 0.16410256, 0.03846154],\n",
       "        [1.17948718, 0.22820513, 1.63589744, 0.76153846],\n",
       "        [0.37948718, 0.12820513, 1.33589744, 0.46153846],\n",
       "        [1.02051282, 0.27179487, 0.23589744, 0.36153846],\n",
       "        [1.37948718, 0.12820513, 2.03589744, 0.46153846],\n",
       "        [0.57948718, 0.22820513, 1.23589744, 0.46153846],\n",
       "        [0.32051282, 0.02820513, 0.63589744, 0.66153846],\n",
       "        [0.77948718, 0.52820513, 1.43589744, 0.76153846],\n",
       "        [1.27948718, 0.22820513, 1.53589744, 0.26153846],\n",
       "        [1.47948718, 0.02820513, 1.83589744, 0.56153846],\n",
       "        [0.77948718, 0.32820513, 1.33589744, 1.06153846],\n",
       "        [0.77948718, 0.52820513, 1.43589744, 1.16153846],\n",
       "        [0.02051282, 0.22820513, 0.83589744, 0.46153846]]),\n",
       " array([[1.70789474, 0.02368421, 4.15      , 1.84736842],\n",
       "        [0.80789474, 1.02368421, 4.35      , 1.84736842],\n",
       "        [1.20789474, 0.42368421, 3.85      , 1.84736842],\n",
       "        [1.50789474, 0.72368421, 4.05      , 1.64736842],\n",
       "        [1.70789474, 0.12368421, 4.05      , 1.94736842],\n",
       "        [2.10789474, 0.67631579, 4.25      , 1.74736842],\n",
       "        [1.30789474, 0.72368421, 4.05      , 1.84736842],\n",
       "        [0.29210526, 0.12368421, 0.65      , 0.54736842],\n",
       "        [1.70789474, 0.57631579, 2.25      , 1.04736842],\n",
       "        [0.00789474, 0.07631579, 0.95      , 0.74736842],\n",
       "        [0.50789474, 0.17631579, 1.55      , 0.74736842],\n",
       "        [0.20789474, 0.07631579, 1.25      , 0.74736842],\n",
       "        [0.30789474, 0.67631579, 1.15      , 0.74736842],\n",
       "        [1.00789474, 0.02368421, 1.45      , 0.74736842],\n",
       "        [1.10789474, 0.37631579, 1.15      , 0.84736842],\n",
       "        [0.50789474, 0.02368421, 0.95      , 0.64736842],\n",
       "        [0.80789474, 0.37631579, 1.55      , 0.84736842],\n",
       "        [0.90789474, 0.17631579, 1.45      , 0.74736842],\n",
       "        [0.49210526, 0.02368421, 0.35      , 0.05263158],\n",
       "        [0.30789474, 0.07631579, 0.05      , 0.24736842],\n",
       "        [1.70789474, 0.47631579, 1.05      , 0.34736842],\n",
       "        [0.69210526, 0.07631579, 0.75      , 0.24736842],\n",
       "        [0.10789474, 0.02368421, 0.05      , 0.24736842],\n",
       "        [1.00789474, 0.17631579, 0.65      , 0.04736842],\n",
       "        [0.09210526, 0.32368421, 0.15      , 0.05263158],\n",
       "        [0.59210526, 0.02368421, 0.25      , 0.44736842],\n",
       "        [0.79210526, 0.17631579, 0.55      , 0.14736842],\n",
       "        [0.09210526, 0.12368421, 0.05      , 0.35263158],\n",
       "        [0.09210526, 0.32368421, 0.15      , 0.45263158],\n",
       "        [0.70789474, 0.02368421, 0.45      , 0.24736842]])]"
      ]
     },
     "metadata": {},
     "execution_count": 124
    }
   ],
   "source": [
    "np_X_test = np.array(X_test)\n",
    "speciesDiff = []\n",
    "for specie in range(3):\n",
    "    diff = abs( np_X_test - featuresMeans[specie] )\n",
    "    speciesDiff.append(diff)\n",
    "speciesDiff"
   ]
  },
  {
   "cell_type": "code",
   "execution_count": 100,
   "metadata": {},
   "outputs": [
    {
     "output_type": "execute_result",
     "data": {
      "text/plain": [
       "[['Iris-setosa', 'Iris-virginica', 'Iris-setosa', 'Iris-setosa'],\n",
       " ['Iris-versicolor', 'Iris-setosa', 'Iris-setosa', 'Iris-setosa'],\n",
       " ['Iris-setosa', 'Iris-setosa', 'Iris-setosa', 'Iris-setosa'],\n",
       " ['Iris-setosa', 'Iris-setosa', 'Iris-setosa', 'Iris-setosa'],\n",
       " ['Iris-setosa', 'Iris-virginica', 'Iris-setosa', 'Iris-setosa'],\n",
       " ['Iris-setosa', 'Iris-versicolor', 'Iris-setosa', 'Iris-setosa'],\n",
       " ['Iris-setosa', 'Iris-setosa', 'Iris-setosa', 'Iris-setosa'],\n",
       " ['Iris-virginica', 'Iris-virginica', 'Iris-versicolor', 'Iris-versicolor'],\n",
       " ['Iris-setosa', 'Iris-versicolor', 'Iris-versicolor', 'Iris-versicolor'],\n",
       " ['Iris-virginica', 'Iris-virginica', 'Iris-versicolor', 'Iris-versicolor'],\n",
       " ['Iris-versicolor', 'Iris-versicolor', 'Iris-versicolor', 'Iris-versicolor'],\n",
       " ['Iris-virginica', 'Iris-virginica', 'Iris-versicolor', 'Iris-versicolor'],\n",
       " ['Iris-virginica', 'Iris-versicolor', 'Iris-versicolor', 'Iris-versicolor'],\n",
       " ['Iris-versicolor', 'Iris-virginica', 'Iris-versicolor', 'Iris-versicolor'],\n",
       " ['Iris-versicolor', 'Iris-versicolor', 'Iris-versicolor', 'Iris-versicolor'],\n",
       " ['Iris-versicolor', 'Iris-virginica', 'Iris-versicolor', 'Iris-versicolor'],\n",
       " ['Iris-versicolor', 'Iris-versicolor', 'Iris-versicolor', 'Iris-versicolor'],\n",
       " ['Iris-versicolor', 'Iris-versicolor', 'Iris-versicolor', 'Iris-versicolor'],\n",
       " ['Iris-virginica', 'Iris-virginica', 'Iris-virginica', 'Iris-virginica'],\n",
       " ['Iris-virginica', 'Iris-virginica', 'Iris-virginica', 'Iris-virginica'],\n",
       " ['Iris-setosa', 'Iris-versicolor', 'Iris-versicolor', 'Iris-virginica'],\n",
       " ['Iris-virginica', 'Iris-virginica', 'Iris-virginica', 'Iris-virginica'],\n",
       " ['Iris-virginica', 'Iris-virginica', 'Iris-virginica', 'Iris-virginica'],\n",
       " ['Iris-versicolor', 'Iris-versicolor', 'Iris-versicolor', 'Iris-virginica'],\n",
       " ['Iris-virginica', 'Iris-setosa', 'Iris-virginica', 'Iris-virginica'],\n",
       " ['Iris-virginica', 'Iris-virginica', 'Iris-virginica', 'Iris-versicolor'],\n",
       " ['Iris-virginica', 'Iris-versicolor', 'Iris-virginica', 'Iris-virginica'],\n",
       " ['Iris-virginica', 'Iris-virginica', 'Iris-virginica', 'Iris-virginica'],\n",
       " ['Iris-virginica', 'Iris-setosa', 'Iris-virginica', 'Iris-virginica'],\n",
       " ['Iris-versicolor', 'Iris-virginica', 'Iris-virginica', 'Iris-virginica']]"
      ]
     },
     "metadata": {},
     "execution_count": 100
    }
   ],
   "source": [
    "DataPred = []\n",
    "row = 0; col = 0; specie = 0\n",
    "for row in range(speciesDiff[0].shape[0]):\n",
    "    rowPred = []\n",
    "    for col in range(speciesDiff[0].shape[1]):\n",
    "        minValue = speciesDiff[0][row][col]\n",
    "        minIndex = 0\n",
    "        for specie in range(3):\n",
    "            value = speciesDiff[specie][row][col] \n",
    "            if(value < minValue):\n",
    "                minValue = value\n",
    "                minIndex = specie\n",
    "        rowPred.append(species[minIndex])\n",
    "    DataPred.append(rowPred)\n",
    "DataPred"
   ]
  },
  {
   "source": [
    "## Extracting prediction"
   ],
   "cell_type": "markdown",
   "metadata": {}
  },
  {
   "cell_type": "code",
   "execution_count": 129,
   "metadata": {},
   "outputs": [
    {
     "output_type": "execute_result",
     "data": {
      "text/plain": [
       "['Iris-setosa',\n",
       " 'Iris-setosa',\n",
       " 'Iris-setosa',\n",
       " 'Iris-setosa',\n",
       " 'Iris-setosa',\n",
       " 'Iris-setosa',\n",
       " 'Iris-setosa',\n",
       " 'Iris-versicolor',\n",
       " 'Iris-versicolor',\n",
       " 'Iris-versicolor',\n",
       " 'Iris-versicolor',\n",
       " 'Iris-versicolor',\n",
       " 'Iris-versicolor',\n",
       " 'Iris-versicolor',\n",
       " 'Iris-versicolor',\n",
       " 'Iris-versicolor',\n",
       " 'Iris-versicolor',\n",
       " 'Iris-versicolor',\n",
       " 'Iris-virginica',\n",
       " 'Iris-virginica',\n",
       " 'Iris-versicolor',\n",
       " 'Iris-virginica',\n",
       " 'Iris-virginica',\n",
       " 'Iris-versicolor',\n",
       " 'Iris-virginica',\n",
       " 'Iris-virginica',\n",
       " 'Iris-virginica',\n",
       " 'Iris-virginica',\n",
       " 'Iris-virginica',\n",
       " 'Iris-virginica']"
      ]
     },
     "metadata": {},
     "execution_count": 129
    }
   ],
   "source": [
    "np_Data_Pred = np.array(DataPred)\n",
    "y_pred = []\n",
    "for i in range( np_Data_Pred.shape[0] ):\n",
    "    mode = stats.mode(np_Data_Pred[i])[0][0]\n",
    "    y_pred.append(mode)\n",
    "y_pred"
   ]
  },
  {
   "cell_type": "code",
   "execution_count": 123,
   "metadata": {},
   "outputs": [
    {
     "output_type": "execute_result",
     "data": {
      "text/plain": [
       "1          Iris-setosa\n",
       "14         Iris-setosa\n",
       "20         Iris-setosa\n",
       "21         Iris-setosa\n",
       "37         Iris-setosa\n",
       "41         Iris-setosa\n",
       "48         Iris-setosa\n",
       "52     Iris-versicolor\n",
       "57     Iris-versicolor\n",
       "58     Iris-versicolor\n",
       "71     Iris-versicolor\n",
       "74     Iris-versicolor\n",
       "87     Iris-versicolor\n",
       "88     Iris-versicolor\n",
       "90     Iris-versicolor\n",
       "91     Iris-versicolor\n",
       "92     Iris-versicolor\n",
       "99     Iris-versicolor\n",
       "102     Iris-virginica\n",
       "103     Iris-virginica\n",
       "106     Iris-virginica\n",
       "107     Iris-virginica\n",
       "116     Iris-virginica\n",
       "121     Iris-virginica\n",
       "124     Iris-virginica\n",
       "129     Iris-virginica\n",
       "130     Iris-virginica\n",
       "140     Iris-virginica\n",
       "144     Iris-virginica\n",
       "149     Iris-virginica\n",
       "Name: Species, dtype: object"
      ]
     },
     "metadata": {},
     "execution_count": 123
    }
   ],
   "source": [
    "y_test"
   ]
  },
  {
   "source": [
    "## Showing percentage of correct predictions"
   ],
   "cell_type": "markdown",
   "metadata": {}
  },
  {
   "cell_type": "code",
   "execution_count": 140,
   "metadata": {},
   "outputs": [
    {
     "output_type": "stream",
     "name": "stdout",
     "text": [
      "accuracy of: 93.33%\n"
     ]
    }
   ],
   "source": [
    "hits = np.array(y_test) == np.array(y_pred)\n",
    "elems = y_test.shape[0]\n",
    "print(f'accuracy of: {round(np.sum(hits) / elems * 100, 2)}%')"
   ]
  },
  {
   "cell_type": "code",
   "execution_count": null,
   "metadata": {},
   "outputs": [],
   "source": []
  }
 ]
}